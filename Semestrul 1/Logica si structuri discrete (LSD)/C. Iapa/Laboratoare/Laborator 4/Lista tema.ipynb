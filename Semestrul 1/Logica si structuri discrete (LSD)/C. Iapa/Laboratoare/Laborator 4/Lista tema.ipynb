{
 "cells": [
  {
   "cell_type": "markdown",
   "metadata": {},
   "source": [
    "        PARTEA I"
   ]
  },
  {
   "cell_type": "code",
   "execution_count": 14,
   "metadata": {},
   "outputs": [
    {
     "name": "stdout",
     "output_type": "stream",
     "text": [
      "2\n",
      "4\n",
      "6\n",
      "8\n"
     ]
    },
    {
     "data": {
      "text/plain": [
       "[8, 6, 4, 2]"
      ]
     },
     "execution_count": 14,
     "metadata": {},
     "output_type": "execute_result"
    }
   ],
   "source": [
    "'''1. Fiind dată o listă cu numere naturale, afișați toate elementele pare.'''\n",
    "lista = [1, 2, 3, 4, 5, 6, 7, 8, 9]\n",
    "for i in lista:\n",
    "    if i % 2 == 0:\n",
    "        print(i)\n",
    "# cu reduce\n",
    "from functools import reduce\n",
    "reduce(lambda acc,x: [x] + acc if x % 2 == 0 else acc , lista, []) # [2, 4, 6, 8]\n",
    "\n"
   ]
  },
  {
   "cell_type": "code",
   "execution_count": 15,
   "metadata": {},
   "outputs": [
    {
     "name": "stdout",
     "output_type": "stream",
     "text": [
      "[2, 4, 6, 8]\n"
     ]
    }
   ],
   "source": [
    "lista = [1, 2, 3, 4, 5, 6, 7, 8, 9]\n",
    "# cu filter\n",
    "print(list(filter(lambda x: x % 2 == 0, lista)))# [2, 4, 6, 8]"
   ]
  },
  {
   "cell_type": "code",
   "execution_count": 1,
   "metadata": {},
   "outputs": [
    {
     "name": "stdout",
     "output_type": "stream",
     "text": [
      "si\n"
     ]
    },
    {
     "data": {
      "text/plain": [
       "['si']"
      ]
     },
     "execution_count": 1,
     "metadata": {},
     "output_type": "execute_result"
    }
   ],
   "source": [
    "'''2. Fiind dată o listă cu șiruri de caractere, afișați toate elementele care au mai puțin de 3 caractere.'''\n",
    "lista = ['ana', 'are', 'mere', 'si', 'pere']\n",
    "for i in lista:\n",
    "    if len(i) < 3:\n",
    "        print(i)\n",
    "\n",
    "# cu reduce\n",
    "from functools import reduce\n",
    "reduce(lambda acc, elem: [elem] + acc if len(elem) < 3 else acc, lista, [])\n",
    "\n"
   ]
  },
  {
   "cell_type": "code",
   "execution_count": 36,
   "metadata": {},
   "outputs": [
    {
     "name": "stdout",
     "output_type": "stream",
     "text": [
      "['si']\n"
     ]
    }
   ],
   "source": [
    "#cu filter\n",
    "print(list(filter(lambda x: len(x) < 3, lista)))\n"
   ]
  },
  {
   "cell_type": "code",
   "execution_count": 4,
   "metadata": {},
   "outputs": [
    {
     "name": "stdout",
     "output_type": "stream",
     "text": [
      "[1, 2, 3, 4, 5, 6, 7, 8, 9]\n",
      "[9, 8, 7, 6, 5, 4, 3, 2, 1]\n",
      "9\n",
      "1\n",
      "45\n",
      "362880\n",
      "[9, 8, 7, 6, 5, 4, 3, 2, 1]\n",
      "[2, 4, 6, 8]\n",
      "[2, 4, 6, 8]\n",
      "[1, 3, 5, 7, 9]\n",
      "[1, 3, 5, 7, 9]\n",
      "[2, 3, 5, 7]\n"
     ]
    }
   ],
   "source": [
    "'''3. Se dă o listă cu mai multe tipuri de date (întregi, reale, șiruri de caractere, valori booleene). \n",
    "Să se sorteze lista crescător, apoi descrescător. (explicatie: la rulare va da eroare pentru ca nu se pot sorta liste cu elemente de diferite tipuri. \n",
    "nu se poate compara numar<sir de caractere. Se pot sorta doar liste care contin acelasi tip de elemente)'''\n",
    "\n",
    "lista = [1, 2, 3, 4, 5, 6, 7, 8, 9]\n",
    "lista.sort()\n",
    "print(lista)\n",
    "lista.sort(reverse=True)\n",
    "print(lista)\n",
    "\n",
    "'''4. Se dă o listă cu numere întregi. Să se afișeze cel mai mare număr din listă.'''\n",
    "lista = [1, 2, 3, 4, 5, 6, 7, 8, 9]\n",
    "print(max(lista))\n",
    "\n",
    "'''5. Se dă o listă cu numere întregi. Să se afișeze cel mai mic număr din listă.'''\n",
    "lista = [1, 2, 3, 4, 5, 6, 7, 8, 9]\n",
    "print(min(lista))\n",
    "\n",
    "'''6. Se dă o listă cu numere întregi. Să se afișeze suma tuturor numerelor din listă.'''\n",
    "lista = [1, 2, 3, 4, 5, 6, 7, 8, 9]\n",
    "print(sum(lista))\n",
    "\n",
    "'''7. Se dă o listă cu numere întregi. Să se afișeze produsul tuturor numerelor din listă.'''\n",
    "lista = [1, 2, 3, 4, 5, 6, 7, 8, 9]\n",
    "from functools import reduce\n",
    "print(reduce(lambda acc, elem: acc * elem, lista, 1))\n",
    "\n",
    "'''8. Se dă o listă cu numere întregi. Să se afișeze lista inversată.'''\n",
    "lista = [1, 2, 3, 4, 5, 6, 7, 8, 9]\n",
    "print(lista[::-1])\n",
    "\n",
    "'''9. Se dă o listă cu numere întregi. Să se afișeze lista cu numerele pare.'''\n",
    "lista = [1, 2, 3, 4, 5, 6, 7, 8, 9]\n",
    "print(list(filter(lambda x: x % 2 == 0, lista)))\n",
    "\n",
    "def pare(x):\n",
    "    if x % 2 == 0:\n",
    "        return True\n",
    "    return False\n",
    "\n",
    "print(list(filter(pare, lista)))\n",
    "\n",
    "\n",
    "'''10. Se dă o listă cu numere întregi. Să se afișeze lista cu numerele impare.'''\n",
    "lista = [1, 2, 3, 4, 5, 6, 7, 8, 9]\n",
    "print(list(filter(lambda x: x % 2 != 0, lista)))\n",
    "\n",
    "def impare(x):\n",
    "    if x % 2 != 0:\n",
    "        return True\n",
    "    return False\n",
    "\n",
    "print(list(filter(impare, lista)))\n",
    "\n",
    "'''11. Se dă o listă cu numere întregi. Să se afișeze lista cu numerele prime.'''\n",
    "lista = [1, 2, 3, 4, 5, 6, 7, 8, 9]\n",
    "def is_prime(x):\n",
    "    if x < 2:\n",
    "        return False\n",
    "    for i in range(2, x // 2 + 1):\n",
    "        if x % i == 0:\n",
    "            return False\n",
    "    return True\n",
    "\n",
    "print(list(filter(is_prime, lista)))\n"
   ]
  },
  {
   "cell_type": "code",
   "execution_count": 3,
   "metadata": {},
   "outputs": [
    {
     "name": "stdout",
     "output_type": "stream",
     "text": [
      "[11, 13, 24]\n",
      "[31, 10, 21]\n",
      "[11, 12, 122, 33, 23, 222]\n",
      "[23, 33, 333]\n"
     ]
    }
   ],
   "source": [
    "'''4. Să se sorteze o listă care conține numere întregi în funcție de ultima cifră a numărului ( în ordine crescătoare a ultimei cifre din număr).'''\n",
    "lista = [11, 13, 24]\n",
    "lista.sort(key=lambda x: x % 10)\n",
    "print(lista)\n",
    "\n",
    "'''5. Să se sorteze o listă care conține numere întregi în funcție de numărul de divizori ai numărului ( în ordine crescătoare a numărului de divizori).'''\n",
    "lista = [10, 21, 31]\n",
    "lista.sort(key=lambda x: len(list(filter(lambda y: x % y == 0, range(1, x + 1)))))\n",
    "print(lista)\n",
    "\n",
    "'''6. Să se sorteze o listă care conține numere întregi în funcție de numărul de apariții ale ultimei cifre din număr ( în ordine crescătoare a numărului de apariții).'''\n",
    "lista = [11, 12 , 122 , 33, 23, 222]\n",
    "lista.sort(key=lambda x: len(list(filter(lambda y: y % 10 == x % 10, lista))))\n",
    "print(lista)\n",
    "\n",
    "'''7. Să se sorteze o listă care conține numere întregi în funcție de numărul de apariții ale cifrei 3 din număr ( în ordine crescătoare a numărului de apariții).'''\n",
    "lista = [23,33,333]\n",
    "lista.sort(key=lambda x: len(list(filter(lambda y: y == 3, str(x)))))\n",
    "print(lista)\n"
   ]
  },
  {
   "cell_type": "code",
   "execution_count": 4,
   "metadata": {},
   "outputs": [
    {
     "name": "stdout",
     "output_type": "stream",
     "text": [
      "9.383999999999999\n"
     ]
    }
   ],
   "source": [
    "'''5. Să se înmulțească toate elementele unei liste de numere reale. Se va folosi funcția reduce().'''\n",
    "from functools import reduce\n",
    "lista = [1.2, 2.3, 3.4]\n",
    "print(reduce(lambda acc, el: acc * el, lista, 1))"
   ]
  },
  {
   "cell_type": "code",
   "execution_count": 5,
   "metadata": {},
   "outputs": [
    {
     "name": "stdout",
     "output_type": "stream",
     "text": [
      "[1, 8, 27]\n"
     ]
    }
   ],
   "source": [
    "'''6. Să se creeze o nouă listă care să conțină toate elementele unei liste inițiale la puterea a 3-a. Se va folosi funcția map().'''\n",
    "lista = [1, 2, 3]\n",
    "print(list(map(lambda x: x ** 3, lista)))"
   ]
  },
  {
   "cell_type": "code",
   "execution_count": 7,
   "metadata": {},
   "outputs": [
    {
     "name": "stdout",
     "output_type": "stream",
     "text": [
      "[2, 3, 5, 7]\n"
     ]
    }
   ],
   "source": [
    "'''7. Să se creeze o nouă listă care conține doar elementele numere prime dintr-o listă inițială. Se va folosi funcția filter(). '''\n",
    "lista = [1, 2, 3, 4, 5, 6, 7, 8, 9]\n",
    "def prime(x):\n",
    "    if x < 2:\n",
    "        return False\n",
    "    else:\n",
    "        for i in range(2, x // 2 +1):\n",
    "            if x% i ==0:\n",
    "                return False \n",
    "    return True\n",
    "print(list(filter(prime, lista)))"
   ]
  },
  {
   "cell_type": "markdown",
   "metadata": {},
   "source": [
    "        PARTEA A II A"
   ]
  },
  {
   "cell_type": "code",
   "execution_count": 12,
   "metadata": {},
   "outputs": [
    {
     "name": "stdout",
     "output_type": "stream",
     "text": [
      "[2, 4, 6, 8]\n",
      "[2, 4, 6]\n",
      "123456\n"
     ]
    }
   ],
   "source": [
    "'''1. a) Implementați funcții care construiesc lista cifrelor unui număr care satisfac o condiție anume (cifre impare, pare, mai mici decât 7, etc. la alegere), \n",
    "în ordine normală și inversă\n",
    "\n",
    "b) Implementați o funcție care construiește lista cifrelor unui număr care satisfac o condiție dată ca parametru sub forma unei funcții cu tipul int -> bool.\n",
    "\n",
    "c) Invers, dată fiind o listă de cifre, construiți numărul format doar din cifrele care respectă o condiție (dată ca parametru funcție cu tipul int -> bool). \n",
    "Rezolvați problema direct, recursiv, și apoi prin folosirea lui filter (selectarea cifrelor) cu reduce (pentru construirea numărului).'''\n",
    "\n",
    "def lista_cifre(x):\n",
    "    return list(map(int, str(x)))\n",
    "# a\n",
    "def pare(x):\n",
    "    if x % 2 == 0:\n",
    "        return True\n",
    "    return False\n",
    "def c_lista(conditie,lista):\n",
    "    return list(filter(conditie, lista))\n",
    "print(c_lista(pare, lista))\n",
    "\n",
    "# b\n",
    "def construieste_lista_cifre(numar, conditie):\n",
    "    # Obține cifrele numărului care satisfac condiția\n",
    "    cifre = [int(digit) for digit in str(numar) if conditie(int(digit))]\n",
    "    \n",
    "    return cifre\n",
    "\n",
    "print(construieste_lista_cifre(123456, lambda x: x % 2 == 0))\n",
    "\n",
    "# c\n",
    "def construieste_numar(cifre):\n",
    "    # Construiește numărul din cifre\n",
    "    numar = reduce(lambda acc, x: acc * 10 + x, cifre, 0)\n",
    "    \n",
    "    return numar\n",
    "\n",
    "print(construieste_numar([1, 2, 3, 4, 5, 6]))"
   ]
  },
  {
   "cell_type": "code",
   "execution_count": 13,
   "metadata": {},
   "outputs": [
    {
     "name": "stdout",
     "output_type": "stream",
     "text": [
      "[1, 2, 3, 4, 5]\n"
     ]
    }
   ],
   "source": [
    "'''2. Implementați funcția fromto care generează lista numerelor întregi dintr-un interval dat, scrieți o funcție care creează lista tuturor întregilor \n",
    "dintr-un interval dat, divizibili cu o valoare dată d.\n",
    "Indicație: Găsiți cel mai mare număr divizibil din interval, și continuați pas cu pas.'''\n",
    "def fromto(start, stop):\n",
    "    if start == stop:\n",
    "        return [start]\n",
    "    return [start] + fromto(start + 1, stop)\n",
    "\n",
    "print(fromto(1, 5))\n"
   ]
  },
  {
   "cell_type": "code",
   "execution_count": 14,
   "metadata": {},
   "outputs": [
    {
     "name": "stdout",
     "output_type": "stream",
     "text": [
      "3\n",
      "[1, 2]\n"
     ]
    }
   ],
   "source": [
    "'''3. a) Implementați funcția nth care returnează al n-lea element dintr-o listă.\n",
    "b) Implementați o funcție firstn care returnează o listă cu primele n elemente dintr-o listă dată.'''\n",
    "def nth(lista, n):\n",
    "    return lista[n]\n",
    "\n",
    "print(nth([1, 2, 3, 4, 5], 2))\n",
    "\n",
    "def firstn(lista, n):\n",
    "    return lista[:n]\n",
    "\n",
    "print(firstn([1, 2, 3, 4, 5], 2))"
   ]
  },
  {
   "cell_type": "markdown",
   "metadata": {},
   "source": [
    "        Parcurgeri de liste"
   ]
  },
  {
   "cell_type": "code",
   "execution_count": 15,
   "metadata": {},
   "outputs": [
    {
     "name": "stdout",
     "output_type": "stream",
     "text": [
      "[2, 4, 6]\n"
     ]
    }
   ],
   "source": [
    "'''5. a) Implementați o funcție numita filter, cu acelasi comportament ca si functia predefintita filter, folosind reduce().\n",
    "b) Implementați funcția exists care determină (returnează adevărat/fals) dacă există un element din listă care satisface o condiție\n",
    " (o funcție de element cu valoare booleană, dată ca parametru).'''\n",
    "\n",
    "def my_filter(conditie, lista):\n",
    "    return reduce(lambda acc, el: acc +[el] if conditie(el) else acc, lista, [])\n",
    "\n",
    "print(my_filter(lambda x: x % 2 == 0, [1, 2, 3, 4, 5, 6]))"
   ]
  },
  {
   "cell_type": "code",
   "execution_count": 17,
   "metadata": {},
   "outputs": [
    {
     "name": "stdout",
     "output_type": "stream",
     "text": [
      "3\n"
     ]
    }
   ],
   "source": [
    "'''6. a) Implementați folosind reduce o funcție countif care ia ca parametru o funcție f cu valori boolene și o listă și returnează numărul\n",
    " de elemente pentru care funcția f e adevărată.\n",
    "b) Implementați similar o funcție sumif care calculează suma tuturor elementelor (presupuse întregi) pentru care funcția f e adevărată.'''\n",
    "\n",
    "def countif(conditie, lista):\n",
    "    return reduce(lambda acc, el: acc + 1 if conditie(el) else acc, lista, 0)\n",
    "\n",
    "print(countif(lambda x: x % 2 == 0, [1, 2, 3, 4, 5, 6]))"
   ]
  },
  {
   "cell_type": "code",
   "execution_count": 18,
   "metadata": {},
   "outputs": [
    {
     "name": "stdout",
     "output_type": "stream",
     "text": [
      "([1, 3, 5, 6], [2, 4])\n",
      "[(1, 2), (3, 4), (5, 6)]\n"
     ]
    }
   ],
   "source": [
    "'''7. Implementați funcțiile split și combine care transformă o listă de perechi într-o pereche de liste, și invers.\n",
    "Ex: split([ (1,2), (3,4), 5,6)]) -> ([1,3,5], [2,4,6])  \n",
    "\n",
    "combine([1,3,5], [2,4,6]) -> [ (1,2), (3,4), 5,6)]'''\n",
    "\n",
    "def split(lista):\n",
    "    return reduce(lambda acc, el: (acc[0] + [el[0]], acc[1] + [el[1]]) if isinstance(el, tuple) else (acc[0] + [el], acc[1]), lista, ([], []))\n",
    "\n",
    "print(split([(1, 2), (3, 4), 5, 6]))\n",
    "\n",
    "def combine(lista1, lista2):\n",
    "    return reduce(lambda acc, el: acc + [(el[0], el[1])] if isinstance(el, tuple) else acc + [el], zip(lista1, lista2), [])\n",
    "\n",
    "print(combine([1, 3, 5], [2, 4, 6]))"
   ]
  },
  {
   "cell_type": "code",
   "execution_count": 22,
   "metadata": {},
   "outputs": [
    {
     "name": "stdout",
     "output_type": "stream",
     "text": [
      "([6, 7, 5, 8, 9], [4, 4])\n"
     ]
    }
   ],
   "source": [
    "'''8. Implementați funcția partition care ia ca parametru o funcție cu valori boolene și o listă și returnează\n",
    " o pereche de liste, cu elementele care satisfac, respectiv nu satisfac funcția f.\n",
    "# partition (lambda x : x >= 5) [4,6,7,5,4,8,9] -> ([6, 7, 5, 8, 9], [4, 4])'''\n",
    "\n",
    "def partition(f, lista):\n",
    "    satisfacatoare = [elem for elem in lista if f(elem)]\n",
    "    nesatisfacatoare = [elem for elem in lista if not f(elem)]\n",
    "    return satisfacatoare, nesatisfacatoare\n",
    "\n",
    "# Exemplu de utilizare:\n",
    "rezultat = partition(lambda x: x >= 5, [4, 6, 7, 5, 4, 8, 9])\n",
    "\n",
    "print(rezultat)\n"
   ]
  },
  {
   "cell_type": "code",
   "execution_count": 29,
   "metadata": {},
   "outputs": [
    {
     "data": {
      "text/plain": [
       "'9. Scrieți o funcție care ia o listă de cifre și returnează valoarea numărului cu cifrele respective.'"
      ]
     },
     "execution_count": 29,
     "metadata": {},
     "output_type": "execute_result"
    }
   ],
   "source": [
    "'''9. Scrieți o funcție care ia o listă de cifre și returnează valoarea numărului cu cifrele respective.'''\n",
    "def construieste_numar(cifre):\n",
    "    return reduce(lambda acc, el: acc * 10 + el, cifre, 0)"
   ]
  },
  {
   "cell_type": "code",
   "execution_count": 5,
   "metadata": {},
   "outputs": [
    {
     "name": "stdout",
     "output_type": "stream",
     "text": [
      "[1, 2, 3, 4, 5, 3]\n"
     ]
    }
   ],
   "source": [
    "'''10. Scrieți o funcție care elimină duplicatele consecutive: ia ca parametru o listă și construiește o listă în care toate secvențele de elemente consecutive egale au fost înlocuite cu un singur element.'''\n",
    "def elimina_duplicate(lista):\n",
    "    return reduce(lambda acc, el: acc + [el] if acc == [] or acc[-1] != el else acc, lista, [])\n",
    "\n",
    "print(elimina_duplicate([1, 2, 2, 3, 3, 3, 4, 5, 5, 5, 5,3]))"
   ]
  },
  {
   "cell_type": "code",
   "execution_count": 24,
   "metadata": {},
   "outputs": [
    {
     "name": "stdout",
     "output_type": "stream",
     "text": [
      "-1\n"
     ]
    }
   ],
   "source": [
    "'''11. Scrieți o funcție care compară două liste după următoarea relație de ordine: o listă mai scurtă e \n",
    "\"mai mică\" decât una mai lungă; dacă lungimile sunt egale, ordonarea e determinată de prima pereche de elemente diferite.\n",
    " Evitați parcurgerea inutilă sau repetată a listelor. Funcția va returna un întreg negativ, 0 sau pozitiv în funcție de ordonarea celor două liste argument.'''\n",
    "\n",
    "def compara_liste(lista1, lista2):\n",
    "    if len(lista1) < len(lista2):\n",
    "        return -1\n",
    "    elif len(lista1) > len(lista2):\n",
    "        return 1\n",
    "    else:\n",
    "        for i in range(len(lista1)):\n",
    "            if lista1[i] < lista2[i]:\n",
    "                return -1\n",
    "            elif lista1[i] > lista2[i]:\n",
    "                return 1\n",
    "        return 0\n",
    "    \n",
    "print(compara_liste([1, 2, 3], [1, 2, 3, 4]))"
   ]
  },
  {
   "cell_type": "markdown",
   "metadata": {},
   "source": [
    "        Sortarea prin interclasare"
   ]
  },
  {
   "cell_type": "code",
   "execution_count": 25,
   "metadata": {},
   "outputs": [
    {
     "name": "stdout",
     "output_type": "stream",
     "text": [
      "[1, 2, 3, 4, 5, 6]\n"
     ]
    }
   ],
   "source": [
    "'''12. Scrieți o funcție care interclasează două liste, fiecare ordonată crescător, adică returnează lista cu elementele din ambele liste, ordonate.\n",
    "Comparați primele elemente din ambele liste pentru a decide care va fi primul în rezultat, și apoi continuați cu listele rămase. '''\n",
    "def interclaseaza(lista1, lista2):\n",
    "    if lista1 == []:\n",
    "        return lista2\n",
    "    elif lista2 == []:\n",
    "        return lista1\n",
    "    else:\n",
    "        if lista1[0] < lista2[0]:\n",
    "            return [lista1[0]] + interclaseaza(lista1[1:], lista2)\n",
    "        else:\n",
    "            return [lista2[0]] + interclaseaza(lista1, lista2[1:])\n",
    "        \n",
    "print(interclaseaza([1, 3, 5], [2, 4, 6]))"
   ]
  },
  {
   "cell_type": "code",
   "execution_count": 26,
   "metadata": {},
   "outputs": [
    {
     "name": "stdout",
     "output_type": "stream",
     "text": [
      "([1, 3, 5, 7, 9], [2, 4, 6, 8])\n"
     ]
    }
   ],
   "source": [
    "'''13. Scrieți o funcție care desparte o listă în două liste a căror lungime diferă cu cel mult 1, \n",
    "punând alternativ câte un element în fiecare din liste. (Funcția va returna o pereche de liste).'''\n",
    "\n",
    "def desparte(lista):\n",
    "    lista1 = []\n",
    "    lista2 = []\n",
    "    for i in range(len(lista)):\n",
    "        if i % 2 == 0:\n",
    "            lista1.append(lista[i])\n",
    "        else:\n",
    "            lista2.append(lista[i])\n",
    "    return lista1, lista2\n",
    "\n",
    "print(desparte([1, 2, 3, 4, 5, 6, 7, 8, 9]))"
   ]
  },
  {
   "cell_type": "code",
   "execution_count": 27,
   "metadata": {},
   "outputs": [
    {
     "name": "stdout",
     "output_type": "stream",
     "text": [
      "[1, 2, 3, 4, 5, 6]\n"
     ]
    }
   ],
   "source": [
    "'''14. Sortați o listă prin interclasare (mergesort), despărțind lista în două jumătăți, sortând recursiv fiecare din ele,\n",
    " și apoi interclasând cele două liste sortate. Folosiți funcțiile din cele două probleme anterioare.'''\n",
    "\n",
    "def mergesort(lista):\n",
    "    if len(lista) <= 1:\n",
    "        return lista\n",
    "    else:\n",
    "        lista1, lista2 = desparte(lista)\n",
    "        lista1 = mergesort(lista1)\n",
    "        lista2 = mergesort(lista2)\n",
    "        return interclaseaza(lista1, lista2)\n",
    "    \n",
    "print(mergesort([1, 3, 5, 2, 4, 6]))"
   ]
  }
 ],
 "metadata": {
  "kernelspec": {
   "display_name": "Python 3",
   "language": "python",
   "name": "python3"
  },
  "language_info": {
   "codemirror_mode": {
    "name": "ipython",
    "version": 3
   },
   "file_extension": ".py",
   "mimetype": "text/x-python",
   "name": "python",
   "nbconvert_exporter": "python",
   "pygments_lexer": "ipython3",
   "version": "3.12.0"
  }
 },
 "nbformat": 4,
 "nbformat_minor": 2
}
