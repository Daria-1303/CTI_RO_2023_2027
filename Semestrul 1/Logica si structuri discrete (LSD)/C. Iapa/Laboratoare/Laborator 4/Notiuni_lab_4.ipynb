{
  "cells": [
    {
      "cell_type": "markdown",
      "metadata": {
        "id": "ZaH1o2LGJmJi"
      },
      "source": [
        "# **Liste**"
      ]
    },
    {
      "cell_type": "markdown",
      "metadata": {},
      "source": [
        "# **Liste**"
      ]
    },
    {
      "cell_type": "markdown",
      "metadata": {
        "id": "jh2JznY3KBia"
      },
      "source": [
        "În Python, o listă este o structură de date care permite stocarea mai multor elemente într-o singură variabilă. Listele sunt un tip de obiect secvențial, ceea ce înseamnă că elementele lor sunt ordonate și pot fi accesate folosind un index numeric."
      ]
    },
    {
      "cell_type": "markdown",
      "metadata": {
        "id": "vNfC45ogKDYt"
      },
      "source": [
        "### **Crearea unei liste**"
      ]
    },
    {
      "cell_type": "markdown",
      "metadata": {
        "id": "Cce8Sr45KT-N"
      },
      "source": [
        "O listă este creată prin adaugarea elementelor în paranteze drepte [ ], separate prin virgulă."
      ]
    },
    {
      "cell_type": "code",
      "execution_count": 16,
      "metadata": {
        "colab": {
          "base_uri": "https://localhost:8080/"
        },
        "id": "Kz_ZGt6yKS7Z",
        "outputId": "9d8030ab-1c4c-4499-f75e-0f166e74c2c7"
      },
      "outputs": [
        {
          "name": "stdout",
          "output_type": "stream",
          "text": [
            "[1, 2, 3]\n"
          ]
        }
      ],
      "source": [
        "lista = [1, 2, 3]\n",
        "print(lista)"
      ]
    },
    {
      "cell_type": "markdown",
      "metadata": {
        "id": "-r3oE0MyLXXn"
      },
      "source": [
        "Elementele unei liste pot fi de orice tip de date, inclusiv numere întregi, numere reale, șiruri de caractere, alte liste sau chiar obiecte."
      ]
    },
    {
      "cell_type": "code",
      "execution_count": 17,
      "metadata": {
        "colab": {
          "base_uri": "https://localhost:8080/"
        },
        "id": "ouPjt_0BJhkq",
        "outputId": "88de2fc2-7112-4472-fa42-c7b542ddd6b4"
      },
      "outputs": [
        {
          "name": "stdout",
          "output_type": "stream",
          "text": [
            "[1, 2, 3]\n",
            "['a', 'b', 'c']\n",
            "[1, 'a', [1, 2, 3]]\n"
          ]
        }
      ],
      "source": [
        "#lista intregi\n",
        "lista_int = [1, 2, 3]\n",
        "print(lista_int)\n",
        "\n",
        "#lista caractere\n",
        "lista_char = ['a', 'b', 'c']\n",
        "print(lista_char)\n",
        "\n",
        "#lista mixta\n",
        "lista_mix = [1, 'a', [1, 2, 3]]\n",
        "print(lista_mix)"
      ]
    },
    {
      "cell_type": "markdown",
      "metadata": {
        "id": "e_A6c9smLFz4"
      },
      "source": [
        "### **Accesarea elementelor unei liste**"
      ]
    },
    {
      "cell_type": "markdown",
      "metadata": {
        "id": "okCYVv0GLKfn"
      },
      "source": [
        "Puteți accesa elementele unei liste utilizând indexul acestora. Indexul începe de la 0 pentru primul element și crește cu 1 pentru fiecare element următor. De exemplu:"
      ]
    },
    {
      "cell_type": "code",
      "execution_count": 18,
      "metadata": {
        "id": "dYLp6mI0LpD6"
      },
      "outputs": [],
      "source": [
        "lista = [1, 2, 3, 4, 5, 6, 7]"
      ]
    },
    {
      "cell_type": "code",
      "execution_count": 19,
      "metadata": {
        "colab": {
          "base_uri": "https://localhost:8080/"
        },
        "id": "vgvwhAeTLxZp",
        "outputId": "5f48b6bb-c951-48e5-cb85-64dbd3685e85"
      },
      "outputs": [
        {
          "name": "stdout",
          "output_type": "stream",
          "text": [
            "1\n"
          ]
        }
      ],
      "source": [
        "print(lista[0])"
      ]
    },
    {
      "cell_type": "code",
      "execution_count": 20,
      "metadata": {
        "colab": {
          "base_uri": "https://localhost:8080/"
        },
        "id": "iTqpwI87L0pp",
        "outputId": "fdb72089-cb39-4467-e266-5d9da660d1f8"
      },
      "outputs": [
        {
          "name": "stdout",
          "output_type": "stream",
          "text": [
            "2\n"
          ]
        }
      ],
      "source": [
        "print(lista[1])"
      ]
    },
    {
      "cell_type": "code",
      "execution_count": 21,
      "metadata": {
        "colab": {
          "base_uri": "https://localhost:8080/"
        },
        "id": "RcO-aId1L8FZ",
        "outputId": "41dccee5-a887-4fef-e4ee-4f16f8239ddb"
      },
      "outputs": [
        {
          "name": "stdout",
          "output_type": "stream",
          "text": [
            "7\n"
          ]
        }
      ],
      "source": [
        "print(lista[6])"
      ]
    },
    {
      "cell_type": "code",
      "execution_count": 22,
      "metadata": {
        "colab": {
          "base_uri": "https://localhost:8080/",
          "height": 179
        },
        "id": "vXIogf2tL3KG",
        "outputId": "e0579151-3b37-4438-e0c8-8a1f0256d91f"
      },
      "outputs": [
        {
          "ename": "IndexError",
          "evalue": "list index out of range",
          "output_type": "error",
          "traceback": [
            "\u001b[1;31m---------------------------------------------------------------------------\u001b[0m",
            "\u001b[1;31mIndexError\u001b[0m                                Traceback (most recent call last)",
            "Cell \u001b[1;32mIn[22], line 1\u001b[0m\n\u001b[1;32m----> 1\u001b[0m \u001b[38;5;28mprint\u001b[39m(\u001b[43mlista\u001b[49m\u001b[43m[\u001b[49m\u001b[38;5;241;43m7\u001b[39;49m\u001b[43m]\u001b[49m)\n",
            "\u001b[1;31mIndexError\u001b[0m: list index out of range"
          ]
        }
      ],
      "source": [
        "print(lista[7])"
      ]
    },
    {
      "cell_type": "code",
      "execution_count": null,
      "metadata": {
        "colab": {
          "base_uri": "https://localhost:8080/"
        },
        "id": "71HH5SsEMARG",
        "outputId": "19f0b574-2d6e-4c3e-e1fe-993e422dfd9c"
      },
      "outputs": [
        {
          "name": "stdout",
          "output_type": "stream",
          "text": [
            "7\n"
          ]
        }
      ],
      "source": [
        "print(lista[-1]) # ultimul element"
      ]
    },
    {
      "cell_type": "code",
      "execution_count": null,
      "metadata": {
        "colab": {
          "base_uri": "https://localhost:8080/"
        },
        "id": "ybEiT1D4MDIm",
        "outputId": "9b2424a1-8a52-471f-e019-2ed6628be619"
      },
      "outputs": [
        {
          "name": "stdout",
          "output_type": "stream",
          "text": [
            "6\n"
          ]
        }
      ],
      "source": [
        "print(lista[-2]) # penultimul element"
      ]
    },
    {
      "cell_type": "markdown",
      "metadata": {
        "id": "r8BuwnzVMMY8"
      },
      "source": [
        "### **Numarul de elemente al unei liste**"
      ]
    },
    {
      "cell_type": "markdown",
      "metadata": {
        "id": "LVUxSZtxMRhC"
      },
      "source": [
        "Puteți obține lungimea unei liste folosind funcția len()."
      ]
    },
    {
      "cell_type": "code",
      "execution_count": null,
      "metadata": {
        "colab": {
          "base_uri": "https://localhost:8080/"
        },
        "id": "hcQkIOtrMYK7",
        "outputId": "c9d9baed-2014-41c0-a81c-430f9fcd0fa1"
      },
      "outputs": [
        {
          "name": "stdout",
          "output_type": "stream",
          "text": [
            "7\n"
          ]
        }
      ],
      "source": [
        "numar_elemente = len(lista)\n",
        "print(numar_elemente)"
      ]
    },
    {
      "cell_type": "markdown",
      "metadata": {
        "id": "n1npfgKvNLuy"
      },
      "source": [
        "### **Taierea unei liste (List Slicing)**"
      ]
    },
    {
      "cell_type": "markdown",
      "metadata": {
        "id": "_VK3rvNMNPQ0"
      },
      "source": [
        "Putem accesa o serie de elemente dintr-o listă folosind operatorul de tăiere : (două puncte).\n",
        "\n",
        "Când tăiem liste, indexul de început este inclusiv, iar indexul de final este exclusiv. De exemplu, lista[2: 4] returnează o listă cu elemente la indexul 2, 3, dar nu 4."
      ]
    },
    {
      "cell_type": "code",
      "execution_count": null,
      "metadata": {
        "colab": {
          "base_uri": "https://localhost:8080/"
        },
        "id": "CNGNZ10VNOKn",
        "outputId": "a311b93e-ed3d-4443-af7f-789f1131df8b"
      },
      "outputs": [
        {
          "name": "stdout",
          "output_type": "stream",
          "text": [
            "[3, 4]\n"
          ]
        }
      ],
      "source": [
        "print(lista[2:4])"
      ]
    },
    {
      "cell_type": "code",
      "execution_count": null,
      "metadata": {
        "colab": {
          "base_uri": "https://localhost:8080/"
        },
        "id": "PIS5nHZJNmXx",
        "outputId": "5f18b594-6835-4c6d-c237-eb634dbead68"
      },
      "outputs": [
        {
          "name": "stdout",
          "output_type": "stream",
          "text": [
            "[3, 4, 5, 6, 7]\n"
          ]
        }
      ],
      "source": [
        "print(lista[2:])"
      ]
    },
    {
      "cell_type": "code",
      "execution_count": null,
      "metadata": {
        "colab": {
          "base_uri": "https://localhost:8080/"
        },
        "id": "YNyOpmYnNqY5",
        "outputId": "2bf28ca3-25b8-468f-b5bf-7f176aa0ffc4"
      },
      "outputs": [
        {
          "name": "stdout",
          "output_type": "stream",
          "text": [
            "[3, 5, 7]\n"
          ]
        }
      ],
      "source": [
        "#lista = [1, 2, 3, 4, 5, 6, 7]\n",
        "print(lista[2::2])"
      ]
    },
    {
      "cell_type": "code",
      "execution_count": null,
      "metadata": {
        "colab": {
          "base_uri": "https://localhost:8080/"
        },
        "id": "iDy6QO60NuMU",
        "outputId": "84ef9b68-117f-4678-e0af-4d0dc933ce69"
      },
      "outputs": [
        {
          "name": "stdout",
          "output_type": "stream",
          "text": [
            "[1, 2, 3, 4, 5, 6, 7]\n"
          ]
        }
      ],
      "source": [
        "print(lista[:])"
      ]
    },
    {
      "cell_type": "code",
      "execution_count": null,
      "metadata": {
        "colab": {
          "base_uri": "https://localhost:8080/"
        },
        "id": "PGsY-XXkNyDK",
        "outputId": "5a703046-0342-4c49-f030-db50466cf163"
      },
      "outputs": [
        {
          "name": "stdout",
          "output_type": "stream",
          "text": [
            "[7, 6, 5, 4, 3, 2, 1]\n"
          ]
        }
      ],
      "source": [
        "print(lista[::-1])"
      ]
    },
    {
      "cell_type": "markdown",
      "metadata": {
        "id": "MD8oQp5-QTd4"
      },
      "source": [
        "**reverse()**:  inversează ordinea elementelor din listă."
      ]
    },
    {
      "cell_type": "code",
      "execution_count": null,
      "metadata": {
        "colab": {
          "base_uri": "https://localhost:8080/"
        },
        "id": "LAmg05jhQch7",
        "outputId": "63803de4-c64f-4525-8f44-a5f9807b5afa"
      },
      "outputs": [
        {
          "name": "stdout",
          "output_type": "stream",
          "text": [
            "[7, 6, 5, 4, 3, 2, 1]\n"
          ]
        }
      ],
      "source": [
        "lista.reverse()\n",
        "print(lista)"
      ]
    },
    {
      "cell_type": "code",
      "execution_count": null,
      "metadata": {
        "colab": {
          "base_uri": "https://localhost:8080/"
        },
        "id": "GKcqArJyQlgt",
        "outputId": "3e2abe79-e172-473d-c58d-7e40677096f3"
      },
      "outputs": [
        {
          "name": "stdout",
          "output_type": "stream",
          "text": [
            "[4, 3, 2, 1]\n",
            "1\n",
            "[1, 2, 3, 4]\n",
            "4\n",
            "[4, 3, 2, 1]\n"
          ]
        }
      ],
      "source": [
        "lista = [1, 2, 3, 4]\n",
        "print(lista[::-1])\n",
        "print(lista[0])\n",
        "print(lista)\n",
        "\n",
        "#cand nu folosim reverse() lista ramane neschimbata\n",
        "\n",
        "lista.reverse()\n",
        "print(lista[0])\n",
        "print(lista)\n",
        "\n",
        "# cand folosim reverse() lista se modifica si nu mai este cea initiala "
      ]
    },
    {
      "cell_type": "markdown",
      "metadata": {
        "id": "xqKubxEKN9kV"
      },
      "source": [
        "### **Concatenarea a doua liste**"
      ]
    },
    {
      "cell_type": "markdown",
      "metadata": {
        "id": "qyrVFA6nN_04"
      },
      "source": [
        "Putem folosi operatorul + pentru a concatena două liste."
      ]
    },
    {
      "cell_type": "code",
      "execution_count": null,
      "metadata": {
        "colab": {
          "base_uri": "https://localhost:8080/"
        },
        "id": "mcyejRw5OFr7",
        "outputId": "43acdf83-cb6f-48d0-f2e5-d74567455eaa"
      },
      "outputs": [
        {
          "name": "stdout",
          "output_type": "stream",
          "text": [
            "[1, 2, 3, 4, 5, 6, 7]\n"
          ]
        }
      ],
      "source": [
        "lista1 = [1, 2, 3, 4, 5]\n",
        "lista2 = [6, 7]\n",
        "lista_concatenata = lista1 + lista2\n",
        "print(lista_concatenata)"
      ]
    },
    {
      "cell_type": "markdown",
      "metadata": {
        "id": "iIewNWvfOVdX"
      },
      "source": [
        "### **Adaugarea de noi elemente la o lista**"
      ]
    },
    {
      "cell_type": "code",
      "execution_count": null,
      "metadata": {
        "colab": {
          "base_uri": "https://localhost:8080/"
        },
        "id": "FNlrBIXaO_K5",
        "outputId": "7aa84c4c-f951-40d0-af5b-1fbcd8b732e0"
      },
      "outputs": [
        {
          "name": "stdout",
          "output_type": "stream",
          "text": [
            "[1, 2, 3, 4]\n"
          ]
        }
      ],
      "source": [
        "element_nou = 4\n",
        "lista = [1, 2, 3]\n",
        "lista = lista + [element_nou]\n",
        "print(lista)"
      ]
    },
    {
      "cell_type": "markdown",
      "metadata": {
        "id": "LX-0nMXpPR0k"
      },
      "source": [
        "**append(element)**: adaugă un element specificat la finalul listei."
      ]
    },
    {
      "cell_type": "code",
      "execution_count": null,
      "metadata": {
        "colab": {
          "base_uri": "https://localhost:8080/"
        },
        "id": "lDj-vio7PTFN",
        "outputId": "0554f14e-f4ed-414c-b6de-d8049083b2e4"
      },
      "outputs": [
        {
          "name": "stdout",
          "output_type": "stream",
          "text": [
            "[1, 2, 3, 4]\n"
          ]
        }
      ],
      "source": [
        "lista = [1, 2, 3]\n",
        "lista.append(4)\n",
        "print(lista)"
      ]
    },
    {
      "cell_type": "markdown",
      "metadata": {
        "id": "sGk-tc6XPyvx"
      },
      "source": [
        "**insert(index, element)**: adaugă un element specificat la poziția specificată în listă, deplasând toate celelalte elemente spre dreapta."
      ]
    },
    {
      "cell_type": "code",
      "execution_count": null,
      "metadata": {
        "colab": {
          "base_uri": "https://localhost:8080/"
        },
        "id": "W4AJQiStQEuj",
        "outputId": "22f54f81-097a-435d-df90-2279aa9ec28a"
      },
      "outputs": [
        {
          "name": "stdout",
          "output_type": "stream",
          "text": [
            "[1, 4, 2, 3]\n"
          ]
        }
      ],
      "source": [
        "lista = [1, 2, 3]\n",
        "lista.insert(1, 4)\n",
        "print(lista)"
      ]
    },
    {
      "cell_type": "markdown",
      "metadata": {
        "id": "k7pSV2YBRG0W"
      },
      "source": [
        "### **Stergerea elementelor dintr-o lista**"
      ]
    },
    {
      "cell_type": "markdown",
      "metadata": {
        "id": "ESw0ZLYPRLYY"
      },
      "source": [
        "**remove(element)**: șterge prima apariție a elementului specificat din listă. Dacă elementul nu este găsit, va genera o excepție."
      ]
    },
    {
      "cell_type": "code",
      "execution_count": null,
      "metadata": {
        "colab": {
          "base_uri": "https://localhost:8080/"
        },
        "id": "KG-SWYoUSCZa",
        "outputId": "c8c5d8dd-2433-4f4a-baeb-9da0e4d636bd"
      },
      "outputs": [
        {
          "name": "stdout",
          "output_type": "stream",
          "text": [
            "[1, 3, 2, 2, 9]\n"
          ]
        }
      ],
      "source": [
        "lista = [1, 2, 3, 2, 2, 9]\n",
        "lista.remove(2)\n",
        "print(lista)"
      ]
    },
    {
      "cell_type": "code",
      "execution_count": null,
      "metadata": {
        "colab": {
          "base_uri": "https://localhost:8080/",
          "height": 179
        },
        "id": "EZlZVNbNSLla",
        "outputId": "5dc5a11f-2c79-4be9-9b6a-20d0860cb6e6"
      },
      "outputs": [
        {
          "ename": "ValueError",
          "evalue": "ignored",
          "output_type": "error",
          "traceback": [
            "\u001b[0;31m---------------------------------------------------------------------------\u001b[0m",
            "\u001b[0;31mValueError\u001b[0m                                Traceback (most recent call last)",
            "\u001b[0;32m<ipython-input-35-e976277c201c>\u001b[0m in \u001b[0;36m<cell line: 1>\u001b[0;34m()\u001b[0m\n\u001b[0;32m----> 1\u001b[0;31m \u001b[0mlista\u001b[0m\u001b[0;34m.\u001b[0m\u001b[0mremove\u001b[0m\u001b[0;34m(\u001b[0m\u001b[0;36m7\u001b[0m\u001b[0;34m)\u001b[0m\u001b[0;34m\u001b[0m\u001b[0;34m\u001b[0m\u001b[0m\n\u001b[0m",
            "\u001b[0;31mValueError\u001b[0m: list.remove(x): x not in list"
          ]
        }
      ],
      "source": [
        "lista.remove(7)"
      ]
    },
    {
      "cell_type": "markdown",
      "metadata": {
        "id": "i8e_0n0wSUpk"
      },
      "source": [
        "**pop(index)**: șterge și returnează elementul de la poziția specificată din listă. Dacă nu se specifică un index, va șterge și returna ultimul element."
      ]
    },
    {
      "cell_type": "code",
      "execution_count": null,
      "metadata": {
        "colab": {
          "base_uri": "https://localhost:8080/"
        },
        "id": "T2StTbdxSlDF",
        "outputId": "db71343e-9f58-489f-d1db-d4adf44a9570"
      },
      "outputs": [
        {
          "name": "stdout",
          "output_type": "stream",
          "text": [
            "9\n",
            "[1, 2, 3, 2, 2]\n"
          ]
        }
      ],
      "source": [
        "lista = [1, 2, 3, 2, 2, 9]\n",
        "element = lista.pop()\n",
        "print(element)\n",
        "print(lista)"
      ]
    },
    {
      "cell_type": "code",
      "execution_count": null,
      "metadata": {
        "colab": {
          "base_uri": "https://localhost:8080/"
        },
        "id": "FPQc29miSsW7",
        "outputId": "0a074b7e-f83d-4897-c103-b87f91d88790"
      },
      "outputs": [
        {
          "name": "stdout",
          "output_type": "stream",
          "text": [
            "2\n",
            "[1, 2, 3, 2, 9]\n"
          ]
        }
      ],
      "source": [
        "lista = [1, 2, 3, 2, 2, 9]\n",
        "element = lista.pop(3)\n",
        "print(element)\n",
        "print(lista)"
      ]
    },
    {
      "cell_type": "markdown",
      "metadata": {
        "id": "2BExErbzS1VW"
      },
      "source": [
        "**clear()**: șterge toate elementele dintr-o listă"
      ]
    },
    {
      "cell_type": "code",
      "execution_count": null,
      "metadata": {
        "colab": {
          "base_uri": "https://localhost:8080/"
        },
        "id": "QTmryhXRS6a_",
        "outputId": "48b2fae8-f602-41ef-d8be-a637149a3f6b"
      },
      "outputs": [
        {
          "name": "stdout",
          "output_type": "stream",
          "text": [
            "[]\n"
          ]
        }
      ],
      "source": [
        "lista = [1, 2, 3, 2, 2, 9]\n",
        "lista.clear()\n",
        "print(lista)"
      ]
    },
    {
      "cell_type": "markdown",
      "metadata": {
        "id": "by9W4NcuTEI_"
      },
      "source": [
        "### **Cautarea unui element intr-o lista**"
      ]
    },
    {
      "cell_type": "code",
      "execution_count": null,
      "metadata": {
        "colab": {
          "base_uri": "https://localhost:8080/"
        },
        "id": "42fLkWwzTdL6",
        "outputId": "ea0fe50f-e64e-49a9-b317-30f84b7908e8"
      },
      "outputs": [
        {
          "name": "stdout",
          "output_type": "stream",
          "text": [
            "3 se găsește în listă.\n"
          ]
        }
      ],
      "source": [
        "lista = [1, 2, 3, 4, 5]\n",
        "element = 3\n",
        "\n",
        "if element in lista:\n",
        "    print(f\"{element} se găsește în listă.\")"
      ]
    },
    {
      "cell_type": "markdown",
      "metadata": {
        "id": "5GOAvAQVTrky"
      },
      "source": [
        "**index()**: returnează indexul primei apariții a unui element într-o listă. Dacă elementul nu este găsit, va genera o excepție"
      ]
    },
    {
      "cell_type": "code",
      "execution_count": null,
      "metadata": {
        "colab": {
          "base_uri": "https://localhost:8080/"
        },
        "id": "ujxWEaufTwE0",
        "outputId": "57a1331c-f554-42e8-acda-bea87d14689c"
      },
      "outputs": [
        {
          "name": "stdout",
          "output_type": "stream",
          "text": [
            "2\n"
          ]
        }
      ],
      "source": [
        "lista = [1, 2, 3, 2, 2, 5]\n",
        "element = 3\n",
        "index = lista.index(element)\n",
        "print(index)"
      ]
    },
    {
      "cell_type": "code",
      "execution_count": null,
      "metadata": {
        "colab": {
          "base_uri": "https://localhost:8080/",
          "height": 232
        },
        "id": "tFqz2L46T_xA",
        "outputId": "74ab769f-6d92-48bc-da2c-0dd0f83617dc"
      },
      "outputs": [
        {
          "ename": "ValueError",
          "evalue": "ignored",
          "output_type": "error",
          "traceback": [
            "\u001b[0;31m---------------------------------------------------------------------------\u001b[0m",
            "\u001b[0;31mValueError\u001b[0m                                Traceback (most recent call last)",
            "\u001b[0;32m<ipython-input-44-3e05293e2f07>\u001b[0m in \u001b[0;36m<cell line: 3>\u001b[0;34m()\u001b[0m\n\u001b[1;32m      1\u001b[0m \u001b[0mlista\u001b[0m \u001b[0;34m=\u001b[0m \u001b[0;34m[\u001b[0m\u001b[0;36m1\u001b[0m\u001b[0;34m,\u001b[0m \u001b[0;36m2\u001b[0m\u001b[0;34m,\u001b[0m \u001b[0;36m3\u001b[0m\u001b[0;34m,\u001b[0m \u001b[0;36m2\u001b[0m\u001b[0;34m,\u001b[0m \u001b[0;36m2\u001b[0m\u001b[0;34m,\u001b[0m \u001b[0;36m5\u001b[0m\u001b[0;34m]\u001b[0m\u001b[0;34m\u001b[0m\u001b[0;34m\u001b[0m\u001b[0m\n\u001b[1;32m      2\u001b[0m \u001b[0melement\u001b[0m \u001b[0;34m=\u001b[0m \u001b[0;34m-\u001b[0m\u001b[0;36m1\u001b[0m\u001b[0;34m\u001b[0m\u001b[0;34m\u001b[0m\u001b[0m\n\u001b[0;32m----> 3\u001b[0;31m \u001b[0mindex\u001b[0m \u001b[0;34m=\u001b[0m \u001b[0mlista\u001b[0m\u001b[0;34m.\u001b[0m\u001b[0mindex\u001b[0m\u001b[0;34m(\u001b[0m\u001b[0melement\u001b[0m\u001b[0;34m)\u001b[0m\u001b[0;34m\u001b[0m\u001b[0;34m\u001b[0m\u001b[0m\n\u001b[0m\u001b[1;32m      4\u001b[0m \u001b[0mprint\u001b[0m\u001b[0;34m(\u001b[0m\u001b[0mindex\u001b[0m\u001b[0;34m)\u001b[0m\u001b[0;34m\u001b[0m\u001b[0;34m\u001b[0m\u001b[0m\n",
            "\u001b[0;31mValueError\u001b[0m: -1 is not in list"
          ]
        }
      ],
      "source": [
        "lista = [1, 2, 3, 2, 2, 5]\n",
        "element = -1\n",
        "index = lista.index(element)\n",
        "print(index)"
      ]
    },
    {
      "cell_type": "markdown",
      "metadata": {
        "id": "1xICnyfdUDdb"
      },
      "source": [
        "**count()**: returnează numărul de apariții ale unui element într-o listă."
      ]
    },
    {
      "cell_type": "code",
      "execution_count": null,
      "metadata": {
        "colab": {
          "base_uri": "https://localhost:8080/"
        },
        "id": "MuhlXkk6UJUO",
        "outputId": "d5c0ea36-1ed9-48b3-9c86-b30b4880c08d"
      },
      "outputs": [
        {
          "name": "stdout",
          "output_type": "stream",
          "text": [
            "3\n"
          ]
        }
      ],
      "source": [
        "lista = [1, 2, 3, 2, 2, 5]\n",
        "element = 2\n",
        "\n",
        "numar_aparitii = lista.count(element)\n",
        "print(numar_aparitii)"
      ]
    },
    {
      "cell_type": "markdown",
      "metadata": {
        "id": "_p4IL_76Upvs"
      },
      "source": [
        "### **Sortarea elementelor unei liste**"
      ]
    },
    {
      "cell_type": "markdown",
      "metadata": {
        "id": "pbL9sGGYUtrB"
      },
      "source": [
        "**sort(key=None, reverse=False)**"
      ]
    },
    {
      "cell_type": "code",
      "execution_count": null,
      "metadata": {
        "colab": {
          "base_uri": "https://localhost:8080/"
        },
        "id": "EKoqowzVVNwX",
        "outputId": "91905c5a-e1ef-4188-eff5-c90087e8b8d1"
      },
      "outputs": [
        {
          "name": "stdout",
          "output_type": "stream",
          "text": [
            "[0, 1, 2, 3, 5, 6]\n"
          ]
        }
      ],
      "source": [
        "lista = [1, 6, 2, 0, 3, 5]\n",
        "lista.sort()\n",
        "print(lista)"
      ]
    },
    {
      "cell_type": "code",
      "execution_count": null,
      "metadata": {
        "colab": {
          "base_uri": "https://localhost:8080/"
        },
        "id": "drWfHUtsVRE9",
        "outputId": "05eee899-1f87-4afc-fd1e-c222e8528c40"
      },
      "outputs": [
        {
          "name": "stdout",
          "output_type": "stream",
          "text": [
            "[6, 5, 3, 2, 1, 0]\n"
          ]
        }
      ],
      "source": [
        "lista = [1, 6, 2, 0, 3, 5]\n",
        "lista.sort(reverse=True)\n",
        "print(lista)"
      ]
    },
    {
      "cell_type": "code",
      "execution_count": null,
      "metadata": {
        "colab": {
          "base_uri": "https://localhost:8080/"
        },
        "id": "GwOCTL0-Vb0x",
        "outputId": "3adf4ea8-af16-4597-d953-2d025b54958b"
      },
      "outputs": [
        {
          "name": "stdout",
          "output_type": "stream",
          "text": [
            "['a', 'aaab', 'abcd', 'def', 'hijkl', 'mnpqrst']\n"
          ]
        }
      ],
      "source": [
        "lista = [\"def\", \"a\", \"hijkl\", \"mnpqrst\", \"abcd\", \"aaab\"]\n",
        "lista.sort()\n",
        "print(lista)"
      ]
    },
    {
      "cell_type": "code",
      "execution_count": null,
      "metadata": {
        "colab": {
          "base_uri": "https://localhost:8080/"
        },
        "id": "ZTZOGUCXVr0K",
        "outputId": "8732e834-68f5-43f9-c623-3659be38b7ba"
      },
      "outputs": [
        {
          "name": "stdout",
          "output_type": "stream",
          "text": [
            "['a', 'def', 'abcd', 'aaab', 'hijkl', 'mnpqrst']\n",
            "['mnpqrst', 'hijkl', 'abcd', 'aaab', 'def', 'a']\n"
          ]
        }
      ],
      "source": [
        "lista= [\"def\", \"a\", \"hijkl\", \"mnpqrst\", \"abcd\", \"aaab\"]\n",
        "# Sortarea crescatoare a elementelor listei dupa lungimea cuvintelor din lista\n",
        "lista.sort(key=lambda x: len(x))\n",
        "print(lista)\n",
        "# Sortarea descrescatoare a elementelor listei dupa lungimea cuvintelor din lista\n",
        "lista.sort(key=lambda x: len(x), reverse=True)\n",
        "print(lista)"
      ]
    },
    {
      "cell_type": "code",
      "execution_count": null,
      "metadata": {
        "colab": {
          "base_uri": "https://localhost:8080/"
        },
        "id": "vVv3MwxhXQjR",
        "outputId": "c95fb500-bbcc-4b34-a078-56ca67515183"
      },
      "outputs": [
        {
          "name": "stdout",
          "output_type": "stream",
          "text": [
            "[1, -1, 2, 3, 4, -5, -7]\n"
          ]
        }
      ],
      "source": [
        "lista = [3, 1, 4, -5, 2, -7, -1]\n",
        "# Sortarea crescatoare a elementelor listei dupa valoarea absolute\n",
        "lista.sort(key=lambda a:abs(a))\n",
        "print(lista)"
      ]
    },
    {
      "cell_type": "code",
      "execution_count": null,
      "metadata": {
        "colab": {
          "base_uri": "https://localhost:8080/"
        },
        "id": "c8y9IJ05Vc8X",
        "outputId": "a8409054-9eab-4ff5-dd22-d229114d05d1"
      },
      "outputs": [
        {
          "name": "stdout",
          "output_type": "stream",
          "text": [
            "[88, 12334, 43, 12, 690]\n"
          ]
        }
      ],
      "source": [
        "lista = [43, 690, 12334, 88, 12]\n",
        "# Sortarea descrescatoare a elementelor listei dupa ultima cifra\n",
        "lista.sort(key=lambda a: a%10, reverse=True)\n",
        "print(lista)"
      ]
    },
    {
      "cell_type": "code",
      "execution_count": null,
      "metadata": {
        "colab": {
          "base_uri": "https://localhost:8080/"
        },
        "id": "wPJ2zyQHWJe1",
        "outputId": "3d1fa257-ae63-43f9-c291-58388242186e"
      },
      "outputs": [
        {
          "name": "stdout",
          "output_type": "stream",
          "text": [
            "[(1, 'a'), (3, 'cb'), (2, 'bcd')]\n",
            "[(1, 'a'), (2, 'bcd'), (3, 'cb')]\n"
          ]
        }
      ],
      "source": [
        "lista = [(2, 'bcd'), (1, 'a'), (3, 'cb')]\n",
        "# Cum se pot sorta elementele acestei liste in ordine crescatoare dupa lungimea celui de-al doilea element din fiecare tuplu?\n",
        "lista.sort(key=lambda x:len(x[1]))\n",
        "print(lista)\n",
        "# Expected Output: [(1, 'a'), (3, 'cb'), (2, 'bcd')]\n",
        "lista.sort(key=lambda x:x[0]) #sortare dupa primul element din tuplu\n",
        "print(lista)"
      ]
    },
    {
      "cell_type": "markdown",
      "metadata": {
        "id": "E9eX-HHJXdvX"
      },
      "source": [
        "### **Parcurgerea elementelor unei liste**"
      ]
    },
    {
      "cell_type": "code",
      "execution_count": null,
      "metadata": {
        "colab": {
          "base_uri": "https://localhost:8080/"
        },
        "id": "xPfILeGuXvHu",
        "outputId": "a0d1d1cb-d88a-4365-cee0-d34192eae337"
      },
      "outputs": [
        {
          "name": "stdout",
          "output_type": "stream",
          "text": [
            "1\n",
            "2\n",
            "3\n",
            "4\n",
            "5\n"
          ]
        }
      ],
      "source": [
        "lista = [1, 2, 3, 4, 5]\n",
        "for element in lista:\n",
        "    print(element)"
      ]
    },
    {
      "cell_type": "markdown",
      "metadata": {
        "id": "fUsE_w8jYAYX"
      },
      "source": [
        "**range(start, stop, step)**: este o funcție built-in (încorporată) în Python care generează o secvență de numere întregi.\n",
        "\n",
        "* start (opțional): Valoarea de la care începe secvența. Dacă nu se specifică, implicit, start este 0.\n",
        "\n",
        "\n",
        "* stop: Valoarea la care se termină secvența. Această valoare nu va face parte din secvență.\n",
        "\n",
        "\n",
        "* step (opțional): Pasul cu care sunt generate valorile în secvență. Dacă nu se specifică, implicit, step este 1.\n",
        "\n",
        "Este important de menționat că funcția range() nu creează o listă de valori în memorie, ci doar definește o secvență de numere.\n",
        "\n",
        "\n"
      ]
    },
    {
      "cell_type": "code",
      "execution_count": null,
      "metadata": {
        "colab": {
          "base_uri": "https://localhost:8080/"
        },
        "id": "KNhHqVbwYnqH",
        "outputId": "e23e5481-bb0d-4338-f2dd-473595143944"
      },
      "outputs": [
        {
          "name": "stdout",
          "output_type": "stream",
          "text": [
            "0\n",
            "1\n",
            "2\n",
            "3\n",
            "4\n"
          ]
        }
      ],
      "source": [
        "for i in range(5):  # Creează o secvență de la 0 la 4 (5 nu este inclus)\n",
        "    print(i)"
      ]
    },
    {
      "cell_type": "code",
      "execution_count": null,
      "metadata": {
        "colab": {
          "base_uri": "https://localhost:8080/"
        },
        "id": "3CchAyBAYoe8",
        "outputId": "90b3eb1a-c277-479e-918d-4ebb5f37ec2a"
      },
      "outputs": [
        {
          "name": "stdout",
          "output_type": "stream",
          "text": [
            "2\n",
            "3\n",
            "4\n",
            "5\n",
            "6\n"
          ]
        }
      ],
      "source": [
        "for i in range(2, 7):  # Creează o secvență de la 2 la 6 (7 nu este inclus)\n",
        "    print(i)"
      ]
    },
    {
      "cell_type": "code",
      "execution_count": null,
      "metadata": {
        "colab": {
          "base_uri": "https://localhost:8080/"
        },
        "id": "uinGLpD6Yue-",
        "outputId": "9b15e2de-5fba-4b0e-cf11-3f4e9aab1f5c"
      },
      "outputs": [
        {
          "name": "stdout",
          "output_type": "stream",
          "text": [
            "1\n",
            "3\n",
            "5\n",
            "7\n",
            "9\n"
          ]
        }
      ],
      "source": [
        "for i in range(1, 10, 2):  # Creează o secvență de la 1 la 9, cu un pas de 2\n",
        "    print(i)"
      ]
    },
    {
      "cell_type": "code",
      "execution_count": null,
      "metadata": {
        "colab": {
          "base_uri": "https://localhost:8080/"
        },
        "id": "QEaNWEKBYvwz",
        "outputId": "9219bcd6-2209-4e03-ef8e-a38c4661e678"
      },
      "outputs": [
        {
          "name": "stdout",
          "output_type": "stream",
          "text": [
            "[3, 5, 7, 9]\n"
          ]
        }
      ],
      "source": [
        "secventa = range(3, 10, 2)\n",
        "lista = list(secventa)\n",
        "print(lista)  # Rezultat: [3, 5, 7, 9]"
      ]
    },
    {
      "cell_type": "code",
      "execution_count": null,
      "metadata": {
        "colab": {
          "base_uri": "https://localhost:8080/"
        },
        "id": "XVHnTGtaY2aV",
        "outputId": "b950a67c-1c91-4062-e6de-ea5380b2eb1e"
      },
      "outputs": [
        {
          "name": "stdout",
          "output_type": "stream",
          "text": [
            "1\n",
            "2\n",
            "3\n",
            "4\n",
            "5\n"
          ]
        }
      ],
      "source": [
        "# Parcurgerea unei liste folosind range\n",
        "\n",
        "lista = [1, 2, 3, 4, 5]\n",
        "for i in range(len(lista)):\n",
        "    print(lista[i])"
      ]
    },
    {
      "cell_type": "code",
      "execution_count": null,
      "metadata": {
        "colab": {
          "base_uri": "https://localhost:8080/"
        },
        "id": "tthQfejqY_Oc",
        "outputId": "92d00ba5-812e-4703-968b-7136bbbb489e"
      },
      "outputs": [
        {
          "name": "stdout",
          "output_type": "stream",
          "text": [
            "Elementul 1 are indexul 0\n",
            "Elementul 2 are indexul 1\n",
            "Elementul 3 are indexul 2\n",
            "Elementul 4 are indexul 3\n",
            "Elementul 5 are indexul 4\n"
          ]
        }
      ],
      "source": [
        "lista = [1, 2, 3, 4, 5]\n",
        "for index, element in enumerate(lista): # enumerate returneaza un tuplu (index, element) pentru fiecare element din lista si le parcurge\n",
        "    print(f\"Elementul {element} are indexul {index}\")"
      ]
    },
    {
      "cell_type": "markdown",
      "metadata": {
        "id": "qoSkMQ0zZHaG"
      },
      "source": [
        "### **Parcurgerea recursiva a unei liste**"
      ]
    },
    {
      "cell_type": "markdown",
      "metadata": {
        "id": "u7UuT1jpZLzb"
      },
      "source": [
        "Capul listei conține doar primul element al listei - accesat prin index. Coada listei conține toate elementele rămase de la al doilea până la ultimul element de listă - accesat prin operația de tăiere."
      ]
    },
    {
      "cell_type": "code",
      "execution_count": null,
      "metadata": {
        "colab": {
          "base_uri": "https://localhost:8080/"
        },
        "id": "7YIhUqkNbExT",
        "outputId": "eb698942-2c56-47c9-a307-a1a44b2f7e27"
      },
      "outputs": [
        {
          "name": "stdout",
          "output_type": "stream",
          "text": [
            "1\n",
            "[2, 3, 4, 5]\n"
          ]
        }
      ],
      "source": [
        "lista = [1, 2, 3, 4, 5]\n",
        "# capul (head)\n",
        "print(lista[0])\n",
        "\n",
        "#coada (tail)\n",
        "print(lista[1:])"
      ]
    },
    {
      "cell_type": "code",
      "execution_count": null,
      "metadata": {
        "colab": {
          "base_uri": "https://localhost:8080/"
        },
        "id": "JhQK3Iq7bVob",
        "outputId": "dba10143-592f-4248-ff8f-90eac4f7f652"
      },
      "outputs": [
        {
          "name": "stdout",
          "output_type": "stream",
          "text": [
            "1\n",
            "2\n",
            "3\n",
            "4\n",
            "7\n"
          ]
        }
      ],
      "source": [
        "def afisare(lista):\n",
        "    if len(lista) == 0:  # sau lista == []\n",
        "      return # iesim din functie\n",
        "\n",
        "    cap = lista[0]  # primul element din lista\n",
        "    coada = lista[1:]  #  toate elementele rămase de la al doilea până la ultimul element de listă\n",
        "    print(cap)\n",
        "    # print(coada)\n",
        "    afisare(coada)\n",
        "\n",
        "afisare([1, 2, 3, 4, 7]) "
      ]
    },
    {
      "cell_type": "code",
      "execution_count": null,
      "metadata": {
        "id": "B-VJ7CNVYPPf"
      },
      "outputs": [],
      "source": [
        "def suma_recursiva(lista):\n",
        "  if lista == []:\n",
        "    return 0\n",
        "  return lista[0] + suma_recursiva(lista[1:])"
      ]
    },
    {
      "cell_type": "code",
      "execution_count": null,
      "metadata": {
        "colab": {
          "base_uri": "https://localhost:8080/"
        },
        "id": "CP-FJggIYwQM",
        "outputId": "3ecf417d-4ad4-423b-a964-612016bda651"
      },
      "outputs": [
        {
          "data": {
            "text/plain": [
              "21"
            ]
          },
          "execution_count": 73,
          "metadata": {},
          "output_type": "execute_result"
        }
      ],
      "source": [
        "lista = [1, 2, 3, 4, 5, 6]\n",
        "suma_recursiva(lista)"
      ]
    },
    {
      "cell_type": "markdown",
      "metadata": {
        "id": "kqNssaC3b7mC"
      },
      "source": [
        "### **Functia map**"
      ]
    },
    {
      "cell_type": "markdown",
      "metadata": {
        "id": "JJ7ogwlwb-Vk"
      },
      "source": [
        "Funcția map() este o funcție încorporată (built-in) din Python care permite aplicarea unei funcții asupra fiecărui element al unei liste (sau altui obiect iterabil) și returnează o nouă listă cu rezultatele acelei funcții. Cu alte cuvinte, map() este utilizată pentru a transforma fiecare element al unei liste folosind o anumită funcție."
      ]
    },
    {
      "cell_type": "markdown",
      "metadata": {
        "id": "EoA2SYQmcCtv"
      },
      "source": [
        "Sintaxa funcției map() este următoarea:\n",
        "\n",
        "`map(functie, iterable)`\n",
        "\n",
        "\n",
        "* functie: Funcția pe care doriți să o aplicați la fiecare element din iterable.\n",
        "* iterable: Obiectul iterabil pe care doriți să-l parcurgeți și să aplicați funcția asupra fiecărui element.\n",
        "\n",
        "\n",
        "map() returnează un obiect map, care poate fi transformat într-o listă, tuplu sau alt tip de obiect iterabil pentru a obține rezultatele."
      ]
    },
    {
      "cell_type": "code",
      "execution_count": null,
      "metadata": {
        "colab": {
          "base_uri": "https://localhost:8080/"
        },
        "id": "i2Het_SFb_H1",
        "outputId": "1888a585-98d6-4bb2-b8e3-04d7d416a8ce"
      },
      "outputs": [
        {
          "name": "stdout",
          "output_type": "stream",
          "text": [
            "[1, 4, 9, 16, 25]\n"
          ]
        }
      ],
      "source": [
        "# Exemplu 1: Ridicarea la patrat a fiecarei element dintr-o lista\n",
        "lista = [1, 2, 3, 4, 5]\n",
        "lista_patrate = list(map(lambda x: x ** 2, lista))\n",
        "print(lista_patrate)"
      ]
    },
    {
      "cell_type": "code",
      "execution_count": null,
      "metadata": {
        "colab": {
          "base_uri": "https://localhost:8080/"
        },
        "id": "ygrwRyI6dAxK",
        "outputId": "0295c997-6d2b-4648-a381-70f04f5aee0a"
      },
      "outputs": [
        {
          "name": "stdout",
          "output_type": "stream",
          "text": [
            "[4, 6, 9, 7, 4]\n"
          ]
        }
      ],
      "source": [
        "# Exemplu 2: Calcularea lungimilor sirurilor de caractere\n",
        "lista = [\"mere\", \"banana\", \"portocala\", \"capsuni\", \"kiwi\"]\n",
        "lungimi = list(map(lambda a: len(a), lista))\n",
        "print(lungimi)"
      ]
    },
    {
      "cell_type": "code",
      "execution_count": null,
      "metadata": {
        "colab": {
          "base_uri": "https://localhost:8080/"
        },
        "id": "mim-AW-7dNWg",
        "outputId": "a6eec9f8-e02d-42cf-d2a3-2a234e914eb5"
      },
      "outputs": [
        {
          "name": "stdout",
          "output_type": "stream",
          "text": [
            "['a_1', 'b_1', 'c_1', 'd_1', 'e_1']\n"
          ]
        }
      ],
      "source": [
        "# Exemplu 3: Concatenarea unui sufix la fiecare element dintr-o listă de cuvinte:\n",
        "lista = [\"a\", \"b\", \"c\", \"d\", \"e\"]\n",
        "sufix = \"_1\"\n",
        "lista_modificata = list(map(lambda x: x + sufix, lista))\n",
        "print(lista_modificata)"
      ]
    },
    {
      "cell_type": "code",
      "execution_count": null,
      "metadata": {
        "colab": {
          "base_uri": "https://localhost:8080/"
        },
        "id": "BhgwyPreZ6Uv",
        "outputId": "8a1b8f75-f054-4e56-b1b9-ce57a527863f"
      },
      "outputs": [
        {
          "name": "stdout",
          "output_type": "stream",
          "text": [
            "[True, False, True, False, True]\n"
          ]
        }
      ],
      "source": [
        "lista = [1, 2, 3, 4, 5]\n",
        "# [True, False, True, False, True]\n",
        "def transformare(x):\n",
        "  return x%2==1\n",
        "\n",
        "rezultat = list(map(transformare, lista))\n",
        "print(rezultat)\n"
      ]
    },
    {
      "cell_type": "markdown",
      "metadata": {
        "id": "ZmNwM8uddw0S"
      },
      "source": [
        "### **Functia filter**"
      ]
    },
    {
      "cell_type": "markdown",
      "metadata": {
        "id": "F__lJk3IdzIm"
      },
      "source": [
        "Funcția filter() este o funcție încorporată (built-in) în Python care este utilizată pentru a filtra elementele unei liste sau a altui obiect iterabil în funcție de o anumită condiție sau funcție. Ea returnează un obiect filtru (iterabil) care conține doar elementele care satisfac condiția specificată."
      ]
    },
    {
      "cell_type": "markdown",
      "metadata": {
        "id": "lROywZiReKyI"
      },
      "source": [
        "Sintaxa funcției filter() este următoarea:\n",
        "\n",
        "`filter(functie, iterable)`\n",
        "\n",
        "* functie: Funcția care definește condiția de filtrare. Această funcție trebuie să returneze True sau False pentru fiecare element din iterable.\n",
        "\n",
        "* iterable: Obiectul iterabil (de obicei, o listă) pe care doriți să-l filtrați.\n",
        "\n",
        "Pentru a obține rezultatele sub forma unei liste, puteți utiliza funcția list() pentru a converti obiectul filtru într-o listă."
      ]
    },
    {
      "cell_type": "code",
      "execution_count": null,
      "metadata": {
        "colab": {
          "base_uri": "https://localhost:8080/"
        },
        "id": "vQxAkhDFeJ_n",
        "outputId": "66d8b776-f8b0-407f-8ea2-1b48f7a8c0e5"
      },
      "outputs": [
        {
          "name": "stdout",
          "output_type": "stream",
          "text": [
            "[2, 4, 6, 8, 10]\n"
          ]
        }
      ],
      "source": [
        "# Exemplu 1: Filtrarea numerelor pare dintr-o lista\n",
        "def este_par(numar):\n",
        "    return numar % 2 == 0 # returneaza True daca numarul este par si False in caz contrar\n",
        "\n",
        "lista = [1, 2, 3, 4, 5, 6, 7, 8, 9, 10]\n",
        "lista_numere_pare = list(filter(este_par, lista))\n",
        "print(lista_numere_pare)"
      ]
    },
    {
      "cell_type": "code",
      "execution_count": null,
      "metadata": {
        "colab": {
          "base_uri": "https://localhost:8080/"
        },
        "id": "73JLS_kUexO7",
        "outputId": "62b5639e-c51d-4b5a-ee94-cc0a6bf84ae9"
      },
      "outputs": [
        {
          "name": "stdout",
          "output_type": "stream",
          "text": [
            "['capsuni', 'kiwi']\n"
          ]
        }
      ],
      "source": [
        "# Exemplu 2: Filtrarea cuvintelor ce contin o anumita litera\n",
        "lista = [\"mere\", \"banana\", \"portocala\", \"capsuni\", \"kiwi\"]\n",
        "litera_cautata = \"i\"\n",
        "def contine_litera(cuvant):\n",
        "    return litera_cautata in cuvant\n",
        "\n",
        "cuvinte_filtrate = list(filter(contine_litera, lista))\n",
        "print(cuvinte_filtrate)"
      ]
    },
    {
      "cell_type": "markdown",
      "metadata": {
        "id": "UQgMSJD1fSP-"
      },
      "source": [
        "### **Functia reduce**"
      ]
    },
    {
      "cell_type": "markdown",
      "metadata": {
        "id": "J2MDjEwgfUeq"
      },
      "source": [
        "Funcția reduce() era parte din modulul functools si este utilizată pentru a aplica repetat o funcție dată asupra elementelor unei liste sau altui obiect iterabil, combinând elementele într-o singură valoare. Cu alte cuvinte, reduce o secvență de elemente la o valoare unică prin aplicarea succesivă a funcției asupra elementelor."
      ]
    },
    {
      "cell_type": "markdown",
      "metadata": {
        "id": "GwoEDxnQhY1o"
      },
      "source": [
        "Sintaxa funcției reduce() este următoarea:\n",
        "\n",
        "`functools.reduce(functie, iterable, initial)`\n",
        "\n",
        "\n",
        "* functie: Funcția care primește două argumente.\n",
        "* iterable: Obiectul iterabil (de obicei, o listă) pentru care se aplică operația de reducere.\n",
        "* initial (opțional): O valoare optională care reprezintă valoarea inițială a reducerii. Dacă nu se furnizează, prima valoare din iterable este folosită ca valoare inițială."
      ]
    },
    {
      "cell_type": "code",
      "execution_count": null,
      "metadata": {
        "id": "4qEXJ_Xrh7Mg"
      },
      "outputs": [],
      "source": [
        "from functools import reduce"
      ]
    },
    {
      "cell_type": "code",
      "execution_count": null,
      "metadata": {
        "colab": {
          "base_uri": "https://localhost:8080/"
        },
        "id": "9AWGeqLCiK6V",
        "outputId": "8f83afdc-b805-4d88-edf3-bb6fb67dc17e"
      },
      "outputs": [
        {
          "name": "stdout",
          "output_type": "stream",
          "text": [
            "28\n"
          ]
        }
      ],
      "source": [
        "# Exemplu 1: Adunarea numerelor dintr-o lista\n",
        "lista = [1, 2, 3, 4, 5, 6, 7]\n",
        "suma_numere = reduce(lambda acc, el: acc + el, lista, 0)\n",
        "print(suma_numere)"
      ]
    },
    {
      "cell_type": "code",
      "execution_count": null,
      "metadata": {
        "colab": {
          "base_uri": "https://localhost:8080/"
        },
        "id": "uOQ7L56LkmKG",
        "outputId": "6839a2f7-8f1b-48b1-ea6f-d83fa718fba9"
      },
      "outputs": [
        {
          "name": "stdout",
          "output_type": "stream",
          "text": [
            "abcdefghj\n"
          ]
        }
      ],
      "source": [
        "# Exemplu 2: Concatenarea tuturor sirurilor de caractere\n",
        "lista = [\"abc\", \"def\", \"ghj\"]\n",
        "concatenare = reduce(lambda acc, el: acc + el, lista)\n",
        "print(concatenare)"
      ]
    },
    {
      "cell_type": "code",
      "execution_count": null,
      "metadata": {
        "colab": {
          "base_uri": "https://localhost:8080/"
        },
        "id": "LEgbZiKblOvH",
        "outputId": "d0ffb84d-d97d-4a37-fdc6-908fe8c0dfb9"
      },
      "outputs": [
        {
          "name": "stdout",
          "output_type": "stream",
          "text": [
            "portocala\n"
          ]
        }
      ],
      "source": [
        "# Exemplu 3: Gasirea cuvantului de lungime maxima (Varianta 1)\n",
        "from functools import reduce\n",
        "lista = [\"mere\", \"banana\", \"portocala\", \"capsuni\", \"kiwi\"]\n",
        "cel_mai_lung_cuvant = reduce(lambda acc, el: acc if len(acc)>len(el) else el, lista) # acc = cel mai lung cuvant gasit pana acum, el = cuvantul curent\n",
        "print(cel_mai_lung_cuvant)"
      ]
    },
    {
      "cell_type": "code",
      "execution_count": null,
      "metadata": {
        "colab": {
          "base_uri": "https://localhost:8080/",
          "height": 35
        },
        "id": "rbBsgQDBdPWB",
        "outputId": "cc7f2db8-a8e4-45d1-a7a9-44e6eb21fa72"
      },
      "outputs": [
        {
          "data": {
            "application/vnd.google.colaboratory.intrinsic+json": {
              "type": "string"
            },
            "text/plain": [
              "'portocala'"
            ]
          },
          "execution_count": 91,
          "metadata": {},
          "output_type": "execute_result"
        }
      ],
      "source": [
        "# Exemplul 3: Gasirea cuvantului de lungime maxima (Varianta 2)\n",
        "\n",
        "lista = [\"mere\", \"banana\", \"portocala\", \"capsuni\", \"kiwi\"]\n",
        "\n",
        "def gasire_cuvant_maxim(acc, el):\n",
        "  if(len(acc)<len(el)):\n",
        "    return el\n",
        "  return acc\n",
        "\n",
        "reduce(gasire_cuvant_maxim,lista)"
      ]
    },
    {
      "cell_type": "code",
      "execution_count": null,
      "metadata": {
        "colab": {
          "base_uri": "https://localhost:8080/"
        },
        "id": "LLPss-qslmU0",
        "outputId": "b4ed4016-2480-4b35-bc4e-9425af01f154"
      },
      "outputs": [
        {
          "name": "stdout",
          "output_type": "stream",
          "text": [
            "portocala\n"
          ]
        }
      ],
      "source": [
        "# Exemplu 3: Gasirea cuvantului de lungime maxima (Varianta 3)\n",
        "lista = [\"mere\", \"banana\", \"portocala\", \"capsuni\", \"kiwi\"]\n",
        "\n",
        "def cel_mai_lung(x, y):\n",
        "    return x if len(x) > len(y) else y\n",
        "\n",
        "cel_mai_lung_cuvant = reduce(cel_mai_lung, lista)\n",
        "print(cel_mai_lung_cuvant)"
      ]
    },
    {
      "cell_type": "code",
      "execution_count": null,
      "metadata": {
        "colab": {
          "base_uri": "https://localhost:8080/"
        },
        "id": "-ckzDTxnlv1W",
        "outputId": "f49633c2-f18f-459a-fc5d-c28fbe1e3f22"
      },
      "outputs": [
        {
          "name": "stdout",
          "output_type": "stream",
          "text": [
            "mere\n",
            "banana\n",
            "portocala\n",
            "capsuni\n",
            "kiwi\n"
          ]
        }
      ],
      "source": [
        "# Exemplu 4: Tiparirea tuturor elementelor\n",
        "from functools import reduce\n",
        "lista = [\"mere\", \"banana\", \"portocala\", \"capsuni\", \"kiwi\"]\n",
        "reduce(lambda _,el:print(el), lista,[])"
      ]
    },
    {
      "cell_type": "code",
      "execution_count": null,
      "metadata": {
        "colab": {
          "base_uri": "https://localhost:8080/"
        },
        "id": "yVNU1ZV5eVqe",
        "outputId": "a556c8a5-f46a-4243-cbc9-2f5662096452"
      },
      "outputs": [
        {
          "name": "stdout",
          "output_type": "stream",
          "text": [
            "28\n"
          ]
        }
      ],
      "source": [
        "# Exemplul 5: Suma elementelor dintr-o lista de liste de numere intregi folosind reduce\n",
        "\n",
        "lista = [[1, 2, 3], [5,8], [9]]\n",
        "# => suma\n",
        "suma=reduce(lambda a,b: a+reduce(lambda acc,el:acc+el,b),lista,0) # 0 este valoarea initiala a acumulatorului si b este o lista din lista si acc este suma elementelor din lista b\n",
        "print(suma)"
      ]
    },
    {
      "cell_type": "markdown",
      "metadata": {},
      "source": [
        "AICI SUNT EXERCITII DIN CURS:"
      ]
    },
    {
      "cell_type": "markdown",
      "metadata": {},
      "source": [
        "Se da o lista cu elemente. Sa se creeze o noua lista cu elemente pare din lista precedenta."
      ]
    },
    {
      "cell_type": "code",
      "execution_count": null,
      "metadata": {},
      "outputs": [
        {
          "name": "stdout",
          "output_type": "stream",
          "text": [
            "[2, 4, 6]\n",
            "[8, 10]\n",
            "[8, 10]\n"
          ]
        }
      ],
      "source": [
        "numere = [1,2,3,4,5,6]\n",
        "pare = []\n",
        "\n",
        "for numar in numere:\n",
        "    if numar % 2 == 0:\n",
        "        pare.append(numar)\n",
        "\n",
        "print(pare)\n",
        "\n",
        "# sau\n",
        "\n",
        "numere2 = [1,3,5,8,9,10]\n",
        "pare2 = [numar for numar in numere2 if numar % 2 == 0]\n",
        "print(pare2)\n",
        "\n",
        "#sau\n",
        "pare3 = list(filter(lambda x: x % 2 == 0, numere2))\n",
        "print(pare3)\n"
      ]
    },
    {
      "cell_type": "markdown",
      "metadata": {},
      "source": [
        "Expresia de mai jos creează o nouă listă, neschimbând nimic la\n",
        "lista inițială.\n",
        "\n",
        "Forma generică:\n",
        "\n",
        "newlist = [expression for item in iterable if condition == True]\n",
        "\n",
        "expression – poate fi elementul curent din listă sau o funcție\n",
        "aplicată elementului curent\n",
        "\n",
        "item – e elementul curent din listă\n",
        "\n",
        "iterable – e lista, în exemplul nostru, dar poate fi și alt tip de\n",
        "obiect care poate fi parcurs (ex: mulțime, tuplu etc.)\n",
        "\n",
        "condition – e un filtru aplicat pe listă care acceptă doar\n",
        "elementele pentru care condiția e adevărată (True).\n",
        " Condiția\n",
        "poate lipsi"
      ]
    },
    {
      "cell_type": "markdown",
      "metadata": {},
      "source": [
        "map()\n",
        "sa ridicam elementele unei liste la patrat"
      ]
    },
    {
      "cell_type": "code",
      "execution_count": null,
      "metadata": {},
      "outputs": [
        {
          "name": "stdout",
          "output_type": "stream",
          "text": [
            "[1, 4, 9, 16]\n"
          ]
        }
      ],
      "source": [
        "lista = [1, 2, 3, 4]\n",
        "\n",
        "lista2 = list(map(lambda x : x ** 2, lista))\n",
        "\n",
        "print(lista2)"
      ]
    },
    {
      "cell_type": "code",
      "execution_count": null,
      "metadata": {},
      "outputs": [
        {
          "name": "stdout",
          "output_type": "stream",
          "text": [
            "[5, 7, 9]\n"
          ]
        }
      ],
      "source": [
        "numere1 = [1, 2, 3]\n",
        "numere2 = [4, 5, 6]\n",
        "result = map(lambda x, y: x + y, numere1, numere2)\n",
        "\n",
        "print(list(result))"
      ]
    },
    {
      "cell_type": "markdown",
      "metadata": {},
      "source": [
        "reduce()\n",
        "Suma elementelor unei liste"
      ]
    },
    {
      "cell_type": "code",
      "execution_count": null,
      "metadata": {},
      "outputs": [
        {
          "name": "stdout",
          "output_type": "stream",
          "text": [
            "10\n",
            "Elementul maxim este: \n",
            "4\n"
          ]
        }
      ],
      "source": [
        "lista = [1, 2, 3, 4]\n",
        "import functools\n",
        "suma = functools.reduce(lambda x, y: x + y, lista)\n",
        "\n",
        "print(suma)\n",
        "\n",
        "lista = [1, 2, 3, 4]\n",
        "\n",
        "print(\"Elementul maxim este: \")\n",
        "print(functools.reduce(lambda a, b: a if a > b else b, lista))"
      ]
    },
    {
      "cell_type": "markdown",
      "metadata": {},
      "source": [
        "filter()\n",
        "vocale intr - o lista"
      ]
    },
    {
      "cell_type": "code",
      "execution_count": null,
      "metadata": {},
      "outputs": [
        {
          "name": "stdout",
          "output_type": "stream",
          "text": [
            "['e', 'e']\n"
          ]
        }
      ],
      "source": [
        "def functie(litera):\n",
        "    vocale = ['a', 'e', 'i', 'o', 'u']\n",
        "    if (litera in vocale):\n",
        "        return True\n",
        "    else:\n",
        "        return False\n",
        "    \n",
        "lista = ['g', 'e', 'e', 'j', 'k', 's', 'p', 'r']\n",
        "lista2 = filter(functie, lista)\n",
        "print(list(lista2))"
      ]
    },
    {
      "cell_type": "code",
      "execution_count": null,
      "metadata": {},
      "outputs": [
        {
          "name": "stdout",
          "output_type": "stream",
          "text": [
            "[1, 3, 5, 13]\n",
            "[0, 2, 8]\n"
          ]
        }
      ],
      "source": [
        "#sortare nr pare, impare\n",
        "numere = [0, 1, 2, 3, 5, 8, 13]\n",
        "\n",
        "impare = filter(lambda x: x % 2 != 0, numere)\n",
        "\n",
        "print(list(impare))\n",
        "\n",
        "\n",
        "pare = filter(lambda x: x % 2 == 0, numere)\n",
        "\n",
        "print(list(pare))\n"
      ]
    },
    {
      "cell_type": "markdown",
      "metadata": {},
      "source": [
        "AICI SUNT EXERCITIILE DE LA LABORATOR"
      ]
    },
    {
      "cell_type": "markdown",
      "metadata": {},
      "source": [
        "PARTEA 1\n"
      ]
    },
    {
      "cell_type": "markdown",
      "metadata": {},
      "source": [
        "1. Fiind dată o listă cu numere naturale, afișați toate elementele pare."
      ]
    },
    {
      "cell_type": "code",
      "execution_count": null,
      "metadata": {},
      "outputs": [
        {
          "name": "stdout",
          "output_type": "stream",
          "text": [
            "2\n",
            "4\n",
            "6\n",
            "8\n",
            "[2, 4, 6, 8]\n"
          ]
        }
      ],
      "source": [
        "lista = [1, 2, 3, 4, 5, 6, 7, 8, 9]\n",
        "\n",
        "for i in lista:\n",
        "    if i % 2 == 0:\n",
        "        print(i)\n",
        "\n",
        "from functools import reduce\n",
        "\n",
        "reduce(lambda acc, element : [element] + acc if element % 2 == 0 else acc, lista, [])\n",
        "\n",
        "lista = [1, 2, 3, 4, 5, 6, 7, 8, 9]\n",
        "# cu filter\n",
        "print(list(filter(lambda x: x % 2 == 0, lista)))# [2, 4, 6, 8]\n",
        "\n",
        "\n"
      ]
    },
    {
      "cell_type": "markdown",
      "metadata": {},
      "source": [
        "2. Fiind dată o listă cu șiruri de caractere, afișați toate elementele care au mai puțin de 3 caractere"
      ]
    },
    {
      "cell_type": "code",
      "execution_count": null,
      "metadata": {},
      "outputs": [
        {
          "name": "stdout",
          "output_type": "stream",
          "text": [
            "['si']\n"
          ]
        }
      ],
      "source": [
        "from functools import reduce\n",
        "\n",
        "lista = ['ana', 'are', 'mere', 'si', 'pere']\n",
        "\n",
        "reduce(lambda acc, el: [el] + acc if len(el) < 3 else acc, lista, [])\n",
        "\n",
        "print(list(filter(lambda x: len(x) < 3, lista)))"
      ]
    },
    {
      "cell_type": "markdown",
      "metadata": {},
      "source": [
        "3. Se dă o listă cu mai multe tipuri de date (întregi, reale, șiruri de caractere, valori booleene). Să se sorteze lista crescător, apoi descrescător. (explicatie: la rulare va da eroare pentru ca nu se pot sorta liste cu elemente de diferite tipuri. nu se poate compara numar<sir de caractere. Se pot sorta doar liste care contin acelasi tip de elemente)"
      ]
    },
    {
      "cell_type": "code",
      "execution_count": null,
      "metadata": {},
      "outputs": [
        {
          "name": "stdout",
          "output_type": "stream",
          "text": [
            "[False, 1, True, 2]\n",
            "[3.14]\n",
            "['hello', 'world']\n",
            "[False, True]\n"
          ]
        }
      ],
      "source": [
        "mixed_list = [1, \"hello\", 3.14, False, \"world\", 2, True]\n",
        "\n",
        "# Separate the list into multiple lists by type\n",
        "int_list = [x for x in mixed_list if isinstance(x, int)]\n",
        "float_list = [x for x in mixed_list if isinstance(x, float)]\n",
        "str_list = [x for x in mixed_list if isinstance(x, str)]\n",
        "bool_list = [x for x in mixed_list if isinstance(x, bool)]\n",
        "\n",
        "# Sort each list individually\n",
        "int_list.sort()\n",
        "float_list.sort()\n",
        "str_list.sort()\n",
        "bool_list.sort()\n",
        "\n",
        "print(int_list)  # Output: [1, 2]\n",
        "print(float_list)  # Output: [3.14]\n",
        "print(str_list)  # Output: ['hello', 'world']\n",
        "print(bool_list)  # Output: [False, True] "
      ]
    },
    {
      "cell_type": "markdown",
      "metadata": {},
      "source": [
        "4. Să se sorteze o listă care conține numere întregi în funcție de ultima cifră a numărului ( în ordine crescătoare a ultimei cifre din număr)."
      ]
    },
    {
      "cell_type": "code",
      "execution_count": null,
      "metadata": {},
      "outputs": [
        {
          "name": "stdout",
          "output_type": "stream",
          "text": [
            "[11, 12, 13, 14]\n"
          ]
        }
      ],
      "source": [
        "lista = [13,12,14,11]\n",
        "\n",
        "lista.sort(key = lambda x: x % 10)\n",
        "\n",
        "print(lista)\n"
      ]
    },
    {
      "cell_type": "markdown",
      "metadata": {},
      "source": [
        "5. Să se înmulțească toate elementele unei liste de numere reale. Se va folosi funcția reduce()."
      ]
    },
    {
      "cell_type": "code",
      "execution_count": null,
      "metadata": {},
      "outputs": [
        {
          "name": "stdout",
          "output_type": "stream",
          "text": [
            "24\n"
          ]
        }
      ],
      "source": [
        "lista = [1, 2, 3 ,4]\n",
        "\n",
        "produs  = reduce(lambda acc, element: acc * element, lista, 1)\n",
        "\n",
        "print(produs)"
      ]
    },
    {
      "cell_type": "markdown",
      "metadata": {},
      "source": [
        "6. Să se creeze o nouă listă care să conțină toate elementele unei liste inițiale la puterea a 3-a. Se va folosi funcția map()."
      ]
    },
    {
      "cell_type": "code",
      "execution_count": null,
      "metadata": {},
      "outputs": [
        {
          "name": "stdout",
          "output_type": "stream",
          "text": [
            "[1, 8, 27]\n"
          ]
        }
      ],
      "source": [
        "lista = [1, 2, 3]\n",
        "\n",
        "lista_noua = list(map(lambda x: x ** 3, lista))\n",
        "\n",
        "print(lista_noua)"
      ]
    },
    {
      "cell_type": "markdown",
      "metadata": {},
      "source": [
        "7. Să se creeze o nouă listă care conține doar elementele numere prime dintr-o listă inițială. Se va folosi funcția filter()"
      ]
    },
    {
      "cell_type": "code",
      "execution_count": null,
      "metadata": {},
      "outputs": [
        {
          "name": "stdout",
          "output_type": "stream",
          "text": [
            "[2, 3, 5, 7]\n"
          ]
        }
      ],
      "source": [
        "lista = [1, 2, 3, 4, 5, 6, 7, 8, 9]\n",
        "def is_prime(x):\n",
        "    if x < 2:\n",
        "        return False\n",
        "    for i in range(2, x // 2 + 1):\n",
        "        if x % i == 0:\n",
        "            return False\n",
        "    return True\n",
        "\n",
        "print(list(filter(is_prime, lista)))"
      ]
    },
    {
      "cell_type": "markdown",
      "metadata": {},
      "source": [
        "PARTEA a II a"
      ]
    },
    {
      "cell_type": "markdown",
      "metadata": {},
      "source": [
        "1. a) Implementați funcții care construiesc lista cifrelor unui număr care satisfac o condiție anume (cifre impare, pare, mai mici decât 7, etc. la alegere), în ordine normală și inversă\n",
        "\n",
        "b) Implementați o funcție care construiește lista cifrelor unui număr care satisfac o condiție dată ca parametru sub forma unei funcții cu tipul int -> bool.\n",
        "\n",
        "c) Invers, dată fiind o listă de cifre, construiți numărul format doar din cifrele care respectă o condiție (dată ca parametru funcție cu tipul int -> bool). Rezolvați problema direct, recursiv, și apoi prin folosirea lui filter (selectarea cifrelor) cu reduce (pentru construirea numărului)."
      ]
    },
    {
      "cell_type": "code",
      "execution_count": null,
      "metadata": {},
      "outputs": [
        {
          "name": "stdout",
          "output_type": "stream",
          "text": [
            "[2, 4, 6, 8]\n",
            "[2, 4, 6, 8]\n",
            "[8, 6, 4, 2]\n",
            "['2', '4']\n",
            "246\n"
          ]
        }
      ],
      "source": [
        "def pare(x):\n",
        "    if x % 2 == 0:\n",
        "        return True\n",
        "    else:\n",
        "        return False\n",
        "    \n",
        "lista = [1, 2, 3, 4, 5, 6, 7, 8, 9]\n",
        "\n",
        "print(list(filter(pare, lista)))\n",
        "\n",
        "lista = [1, 2, 3, 4, 5, 6, 7, 8, 9]\n",
        "\n",
        "lista_noua = reduce(lambda acc, el: acc + [el] if el % 2 == 0 else acc, lista, [])\n",
        "\n",
        "print(lista_noua)\n",
        "\n",
        "# cu reduce in ordine inversa\n",
        "\n",
        "lista = [1, 2, 3, 4, 5, 6, 7, 8, 9]\n",
        "\n",
        "lista_noua = reduce(lambda acc, el: [el] + acc if el % 2 == 0 else acc, lista, [])\n",
        "\n",
        "print(lista_noua)\n",
        "\n",
        "#b\n",
        "numar = 1234\n",
        "numar_str = str(numar)\n",
        "lista_cifre_numar = list(numar_str)\n",
        "\n",
        "lista_cifre_conditiel = list(filter(lambda x: int(x) % 2 == 0, lista_cifre_numar))\n",
        "\n",
        "print(lista_cifre_conditiel)\n",
        "\n",
        "\n",
        "#c\n",
        "def conditie(x):\n",
        "    return int(x) % 2 == 0\n",
        "\n",
        "def construieste_numar(cifre):\n",
        "    # Construiește numărul din cifre\n",
        "    numar = reduce(lambda acc, x: acc * 10 + x if conditie(x) else acc, cifre, 0)\n",
        "    \n",
        "    return numar\n",
        "\n",
        "print(construieste_numar([1, 2, 3, 4, 5, 6]))\n",
        "    \n",
        "from functools import reduce\n",
        "\n",
        "def construct_number(digits, condition):\n",
        "    # Direct solution\n",
        "    number = \"\"\n",
        "    for digit in digits:\n",
        "        if condition(digit):\n",
        "            number += str(digit)\n",
        "    print(int(number) if number else 0)\n",
        "\n",
        "    # Recursive solution\n",
        "    def helper(digits, condition):\n",
        "        if not digits:\n",
        "            return \"\"\n",
        "        elif condition(digits[0]):\n",
        "            return str(digits[0]) + helper(digits[1:], condition)\n",
        "        else:\n",
        "            return helper(digits[1:], condition)\n",
        "    number = helper(digits, condition)\n",
        "    print(int(number) if number else 0)\n",
        "\n",
        "    # Solution using filter and reduce\n",
        "    filtered_digits = list(filter(condition, digits))\n",
        "    if not filtered_digits:\n",
        "        print(0)\n",
        "    else:\n",
        "        number = reduce(lambda acc, digit: acc * 10 + digit, filtered_digits)\n",
        "        print(number)\n",
        "\n",
        "# Test the function\n",
        "digits = [1, 2, 3, 4, 5, 6, 7, 8, 9]\n",
        "condition = lambda x: x % 2 == 0  # Condition: the digit is even\n",
        "construct_number(digits, condition)  # Output: 2468\n"
      ]
    },
    {
      "cell_type": "markdown",
      "metadata": {},
      "source": [
        "2. Implementați funcția fromto care generează lista numerelor întregi dintr-un interval dat, scrieți o funcție care creează lista tuturor întregilor dintr-un interval dat, divizibili cu o valoare dată d.\n",
        "Indicație: Găsiți cel mai mare număr divizibil din interval, și continuați pas cu pas"
      ]
    },
    {
      "cell_type": "code",
      "execution_count": null,
      "metadata": {},
      "outputs": [
        {
          "name": "stdout",
          "output_type": "stream",
          "text": [
            "[3, 6, 9]\n"
          ]
        }
      ],
      "source": [
        "def fromto(start, stop):\n",
        "    if start > stop :\n",
        "        return []\n",
        "    elif start == stop:\n",
        "        return [start]\n",
        "    else:\n",
        "        return [start] + fromto(start + 1, stop)\n",
        "    \"\"\"scrieți o funcție care creează lista tuturor întregilor \n",
        "dintr-un interval dat, divizibili cu o valoare dată d.\n",
        "Indicație: Găsiți cel mai mare număr divizibil din interval, și continuați pas cu pas.\"\"\"\n",
        "#folosind fromto\n",
        "def lista_divizibile (start, stop, d):\n",
        "    return list(filter(lambda x: x % d == 0, fromto(start, stop)))\n",
        "\n",
        "print(lista_divizibile(1, 10, 3))\n"
      ]
    },
    {
      "cell_type": "markdown",
      "metadata": {},
      "source": [
        "3. a) Implementați funcția nth care returnează al n-lea element dintr-o listă.\n",
        "\n",
        "b) Implementați o funcție firstn care returnează o listă cu primele n elemente dintr-o listă dată."
      ]
    },
    {
      "cell_type": "code",
      "execution_count": null,
      "metadata": {},
      "outputs": [
        {
          "name": "stdout",
          "output_type": "stream",
          "text": [
            "3\n",
            "3\n",
            "[1, 2, 3]\n",
            "[1, 2]\n"
          ]
        }
      ],
      "source": [
        "def nth(n, lista):\n",
        "    if (n - 1) == 0:\n",
        "        return lista[0]\n",
        "    else:\n",
        "        return nth(n - 1, lista[1:])\n",
        "\n",
        "print(nth(3, [1, 2, 3, 4, 5, 6, 7, 8, 9]))\n",
        "\n",
        "def nth_2(lista, n):\n",
        "    return lista[n]\n",
        "\n",
        "print(nth_2([1, 2, 3, 4, 5], 2))\n",
        "\n",
        "def firstn(n, lista):\n",
        "    if n == 0:\n",
        "        return []\n",
        "    else:\n",
        "        return [lista[0]] + firstn(n - 1, lista[1:])\n",
        "\n",
        "print(firstn(3, [1, 2, 3, 4, 5, 6, 7, 8, 9]))\n",
        "\n",
        "def firstn2(lista, n):\n",
        "    return lista[:n]\n",
        "\n",
        "print(firstn2([1, 2, 3, 4, 5], 2))"
      ]
    },
    {
      "cell_type": "markdown",
      "metadata": {},
      "source": [
        "PARCURGERI DE LISTE\n",
        "\n",
        "5. a) Implementați o funcție numita filter, cu acelasi comportament ca si functia predefintita filter, folosind reduce().\n",
        "\n",
        "b) Implementați funcția exists care determină (returnează adevărat/fals) dacă există un element din listă care satisface o condiție (o funcție de element cu valoare booleană, dată ca parametru)."
      ]
    },
    {
      "cell_type": "code",
      "execution_count": null,
      "metadata": {},
      "outputs": [
        {
          "name": "stdout",
          "output_type": "stream",
          "text": [
            "[2, 4, 6]\n",
            "True\n"
          ]
        }
      ],
      "source": [
        "def my_filter(conditie, lista):\n",
        "    return reduce(lambda acc, el: acc + [el] if conditie(el) else acc, lista, [])\n",
        "\n",
        "print(my_filter(lambda x: x % 2 == 0, [1, 2, 3, 4, 5, 6]))\n",
        "\n",
        "def exists(f, lst):\n",
        "    if len(lst) == 0:\n",
        "        return False\n",
        "    elif f(lst[0]):\n",
        "        return True\n",
        "    else:\n",
        "        return exists(lst[1:])\n",
        "    \n",
        "print(exists(lambda x: x % 2, [1,2,3,4]))"
      ]
    },
    {
      "cell_type": "markdown",
      "metadata": {},
      "source": [
        "6. a) Implementați folosind reduce o funcție countif care ia ca parametru o funcție f cu valori boolene și o listă și returnează numărul de elemente pentru care funcția f e adevărată.\n",
        "\n",
        "\n",
        "b) Implementați similar o funcție sumif care calculează suma tuturor elementelor (presupuse întregi) pentru care funcția f e adevărată."
      ]
    },
    {
      "cell_type": "code",
      "execution_count": null,
      "metadata": {},
      "outputs": [
        {
          "name": "stdout",
          "output_type": "stream",
          "text": [
            "2\n",
            "6\n"
          ]
        }
      ],
      "source": [
        "lista = [2, 3, 4, 7]\n",
        "\n",
        "def pare(x):\n",
        "    if x % 2 == 0:\n",
        "        return True\n",
        "    else:\n",
        "        return False\n",
        "    \n",
        "def countif(conditie, pare):\n",
        "    return reduce(lambda acc, el: acc + 1 if conditie(el) else acc, pare, 0)\n",
        "\n",
        "print(countif(pare, lista))\n",
        "\n",
        "lista = [2, 3, 4, 7]\n",
        "\n",
        "def sumif(conditie, lista):\n",
        "    return reduce(lambda acc, el: acc + el if conditie(el) else acc, lista, 0)\n",
        "\n",
        "print(sumif(pare, lista))"
      ]
    },
    {
      "cell_type": "markdown",
      "metadata": {},
      "source": [
        "7. Implementați funcțiile split și combine care transformă o listă de perechi într-o pereche de liste, și invers.\n",
        "Ex: split([ (1,2), (3,4), 5,6)]) -> ([1,3,5], [2,4,6])  \n",
        "\n",
        "combine([1,3,5], [2,4,6]) -> [ (1,2), (3,4), 5,6)]"
      ]
    },
    {
      "cell_type": "code",
      "execution_count": null,
      "metadata": {},
      "outputs": [
        {
          "name": "stdout",
          "output_type": "stream",
          "text": [
            "([1, 3, 5], [2, 4, 6])\n",
            "[(1, 2), (3, 4), (5, 6)]\n"
          ]
        }
      ],
      "source": [
        "def split(pairs):\n",
        "    list1 = [pair[0] for pair in pairs]\n",
        "    list2 = [pair[1] for pair in pairs]\n",
        "    return (list1, list2)\n",
        "\n",
        "def combine(list1, list2):\n",
        "    return [(x, y) for x, y in zip(list1, list2)] # zip returneaza un tuplu cu elementele de pe aceeasi pozitie din cele 2 liste\n",
        "\n",
        "pairs = [(1, 2), (3, 4), (5, 6)]\n",
        "print(split(pairs))  # Output: ([1, 3, 5], [2, 4, 6])\n",
        "\n",
        "list1 = [1, 3, 5]\n",
        "list2 = [2, 4, 6]\n",
        "print(combine(list1, list2))  # Output: [(1, 2), (3, 4), (5, 6)]"
      ]
    },
    {
      "cell_type": "code",
      "execution_count": null,
      "metadata": {},
      "outputs": [
        {
          "name": "stdout",
          "output_type": "stream",
          "text": [
            "Split list: Iterative Method: [[1, 3, 5], [2, 4, 6]]\n",
            "Split list: Recursive Method: [[1, 3, 5], [2, 4, 6]]\n",
            "Combine list: Iterative method: [[1, 2], [3, 4], [5, 6]]\n",
            "Combine list: Recursive method: [[1, 2], [3, 4], [5, 6]]\n"
          ]
        }
      ],
      "source": [
        "lst = [(1, 2), (3, 4), (5, 6)]\n",
        "\n",
        "def split(lst):\n",
        "    new_lst = [[], []]\n",
        "    for i in lst:\n",
        "        new_lst[0].append(i[0])\n",
        "        new_lst[1].append(i[1])\n",
        "\n",
        "    return new_lst\n",
        "\n",
        "\n",
        "def split_rec(lst):\n",
        "    def aux():\n",
        "        if len(lst) == 0:\n",
        "            pass  # iesim din functie\n",
        "        else:\n",
        "            new_lst[0].append(lst[0][0])\n",
        "            new_lst[1].append(lst[0][1])\n",
        "            lst.pop(0)\n",
        "            aux()\n",
        "\n",
        "    new_lst = [[], []]\n",
        "    aux()\n",
        "    return new_lst\n",
        "\n",
        "\n",
        "print(f\"Split list: Iterative Method: {split(lst)}\")\n",
        "print(f\"Split list: Recursive Method: {split_rec(lst)}\")\n",
        "\n",
        "\n",
        "lst = [[1, 3, 5], [2, 4, 6]]\n",
        "\n",
        "def combine(lst):\n",
        "    new_lst = []\n",
        "    for i, j in zip(lst[0], lst[1]):\n",
        "        new_lst.append([i, j])\n",
        "\n",
        "    return new_lst\n",
        "\n",
        "\n",
        "def combine_rec(lst):\n",
        "    def aux():\n",
        "        if len(lst[0]) == 0:\n",
        "            pass\n",
        "        else:\n",
        "            new_lst.append([lst[0][0], lst[1][0]])\n",
        "            lst[0].pop(0)\n",
        "            lst[1].pop(0)\n",
        "            aux()\n",
        "\n",
        "    new_lst = []\n",
        "    aux()\n",
        "    return new_lst\n",
        "\n",
        "\n",
        "print(f\"Combine list: Iterative method: {combine(lst)}\")\n",
        "print(f\"Combine list: Recursive method: {combine_rec(lst)}\")\n"
      ]
    },
    {
      "cell_type": "markdown",
      "metadata": {},
      "source": [
        "8. Implementați funcția partition care ia ca parametru o funcție cu valori boolene și o listă și returnează o pereche de liste, cu elementele care satisfac, respectiv nu satisfac funcția f.\n",
        "\n",
        "# partition (lambda x : x >= 5) [4,6,7,5,4,8,9] -> ([6, 7, 5, 8, 9], [4, 4])"
      ]
    },
    {
      "cell_type": "code",
      "execution_count": null,
      "metadata": {},
      "outputs": [
        {
          "name": "stdout",
          "output_type": "stream",
          "text": [
            "([2, 4, 6], [1, 3, 5])\n",
            "([2, 4, 6], [1, 3, 5])\n",
            "([2, 4, 6], [1, 3, 5])\n"
          ]
        }
      ],
      "source": [
        "def partition(f, lista):\n",
        "    satisfacatoare = [element for element in lista if f(element)]\n",
        "    nesaatisfacatoare = [element for element in lista if not f(element)]\n",
        "    return (satisfacatoare, nesaatisfacatoare)\n",
        "\n",
        "def partition2(f, lista):\n",
        "    return (list(filter(f, lista)), list(filter(lambda x: not f(x), lista)))\n",
        "\n",
        "def partition3(f, lista):\n",
        "    return reduce(lambda acc, el: (acc[0] + [el], acc[1]) if f(el) else (acc[0], acc[1] + [el]), lista, ([], []))\n",
        "\n",
        "print(partition(lambda x: x % 2 == 0, [1, 2, 3, 4, 5, 6]))\n",
        "\n",
        "print(partition2(lambda x: x % 2 == 0, [1, 2, 3, 4, 5, 6]))\n",
        "\n",
        "print(partition3(lambda x: x % 2 == 0, [1, 2, 3, 4, 5, 6]))\n"
      ]
    },
    {
      "cell_type": "markdown",
      "metadata": {},
      "source": [
        "9. Scrieți o funcție care ia o listă de cifre și returnează valoarea numărului cu cifrele respective.\n"
      ]
    },
    {
      "cell_type": "code",
      "execution_count": null,
      "metadata": {},
      "outputs": [
        {
          "name": "stdout",
          "output_type": "stream",
          "text": [
            "123456\n"
          ]
        }
      ],
      "source": [
        "def construieste_numar(cifre):\n",
        "    return reduce(lambda acc, el: acc * 10 + el, cifre, 0)\n",
        "\n",
        "print(construieste_numar([1, 2, 3, 4, 5, 6]))\n"
      ]
    },
    {
      "cell_type": "markdown",
      "metadata": {},
      "source": [
        "10. Scrieți o funcție care elimină duplicatele consecutive: ia ca parametru o listă și construiește o listă în care toate secvențele de elemente consecutive egale au fost înlocuite cu un singur element."
      ]
    },
    {
      "cell_type": "code",
      "execution_count": null,
      "metadata": {},
      "outputs": [
        {
          "name": "stdout",
          "output_type": "stream",
          "text": [
            "[1, 2, 3, 4, 5, 6]\n",
            "[1, 2, 3, 4, 5, 3]\n"
          ]
        }
      ],
      "source": [
        "def elimina_duplicate(lista):\n",
        "    return reduce(lambda acc, el: acc + [el] if el not in acc else acc, lista, [])\n",
        "\n",
        "print(elimina_duplicate([1, 2, 3, 4, 5, 6, 1, 2, 3, 4]))\n",
        "\n",
        "def elimina_duplicate_consecutive(lista):\n",
        "    return reduce(lambda acc, el: acc + [el] if acc == [] or acc[-1] != el else acc, lista, [])\n",
        "\n",
        "print(elimina_duplicate_consecutive([1, 2, 2, 3, 3, 4, 5, 5, 5, 3]))"
      ]
    },
    {
      "cell_type": "markdown",
      "metadata": {},
      "source": [
        "11. Scrieți o funcție care compară două liste după următoarea relație de ordine: o listă mai scurtă e \"mai mică\" decât una mai lungă; dacă lungimile sunt egale, ordonarea e determinată de prima pereche de elemente diferite. Evitați parcurgerea inutilă sau repetată a listelor. Funcția va returna un întreg negativ, 0 sau pozitiv în funcție de ordonarea celor două liste argument.![Alt text](https://cdn.discordapp.com/attachments/1174458202964889631/1200443074032173057/image.png?ex%253D65c632bc%2526is%253D65b3bdbc%2526hm%253D81e37d34a55363329e4bc0f31ca4d26cce8a7f30e09959d959035da047702628%2526)"
      ]
    },
    {
      "cell_type": "code",
      "execution_count": null,
      "metadata": {},
      "outputs": [
        {
          "name": "stdout",
          "output_type": "stream",
          "text": [
            "-1\n",
            "-2\n"
          ]
        }
      ],
      "source": [
        "def compara_liste(lista1, lista2):\n",
        "    if len(lista1) < len(lista2):\n",
        "        return -1\n",
        "    elif len(lista1) > len(lista2):\n",
        "        return 1\n",
        "    else:\n",
        "        for i in range(len(lista1)):\n",
        "            if lista1[i] < lista2[i]:\n",
        "                return -1\n",
        "            elif lista1[i] > lista2[i]:\n",
        "                return 1\n",
        "        return 0\n",
        "    \n",
        "print(compara_liste([1, 2, 3, 4, 2], [1, 2, 3, 4, 3]))\n",
        "\n",
        "def compare_lists(list1, list2):\n",
        "    # Compare lengths\n",
        "    len_diff = len(list1) - len(list2)\n",
        "    if len_diff != 0:\n",
        "        return len_diff\n",
        "\n",
        "    # Compare elements\n",
        "    for x, y in zip(list1, list2):\n",
        "        if x != y:\n",
        "            return x - y\n",
        "\n",
        "    # Lists are equal\n",
        "    return 0\n",
        "list1 = [1, 2, 3, 2]\n",
        "list2 = [1, 2, 3, +4]\n",
        "print(compare_lists(list1, list2))  # Output: -1"
      ]
    },
    {
      "cell_type": "markdown",
      "metadata": {},
      "source": [
        "12. Scrieți o funcție care interclasează două liste, fiecare ordonată crescător, adică returnează lista cu elementele din ambele liste, ordonate.\n",
        "Comparați primele elemente din ambele liste pentru a decide care va fi primul în rezultat, și apoi continuați cu listele rămase. "
      ]
    },
    {
      "cell_type": "code",
      "execution_count": 29,
      "metadata": {},
      "outputs": [
        {
          "name": "stdout",
          "output_type": "stream",
          "text": [
            "[1, 2, 3, 4, 5, 6]\n"
          ]
        }
      ],
      "source": [
        "def interclaseaza(lista1, lista2):\n",
        "    if lista1 == []:\n",
        "        return lista2\n",
        "    elif lista2 == []:\n",
        "        return lista1\n",
        "    else:\n",
        "        if lista1[0] < lista2[0]:\n",
        "            return [lista1[0]] + interclaseaza(lista1[1:], lista2)\n",
        "        else:\n",
        "            return [lista2[0]] + interclaseaza(lista1, lista2[1:])\n",
        "        \n",
        "print(interclaseaza([1, 3, 5], [2, 4, 6]))"
      ]
    },
    {
      "cell_type": "markdown",
      "metadata": {},
      "source": [
        "13. Scrieți o funcție care desparte o listă în două liste a căror lungime diferă cu cel mult 1, punând alternativ câte un element în fiecare din liste. (Funcția va returna o pereche de liste)."
      ]
    },
    {
      "cell_type": "code",
      "execution_count": 30,
      "metadata": {},
      "outputs": [
        {
          "name": "stdout",
          "output_type": "stream",
          "text": [
            "([1, 3, 5, 7], [2, 4, 6])\n"
          ]
        }
      ],
      "source": [
        "def desparte_liste(lista):\n",
        "    if len(lista) == 0:\n",
        "        return ([], [])\n",
        "    elif len(lista) == 1:\n",
        "        return ([lista[0]], [])\n",
        "    else:\n",
        "        lista1, lista2 = desparte_liste(lista[2:])        # lista1 = lista[2:] lista2 = lista[2:]\n",
        "        return ([lista[0]] + lista1, [lista[1]] + lista2)  # lista1 = [lista[0]] + lista1 lista2 = [lista[1]] + lista2\n",
        "    \n",
        "print(desparte_liste([1, 2, 3, 4, 5, 6, 7]))"
      ]
    },
    {
      "cell_type": "markdown",
      "metadata": {},
      "source": [
        "14. Sortați o listă prin interclasare (mergesort), despărțind lista în două jumătăți, sortând recursiv fiecare din ele, și apoi interclasând cele două liste sortate. Folosiți funcțiile din cele două probleme anterioare."
      ]
    },
    {
      "cell_type": "code",
      "execution_count": 31,
      "metadata": {},
      "outputs": [
        {
          "name": "stdout",
          "output_type": "stream",
          "text": [
            "[1, 2, 3, 4, 5, 6]\n"
          ]
        }
      ],
      "source": [
        "def mergesort(lista):\n",
        "    if len(lista) <= 1:\n",
        "        return lista\n",
        "    else:\n",
        "        lista1, lista2 = desparte_liste(lista)\n",
        "\n",
        "        lista1 = mergesort(lista1)\n",
        "\n",
        "        lista2 = mergesort(lista2)\n",
        "\n",
        "        return interclaseaza(lista1, lista2)\n",
        "    \n",
        "print(mergesort([1, 3, 5, 2, 4, 6]))"
      ]
    }
  ],
  "metadata": {
    "colab": {
      "provenance": []
    },
    "kernelspec": {
      "display_name": "Python 3",
      "name": "python3"
    },
    "language_info": {
      "codemirror_mode": {
        "name": "ipython",
        "version": 3
      },
      "file_extension": ".py",
      "mimetype": "text/x-python",
      "name": "python",
      "nbconvert_exporter": "python",
      "pygments_lexer": "ipython3",
      "version": "3.12.0"
    }
  },
  "nbformat": 4,
  "nbformat_minor": 0
}
