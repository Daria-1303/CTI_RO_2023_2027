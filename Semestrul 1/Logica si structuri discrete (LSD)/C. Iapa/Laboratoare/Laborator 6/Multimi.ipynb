{
 "cells": [
  {
   "cell_type": "code",
   "execution_count": 1,
   "metadata": {},
   "outputs": [
    {
     "name": "stdout",
     "output_type": "stream",
     "text": [
      "{1, 2, 3, 4, 5, 7}\n",
      "{1, 2, 3, 4, 7}\n",
      "{1, 2}\n"
     ]
    }
   ],
   "source": [
    "'''Scrieți o funcție care returnează mulțimea cifrelor unui număr. Scrieți apoi altă funcție care ia o mulțime de numere și\n",
    "\n",
    " returnează reuniunea/intersecția dintre mulțimile cifrelor lor.\n",
    "\n",
    "Input: {1234, 123, 127}; Output: reuniune: {1, 2, 3, 4, 7}; intersectie: {1, 2}'''\n",
    "\n",
    "def multime_cifre(numar):\n",
    "    cifre = set()\n",
    "    for cifra in str(numar):\n",
    "        cifre.add(int(cifra)) \n",
    "    return cifre\n",
    "\n",
    "\n",
    "def reuniune(multime):\n",
    "    if not multime: # daca multimea e goala\n",
    "        return set() # returneaza multimea goala\n",
    "    reuniune = set()  \n",
    "    for numar in multime:\n",
    "        cifre = multime_cifre(numar)\n",
    "        reuniune.update(cifre)\n",
    "    return reuniune\n",
    "\n",
    "def intersectie(multime):\n",
    "    if not multime:\n",
    "        return set()\n",
    "\n",
    "    intersectie_totala = multime_cifre(multime[0])\n",
    "    for numar in multime:\n",
    "        cifre = multime_cifre(numar)\n",
    "        intersectie_totala.intersection_update(cifre)  \n",
    "    return intersectie_totala\n",
    "\n",
    "print(reuniune((1234, 123, 127455)))\n",
    "print(reuniune((1234, 123, 127))) \n",
    "print(intersectie((1234, 123, 127)))\n",
    "\n"
   ]
  },
  {
   "cell_type": "code",
   "execution_count": 22,
   "metadata": {},
   "outputs": [
    {
     "name": "stdout",
     "output_type": "stream",
     "text": [
      "{0, 1, 2, 3, 4, 7}\n",
      "{1, 2, 3, 4, 5, 7}\n"
     ]
    },
    {
     "ename": "TypeError",
     "evalue": "'set' object is not subscriptable",
     "output_type": "error",
     "traceback": [
      "\u001b[1;31m---------------------------------------------------------------------------\u001b[0m",
      "\u001b[1;31mTypeError\u001b[0m                                 Traceback (most recent call last)",
      "\u001b[1;32mc:\\Users\\daria\\.vscode\\Python\\Laborator\\Multimi.ipynb Cell 2\u001b[0m line \u001b[0;36m2\n\u001b[0;32m     <a href='vscode-notebook-cell:/c%3A/Users/daria/.vscode/Python/Laborator/Multimi.ipynb#W1sZmlsZQ%3D%3D?line=24'>25</a>\u001b[0m         rezu\u001b[39m.\u001b[39mintersection_update(cifrele)\n\u001b[0;32m     <a href='vscode-notebook-cell:/c%3A/Users/daria/.vscode/Python/Laborator/Multimi.ipynb#W1sZmlsZQ%3D%3D?line=25'>26</a>\u001b[0m     \u001b[39mreturn\u001b[39;00m rezu\n\u001b[1;32m---> <a href='vscode-notebook-cell:/c%3A/Users/daria/.vscode/Python/Laborator/Multimi.ipynb#W1sZmlsZQ%3D%3D?line=27'>28</a>\u001b[0m \u001b[39mprint\u001b[39m(intersecteaza({\u001b[39m1234\u001b[39;49m, \u001b[39m123\u001b[39;49m, \u001b[39m1027\u001b[39;49m}))\n\u001b[0;32m     <a href='vscode-notebook-cell:/c%3A/Users/daria/.vscode/Python/Laborator/Multimi.ipynb#W1sZmlsZQ%3D%3D?line=28'>29</a>\u001b[0m \u001b[39mprint\u001b[39m(intersecteaza({\u001b[39m1234\u001b[39m, \u001b[39m123\u001b[39m, \u001b[39m127\u001b[39m}, \u001b[39mset\u001b[39m()))\n",
      "\u001b[1;32mc:\\Users\\daria\\.vscode\\Python\\Laborator\\Multimi.ipynb Cell 2\u001b[0m line \u001b[0;36m2\n\u001b[0;32m     <a href='vscode-notebook-cell:/c%3A/Users/daria/.vscode/Python/Laborator/Multimi.ipynb#W1sZmlsZQ%3D%3D?line=19'>20</a>\u001b[0m \u001b[39mif\u001b[39;00m rezu \u001b[39mis\u001b[39;00m \u001b[39mNone\u001b[39;00m:\n\u001b[0;32m     <a href='vscode-notebook-cell:/c%3A/Users/daria/.vscode/Python/Laborator/Multimi.ipynb#W1sZmlsZQ%3D%3D?line=20'>21</a>\u001b[0m     rezu \u001b[39m=\u001b[39m \u001b[39mset\u001b[39m()\n\u001b[1;32m---> <a href='vscode-notebook-cell:/c%3A/Users/daria/.vscode/Python/Laborator/Multimi.ipynb#W1sZmlsZQ%3D%3D?line=21'>22</a>\u001b[0m rezu\u001b[39m.\u001b[39mupdate(ia_cifrele(multime[\u001b[39m0\u001b[39;49m]))\n\u001b[0;32m     <a href='vscode-notebook-cell:/c%3A/Users/daria/.vscode/Python/Laborator/Multimi.ipynb#W1sZmlsZQ%3D%3D?line=22'>23</a>\u001b[0m \u001b[39mfor\u001b[39;00m nr \u001b[39min\u001b[39;00m multime:\n\u001b[0;32m     <a href='vscode-notebook-cell:/c%3A/Users/daria/.vscode/Python/Laborator/Multimi.ipynb#W1sZmlsZQ%3D%3D?line=23'>24</a>\u001b[0m     cifrele \u001b[39m=\u001b[39m ia_cifrele(nr)\n",
      "\u001b[1;31mTypeError\u001b[0m: 'set' object is not subscriptable"
     ]
    }
   ],
   "source": [
    "def ia_cifrele(numar):\n",
    "    cifrele = set()\n",
    "    for cif in str(numar):\n",
    "        cifrele.add(int(cif))\n",
    "    return cifrele\n",
    "\n",
    "# print(ia_cifrele(1234)) -> {1, 2, 3, 4}\n",
    "\n",
    "def reuneste(multime, rez = None):\n",
    "    if rez is None:\n",
    "        rez = set()\n",
    "    for numar in multime:\n",
    "        rez.update(ia_cifrele(numar))\n",
    "    return rez\n",
    "\n",
    "print(reuneste({1234, 123, 1027}))\n",
    "print(reuneste({1234, 123, 127235}, set()))\n",
    "\n",
    "def intersecteaza(multime, rezu = None):\n",
    "    if rezu is None:\n",
    "        rezu = set()\n",
    "    rezu.update(ia_cifrele(multime[0]))\n",
    "    for nr in multime:\n",
    "        cifrele = ia_cifrele(nr)\n",
    "        rezu.intersection_update(cifrele)\n",
    "    return rezu\n",
    "\n",
    "print(intersecteaza({1234, 123, 1027}))\n",
    "print(intersecteaza({1234, 123, 127}, set()))"
   ]
  },
  {
   "cell_type": "code",
   "execution_count": 19,
   "metadata": {},
   "outputs": [
    {
     "name": "stdout",
     "output_type": "stream",
     "text": [
      "({1, 2, 3, 4, 7}, {1, 2})\n"
     ]
    }
   ],
   "source": [
    "def digit_set(num):\n",
    "    return set(int(digit) for digit in str(num))\n",
    "\n",
    "def digit_sets_operations(nums):\n",
    "    nums_iter = iter(nums) # iter = iterator\n",
    "    union_set = digit_set(next(nums_iter)) # next = next element in iterator\n",
    "    intersection_set = union_set.copy() # copy = copy of set\n",
    "\n",
    "    for num in nums_iter:\n",
    "        num_digits = digit_set(num)\n",
    "        union_set.update(num_digits)\n",
    "        intersection_set.intersection_update(num_digits)\n",
    "\n",
    "    return union_set, intersection_set\n",
    "\n",
    "print(digit_sets_operations({1234, 123, 127}))"
   ]
  }
 ],
 "metadata": {
  "kernelspec": {
   "display_name": "Python 3",
   "language": "python",
   "name": "python3"
  },
  "language_info": {
   "codemirror_mode": {
    "name": "ipython",
    "version": 3
   },
   "file_extension": ".py",
   "mimetype": "text/x-python",
   "name": "python",
   "nbconvert_exporter": "python",
   "pygments_lexer": "ipython3",
   "version": "3.12.0"
  }
 },
 "nbformat": 4,
 "nbformat_minor": 2
}
