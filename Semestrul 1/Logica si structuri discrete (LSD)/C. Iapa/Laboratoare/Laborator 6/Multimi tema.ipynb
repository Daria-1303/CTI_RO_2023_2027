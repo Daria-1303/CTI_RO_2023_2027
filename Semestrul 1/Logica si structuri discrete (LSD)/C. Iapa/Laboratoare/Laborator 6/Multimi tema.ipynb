{
 "cells": [
  {
   "cell_type": "code",
   "execution_count": 3,
   "metadata": {},
   "outputs": [
    {
     "name": "stdout",
     "output_type": "stream",
     "text": [
      "{1,2,3}\n"
     ]
    }
   ],
   "source": [
    "'''1. Scrieți o funcție care ia ca parametru o mulțime și o tipărește pe o linie, între acolade { } și cu virgulă între elemente. \n",
    "\n",
    "Input: {1,2,3}; Output: {1,2,3}'''\n",
    "\n",
    "def printare(multime):\n",
    "    print('{' + ','.join(map(str, multime)) + '}')\n",
    "\n",
    "printare({1,2,3})"
   ]
  },
  {
   "cell_type": "code",
   "execution_count": 11,
   "metadata": {},
   "outputs": [
    {
     "name": "stdout",
     "output_type": "stream",
     "text": [
      "{1, 3}\n",
      "{1, 3}\n",
      "{2, 4}\n",
      "{2, 4}\n",
      "{1, 2, 3, 4}\n",
      "{1, 2, 3, 4}\n"
     ]
    }
   ],
   "source": [
    "'''2. Scrieți o funcție care ia o listă de perechi (de tip precizat) și returnează mulțimea elementelor de pe prima poziție din fiecare pereche (variante: a doua poziție; \n",
    "ambele poziții, dacă sunt de același tip).\n",
    "\n",
    "Input: [(1,2), (3,4)]; Output: {1,3}'''\n",
    "from functools import reduce\n",
    "\n",
    "def prima_pozitie(lista):\n",
    "    return {x[0] for x in lista}\n",
    "\n",
    "print(prima_pozitie([(1,2), (3,4)]))\n",
    "\n",
    "def prima(lista):\n",
    "    return reduce(lambda acc, el: acc | {el[0]}, lista, set())\n",
    "\n",
    "print(prima([(1,2), (3,4)]))\n",
    "\n",
    "def doi(lista):\n",
    "    return {x[1] for x in lista}\n",
    "\n",
    "print(doi([(1,2), (3,4)]))\n",
    "\n",
    "def doi_reduce(lista):\n",
    "    return reduce(lambda acc, el: acc | {el[1]}, lista, set())\n",
    "\n",
    "print(doi_reduce([(1,2), (3,4)]))\n",
    "\n",
    "def ambele(lista):\n",
    "    return {x[0] for x in lista} | {x[1] for x in lista}\n",
    "\n",
    "print(ambele([(1,2), (3,4)]))\n",
    "\n",
    "def ambele_reduce(lista):\n",
    "    return reduce(lambda acc, el: acc | {el[0], el[1]}, lista, set())\n",
    "\n",
    "print(ambele_reduce([(1,2), (3,4)]))\n"
   ]
  },
  {
   "cell_type": "code",
   "execution_count": 13,
   "metadata": {},
   "outputs": [
    {
     "name": "stdout",
     "output_type": "stream",
     "text": [
      "{2, 4}\n",
      "{2, 4}\n"
     ]
    }
   ],
   "source": [
    "\n",
    "'''3. Implementați funcția standard filter care ia ca parametri o funcție booleană f și o mulțime s și returnează mulțimea elementelor din s care satisfac funcția f.\n",
    "\n",
    "Input: lambda x: x % 2 == 0, {1, 2, 3, 4}; Output: {2, 4}'''\n",
    "\n",
    "def filtrare(functie, multime):\n",
    "    return {x for x in multime if functie(x)}\n",
    "\n",
    "print(filtrare(lambda x: x % 2 == 0, {1, 2, 3, 4}))\n",
    "\n",
    "def my_filter(functie, multime):\n",
    "    return reduce(lambda acc, el: acc | {el} if functie(el) else acc, multime, set())\n",
    "\n",
    "print(my_filter(lambda x: x % 2 == 0, {1, 2, 3, 4}))"
   ]
  },
  {
   "cell_type": "code",
   "execution_count": 16,
   "metadata": {},
   "outputs": [
    {
     "name": "stdout",
     "output_type": "stream",
     "text": [
      "({2, 4}, {1, 3})\n"
     ]
    }
   ],
   "source": [
    "'''4. Implementați funcția standard partition care ia ca parametri o funcție booleană f și o mulțime s și returnează o pereche de mulțimi, cu elementele din s care satisfac, respectiv nu satisfac funcția f.\n",
    "\n",
    "Input: lambda x: x % 2 == 0, {1, 2, 3, 4}; Output: ({2, 4}, {1, 3})'''\n",
    "from functools import reduce\n",
    "\n",
    "def partition(multime, conditie):\n",
    "    rezultat = (set(), set())\n",
    "    return reduce(lambda acc, el: (acc[0] | {el}, acc[1]) if conditie(el) else (acc[0], acc[1]| {el}), multime, rezultat)\n",
    "\n",
    "print(partition({1, 2, 3, 4}, lambda x: x % 2 == 0))"
   ]
  },
  {
   "cell_type": "code",
   "execution_count": 17,
   "metadata": {},
   "outputs": [
    {
     "name": "stdout",
     "output_type": "stream",
     "text": [
      "({2, 4}, {1, 3})\n"
     ]
    }
   ],
   "source": [
    "def partition2(f,multime):\n",
    "    multime1 = set()\n",
    "    multime0 = set()\n",
    "\n",
    "    for element in multime:\n",
    "        if f(element):\n",
    "            multime1.add(element)\n",
    "        else:\n",
    "            multime0.add(element)\n",
    "    return (multime1, multime0)\n",
    "\n",
    "def partition_lambda(f,multime):\n",
    "    multime1 = set(filter(lambda x: f(x), multime))\n",
    "    multime0 = set(filter(lambda x: not f(x), multime))\n",
    "    return (multime1, multime0)\n",
    "\n",
    "print(partition2(lambda x: x % 2 == 0, {1, 2, 3, 4}))\n"
   ]
  },
  {
   "cell_type": "code",
   "execution_count": 26,
   "metadata": {},
   "outputs": [
    {
     "name": "stdout",
     "output_type": "stream",
     "text": [
      "{1, 2, 3, 4, 5, 6, 7}\n",
      "set()\n"
     ]
    }
   ],
   "source": [
    "'''5. Scrieți o funcție care ia o lista de mulțimi (de exemplu, de șiruri), și returnează reuniunea (variantă: intersectia) mulțimilor.\n",
    "\n",
    "Input: [{1, 2, 3}, {1, 2, 3, 4}, {3, 5, 6, 7}]; Output: reuniune: {1, 2, 3, 4, 5, 6, 7}; intersectie: {3}'''\n",
    "from functools import reduce\n",
    "def reuniune(lista):\n",
    "    return reduce (lambda acc, el: acc | el, lista, set())\n",
    "\n",
    "print(reuniune([{1, 2, 3}, {1, 2, 3, 4}, {3, 5, 6, 7}]))\n",
    "\n",
    "\n",
    "    "
   ]
  },
  {
   "cell_type": "code",
   "execution_count": 19,
   "metadata": {},
   "outputs": [
    {
     "name": "stdout",
     "output_type": "stream",
     "text": [
      "{3}\n",
      "{1, 2, 3, 4, 5, 6, 7}\n"
     ]
    }
   ],
   "source": [
    "def unire(lista):\n",
    "    unire = set()\n",
    "    for multime in lista:\n",
    "        unire.update(multime)\n",
    "    return unire\n",
    "\n",
    "def intersectie(lista):\n",
    "    if not lista:\n",
    "        return set()\n",
    "    intersectie = set(lista[0])\n",
    "    for multime in lista:\n",
    "        intersectie.intersection_update(multime)\n",
    "    return intersectie\n",
    "\n",
    "print(intersectie([{1, 2, 3}, {1, 2, 3, 4}, {3, 5, 6, 7}]))\n",
    "print(unire([{1, 2, 3}, {1, 2, 3, 4}, {3, 5, 6, 7}]))"
   ]
  },
  {
   "cell_type": "code",
   "execution_count": 34,
   "metadata": {},
   "outputs": [
    {
     "name": "stdout",
     "output_type": "stream",
     "text": [
      "{1, 2, 3, 4}\n",
      "{1, 2, 3, 4}\n",
      "{1, 2, 3, 4, 7}\n",
      "{1, 2}\n"
     ]
    }
   ],
   "source": [
    "'''6. Scrieți o funcție care returnează mulțimea cifrelor unui număr. Scrieți apoi altă funcție care ia o mulțime de numere și returnează reuniunea/intersecția dintre mulțimile cifrelor lor.\n",
    "\n",
    "Input: {1234, 123, 127}; Output: reuniune: {1, 2, 3, 4, 7}; intersectie: {1, 2}'''\n",
    "\n",
    "def cifre(numar):\n",
    "    return {int(x) for x in str(numar)}\n",
    "\n",
    "print(cifre(1234))\n",
    "\n",
    "def cifre_reduce(numar):\n",
    "    return reduce(lambda acc, el: acc | {int(el)}, str(numar), set())\n",
    "\n",
    "print(cifre_reduce(1234))\n",
    "\n",
    "def cifre_lista(lista):\n",
    "    return reduce(lambda acc, el: acc | cifre(el), lista, set())\n",
    "\n",
    "print(cifre_lista([1234, 123, 127]))\n",
    "\n",
    "def intersectie(multime):\n",
    "    if not multime:\n",
    "        return set()\n",
    "\n",
    "    intersectie_totala = cifre_reduce(multime[0])\n",
    "    for numar in multime:\n",
    "        cifr = cifre_reduce(numar)\n",
    "        intersectie_totala.intersection_update(cifr)  \n",
    "    return intersectie_totala\n",
    "\n",
    "print(intersectie([1234, 123, 127]))\n",
    "\n"
   ]
  },
  {
   "cell_type": "code",
   "execution_count": 5,
   "metadata": {},
   "outputs": [
    {
     "name": "stdout",
     "output_type": "stream",
     "text": [
      "[(1, 1), (2, 1), (3, 1), (4, 1), (5, 1), (6, 1), (7, 1), (8, 1), (9, 1), (10, 1)]\n",
      "[(1, 1), (2, 1), (3, 1), (4, 1), (5, 1), (6, 1), (7, 1), (8, 1), (9, 1), (10, 1)]\n"
     ]
    }
   ],
   "source": [
    "'''7. Scrieți o funcție care ia o mulțime de numere și returnează o listă de perechi (număr, număr de apariții).'''\n",
    "\n",
    "def numar_aparitii(multime):\n",
    "    return [(x, len([y for y in multime if x == y])) for x in multime]\n",
    "\n",
    "print(numar_aparitii({1,2,4 , 3,4,5,6,7,8,9,10}))\n",
    "\n",
    "# cu reduce\n",
    "from functools import reduce   \n",
    "def nr_a_reduce(multime):\n",
    "    return reduce(lambda acc, el: acc + [(el, len([y for y in multime if el == y]))], multime, [])\n",
    "\n",
    "print(nr_a_reduce({1,2,3,4, 4,5,6,7,8,9,10}))"
   ]
  },
  {
   "cell_type": "code",
   "execution_count": 35,
   "metadata": {},
   "outputs": [
    {
     "data": {
      "text/plain": [
       "({1, 2, 3, 4, 5, 6, 7}, {3})"
      ]
     },
     "execution_count": 35,
     "metadata": {},
     "output_type": "execute_result"
    }
   ],
   "source": [
    "from functools import reduce\n",
    "def reuniune_intersectie_lista(lista_multimi):\n",
    "  return (reduce(lambda acc, curr: acc | curr, lista_multimi, set()), reduce(lambda acc, curr: acc & curr, lista_multimi))\n",
    "\n",
    "reuniune_intersectie_lista([{1, 2, 3}, {1, 2, 3, 4}, {3, 5, 6, 7}])"
   ]
  }
 ],
 "metadata": {
  "kernelspec": {
   "display_name": "Python 3",
   "language": "python",
   "name": "python3"
  },
  "language_info": {
   "codemirror_mode": {
    "name": "ipython",
    "version": 3
   },
   "file_extension": ".py",
   "mimetype": "text/x-python",
   "name": "python",
   "nbconvert_exporter": "python",
   "pygments_lexer": "ipython3",
   "version": "3.12.0"
  }
 },
 "nbformat": 4,
 "nbformat_minor": 2
}
