{
 "cells": [
  {
   "cell_type": "code",
   "execution_count": 2,
   "metadata": {},
   "outputs": [
    {
     "name": "stdout",
     "output_type": "stream",
     "text": [
      "{'a': 10, 'b': 8, 'c': 2}\n"
     ]
    }
   ],
   "source": [
    "'''Crearea de dicționare\n",
    "1. Scrieți o funcție care ia o listă de asociere cu perechi de tip (șir, întreg) și creează un dicționar în care fiecare\n",
    " șir e asociat cu suma tuturor valorilor cu care e asociat în listă.\n",
    "\n",
    "Input: [('a', 7), ('b', 5), ('c', 2), ('a', 3), ('b', 3)]; Output: {'a': 10, 'b': 8, 'c': 2}'''\n",
    "\n",
    "def dictionar1(lista, dictionar =None):\n",
    "    if dictionar is None:\n",
    "        dictionar = {}\n",
    "    if lista == []: #daca lista e goala, returnam dictionarul conditie de oprire\n",
    "        return dictionar\n",
    "    head = lista[0]\n",
    "    if head[0] in dictionar:\n",
    "        dictionar[head[0]] = dictionar[head[0]] + head [1]\n",
    "    else:\n",
    "        dictionar[head[0]] = head [1]\n",
    "    return dictionar1(lista[1:], dictionar)\n",
    "\n",
    "print(dictionar1([('a', 7), ('b', 5), ('c', 2), ('a', 3), ('b', 3)]))\n",
    "\n",
    "\n"
   ]
  },
  {
   "cell_type": "code",
   "execution_count": 4,
   "metadata": {},
   "outputs": [
    {
     "name": "stdout",
     "output_type": "stream",
     "text": [
      "{'a': 10, 'b': 8, 'c': 2}\n"
     ]
    }
   ],
   "source": [
    "#varianta cu reduce\n",
    "from functools import reduce\n",
    "\n",
    "def adaua_element(acc, el):\n",
    "    if el [0] in acc:\n",
    "        acc[el[0]] = acc[el[0]] + el[1]\n",
    "    else:\n",
    "        acc[el[0]] = el[1]\n",
    "    return acc\n",
    "\n",
    "def parcurgere_lista(lista):\n",
    "    return reduce(lambda acc, el: adaua_element(acc, el), lista, {})\n",
    "\n",
    "print(parcurgere_lista([('a', 7), ('b', 5), ('c', 2), ('a', 3), ('b', 3)]))"
   ]
  },
  {
   "cell_type": "code",
   "execution_count": 11,
   "metadata": {},
   "outputs": [
    {
     "name": "stdout",
     "output_type": "stream",
     "text": [
      "{'a': 5, 'b': 6, 'c': 2}\n",
      "{'a': 5, 'b': 6}\n"
     ]
    }
   ],
   "source": [
    "'''2. Scrieți o funcție care ia o listă de șiruri de caractere și creează un dicționar în care fiecare șir e asociat cu numărul aparițiilor din listă.\n",
    "\n",
    "Input: [\"aaa\", \"bbb\", \"aabbb\"]; Output: {'a': 5, 'b': 6}'''\n",
    "\n",
    "from functools import reduce\n",
    "\n",
    "def adauga(acc, el):\n",
    "    if len(el) == 0:\n",
    "        return acc\n",
    "    if el[0] in acc:\n",
    "        acc[el[0]] = acc[el[0]] +1\n",
    "    else:\n",
    "        acc[el[0]] = 1\n",
    "    return adauga(acc, el[1:])\n",
    "\n",
    "def parcurgere(lista):\n",
    "    return reduce(lambda acc, el: adauga(acc, el), lista, {})\n",
    "\n",
    "print(parcurgere([\"aaa\", \"bbb\", \"aabbbcc\"]))\n",
    "print(parcurgere([\"aaa\", \"bbb\", \"aabbb\"]))\n",
    "\n"
   ]
  },
  {
   "cell_type": "code",
   "execution_count": 15,
   "metadata": {},
   "outputs": [
    {
     "name": "stdout",
     "output_type": "stream",
     "text": [
      "{'a': 7, 'b': 5}\n"
     ]
    }
   ],
   "source": [
    "'''Parcurgerea dicționarelor\n",
    "3. Implementați cu ajutorul lui reduce funcția filter care creează un nou dicționar doar cu perechile din dicționarul dat care satisfac o funcție dată.'''\n",
    "from functools import reduce\n",
    "\n",
    "def adauga(acc, el, conditie):\n",
    "    if conditie(el[1]):\n",
    "        acc[el[0]] = el[1]\n",
    "    return acc\n",
    "\n",
    "def filtreaza(dictionar, conditie):\n",
    "    return reduce(lambda acc, el: adauga(acc, el, conditie), dictionar.items(), {})\n",
    "\n",
    "print(filtreaza({'a': 7, 'b': 5, 'c': 2, 'd': 3, 'e': 3}, lambda x: x > 3))\n"
   ]
  },
  {
   "cell_type": "code",
   "execution_count": 18,
   "metadata": {},
   "outputs": [
    {
     "name": "stdout",
     "output_type": "stream",
     "text": [
      "True\n",
      "False\n"
     ]
    }
   ],
   "source": [
    "'''4. Pentru tipurile colecție (liste, mulțimi, dicționare) e util să avem funcții care ne spun dacă există un element care satisface o anume condiție, respectiv \n",
    "dacă toate elementele satisfac condiția.\n",
    "Implementați funcțiile exists și for_all pentru dicționare, folosind reduce. Ele iau ca parametru o funcție booleană de cheie și\n",
    " valoare (care exprimă condiția) și dicționarul în care se face căutarea. \n",
    "\n",
    "Input: dict: {'a': 5, 'b': 7, 'c': 1}; conditie: valoare >= 5; Output: exists: True, for_all: False'''\n",
    "\n",
    "def exist(dictionar, conditie):\n",
    "    return reduce(lambda acc, el: acc or conditie(dictionar[el]), dictionar, False)\n",
    "\n",
    "print(exist({'a': 5, 'b': 7, 'c': 1}, lambda x: x >= 5))\n",
    "\n",
    "def for_all(dictionar, conditie):\n",
    "    return reduce(lambda acc, el: acc and conditie(dictionar[el]), dictionar, True)\n",
    "\n",
    "print(for_all({'a': 5, 'b': 7, 'c': 1}, lambda x: x >= 5))"
   ]
  },
  {
   "cell_type": "code",
   "execution_count": 19,
   "metadata": {},
   "outputs": [
    {
     "name": "stdout",
     "output_type": "stream",
     "text": [
      "{'a': 6, 'b': 8, 'c': 7}\n"
     ]
    }
   ],
   "source": [
    "'''5. Implementați cu ajutorul lui reduce funcția map care construiește un dicționar în care toate valorile au fost transformate folosind o funcție dată ca parametru.\n",
    "\n",
    "Input: {'a': 5, 'b': 7, 'c': 6}, lambda x: x + 1; Output: {'a': 6, 'b': 8, 'c': 7}'''\n",
    "\n",
    "def adaugal(acc, el, functie):\n",
    "    acc[el[0]] = functie(el[1])\n",
    "    return acc\n",
    "\n",
    "def mapare(dictionar, functie):\n",
    "    return reduce(lambda acc, el: adaugal(acc, el, functie), dictionar.items(), {})\n",
    "\n",
    "print(mapare({'a': 5, 'b': 7, 'c': 6}, lambda x: x + 1))"
   ]
  },
  {
   "cell_type": "code",
   "execution_count": 24,
   "metadata": {},
   "outputs": [
    {
     "name": "stdout",
     "output_type": "stream",
     "text": [
      "{5, 7}\n",
      "{5, 7}\n",
      "{5, 7}\n"
     ]
    }
   ],
   "source": [
    "'''6. Scrieți o funcție care primește un dicționar de la șiruri la întregi și o listă de șiruri și returnează mulțimea tuturor valorilor din dicționar care \n",
    "corespund șirurilor din listă.\n",
    "\n",
    "Input: {'aa': 5, 'bb': 7, 'ca': 6}, ['aa', 'bb', 'c']; Output: {5, 7}'''\n",
    "\n",
    "def values_for_keys(d, keys):\n",
    "    values = set()\n",
    "    for key in keys:\n",
    "        if key in d:\n",
    "            values.add(d[key])\n",
    "    return values\n",
    "\n",
    "print(values_for_keys({'aa': 5, 'bb': 7, 'ca': 6}, ['aa', 'bb', 'c']))\n",
    "\n",
    "def v2(d, keys):\n",
    "    return reduce(lambda acc, el: acc.union({d[el]}) if el in d else acc, keys, set())\n",
    "\n",
    "print(v2({'aa': 5, 'bb': 7, 'ca': 6}, ['aa', 'bb', 'c']))\n",
    "\n",
    "def v3(d, lista_chei):\n",
    "    valori = [d[key] for key in lista_chei if key in d]\n",
    "    return set(valori)\n",
    "\n",
    "print(v3({'aa': 5, 'bb': 7, 'ca': 6}, ['aa', 'bb', 'c']))\n"
   ]
  },
  {
   "cell_type": "code",
   "execution_count": 26,
   "metadata": {},
   "outputs": [
    {
     "name": "stdout",
     "output_type": "stream",
     "text": [
      "8\n"
     ]
    }
   ],
   "source": [
    "'''7. Scrieți o funcție care primește o funcție și un dicționar și returnează maximul valorilor funcției pentru toate intrările dicționarului.\n",
    "Funcția-parametru are ca argumente cheia și valoarea unei intrări, și poate returna valori arbitrare. Folosiți reduce pentru parcurgere, și \n",
    "max (definită implicit pentru orice tip) pentru a compara valorile returnate de funcția parametru.'''\n",
    "from functools import reduce\n",
    "def maximul(dictionar, functie):\n",
    "    return reduce(lambda acc, el: max(acc, functie(el[1])), dictionar. items(), 0)\n",
    "\n",
    "print(maximul({'a': 5, 'b': 7, 'c': 6}, lambda x: x + 1))\n"
   ]
  },
  {
   "cell_type": "code",
   "execution_count": 25,
   "metadata": {},
   "outputs": [
    {
     "name": "stdout",
     "output_type": "stream",
     "text": [
      "[('b', 7), ('c', 6), ('a', 5)]\n"
     ]
    }
   ],
   "source": [
    "'''3. Scrieți o funcție care ia un dicționar și returnează o listă de perechi (șir, întreg) ordonată descrescător după valoare.'''\n",
    "def sortare(dictionar):\n",
    "    return sorted(dictionar.items(), key=lambda x: x[1], reverse=True) #key = lambda x: x[1] - cheia de sortare e valoarea, reverse = True - sortare descrescatoare\n",
    "\n",
    "print(sortare({'a': 5, 'b': 7, 'c': 6}))\n",
    "    \n"
   ]
  },
  {
   "cell_type": "code",
   "execution_count": 3,
   "metadata": {},
   "outputs": [
    {
     "name": "stdout",
     "output_type": "stream",
     "text": [
      "{'a': [5, 3], 'b': [7, 2], 'c': [6, 1]}\n",
      "5\n"
     ]
    }
   ],
   "source": [
    "'''4. Scrieți o funcție care ia o listă de dicționare și returnează un dicționar care are ca chei\n",
    "      toate cheile din dicționarele din listă, iar ca valori listele valorilor asociate fiecărei chei în parte.'''\n",
    "def lista_valori(lista):\n",
    "      dictionar = {}\n",
    "      for d in lista:\n",
    "            for key in d:\n",
    "                  if key in dictionar:\n",
    "                        dictionar[key].append(d[key])\n",
    "                  else:\n",
    "                        dictionar[key] = [d[key]]\n",
    "      return dictionar\n",
    "\n",
    "print(lista_valori([{'a': 5, 'b': 7, 'c': 6}, {'a': 3, 'b': 2, 'c': 1}]))\n",
    "\n",
    "lista = [{'a': 5, 'b': 7, 'c': 6}, {'a': 3, 'b': 2, 'c': 1}]\n",
    "print(lista[0]['a'])\n"
   ]
  },
  {
   "cell_type": "code",
   "execution_count": 28,
   "metadata": {},
   "outputs": [
    {
     "name": "stdout",
     "output_type": "stream",
     "text": [
      "{'a': [5, 3], 'b': [7, 2], 'c': [6, 1]}\n"
     ]
    }
   ],
   "source": [
    "# cu reduce\n",
    "from functools import reduce    \n",
    "def adauga(acc, el):\n",
    "      for key in el:\n",
    "            if key in acc:\n",
    "                  acc[key].append(el[key])\n",
    "            else:\n",
    "                  acc[key] = [el[key]]\n",
    "      return acc\n",
    "\n",
    "def lista_valori2(lista):\n",
    "        return reduce(lambda acc, el: adauga(acc, el), lista, {})\n",
    "print(lista_valori2([{'a': 5, 'b': 7, 'c': 6}, {'a': 3, 'b': 2, 'c': 1}]))"
   ]
  }
 ],
 "metadata": {
  "kernelspec": {
   "display_name": "Python 3",
   "language": "python",
   "name": "python3"
  },
  "language_info": {
   "codemirror_mode": {
    "name": "ipython",
    "version": 3
   },
   "file_extension": ".py",
   "mimetype": "text/x-python",
   "name": "python",
   "nbconvert_exporter": "python",
   "pygments_lexer": "ipython3",
   "version": "3.12.0"
  }
 },
 "nbformat": 4,
 "nbformat_minor": 2
}
