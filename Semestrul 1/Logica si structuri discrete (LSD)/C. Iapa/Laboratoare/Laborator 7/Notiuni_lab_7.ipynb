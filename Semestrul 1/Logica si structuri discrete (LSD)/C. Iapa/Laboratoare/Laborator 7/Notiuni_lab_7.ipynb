{
  "cells": [
    {
      "cell_type": "markdown",
      "metadata": {
        "id": "cCG2pck9iwPI"
      },
      "source": [
        "Tema:\n",
        "2. Implementati o functie care primeste ca parametru o multime de cifre si returneaza o lista cu ultima cifra a fiecarui element al multimii."
      ]
    },
    {
      "cell_type": "code",
      "execution_count": null,
      "metadata": {
        "colab": {
          "base_uri": "https://localhost:8080/"
        },
        "id": "Cu95fFOEisLs",
        "outputId": "5dcc2bb7-13b7-4e70-d9ee-633090412d2e"
      },
      "outputs": [
        {
          "name": "stdout",
          "output_type": "stream",
          "text": [
            "[4, 4, 8]\n"
          ]
        }
      ],
      "source": [
        "from functools import reduce\n",
        "\n",
        "def transformare_multime(multime):\n",
        "  return reduce(lambda acc, el: acc + [el%10], multime,[])\n",
        "print(transformare_multime({1234, 124, 98}))"
      ]
    },
    {
      "cell_type": "markdown",
      "metadata": {
        "id": "reuwKAmHi7DQ"
      },
      "source": [
        "### DICTIONARE"
      ]
    },
    {
      "cell_type": "markdown",
      "metadata": {
        "id": "dnfjsIDOi-GM"
      },
      "source": [
        "**Crearea unui dictionar**"
      ]
    },
    {
      "cell_type": "markdown",
      "metadata": {
        "id": "wZJF2JjukLmr"
      },
      "source": [
        "În Python, dictionarele sunt structuri de date ce contin perechi cheie-valoare. Acestea sunt declarate folosind acoladele."
      ]
    },
    {
      "cell_type": "code",
      "execution_count": null,
      "metadata": {
        "colab": {
          "base_uri": "https://localhost:8080/"
        },
        "id": "j6PVtsRIjHMf",
        "outputId": "a42c7e15-f530-4764-ed4d-49b29d68712b"
      },
      "outputs": [
        {
          "name": "stdout",
          "output_type": "stream",
          "text": [
            "{'Romania': 'Bucuresti', 'UK': 'Londra', 'Grecia': 'Atena', 'Franta': 'Paris'}\n"
          ]
        }
      ],
      "source": [
        "dictionar = {\"Romania\": \"Bucuresti\", \"UK\": \"Londra\", \"Grecia\": \"Atena\", \"Franta\":\"Paris\"}\n",
        "print(dictionar)"
      ]
    },
    {
      "cell_type": "code",
      "execution_count": null,
      "metadata": {
        "colab": {
          "base_uri": "https://localhost:8080/"
        },
        "id": "oAB39cRgkTR8",
        "outputId": "5413c852-5f56-430e-d34c-83359568ddfa"
      },
      "outputs": [
        {
          "name": "stdout",
          "output_type": "stream",
          "text": [
            "{1: 'ABC', 2: 'DEF', 3: 'GHI', 4: 'JKL'}\n"
          ]
        }
      ],
      "source": [
        "dictionar_cu_chei_numerice = {1: \"ABC\", 2: \"DEF\", 3: \"GHI\", 4: \"JKL\"}\n",
        "print(dictionar_cu_chei_numerice)"
      ]
    },
    {
      "cell_type": "markdown",
      "metadata": {
        "id": "43waNZXYkmAq"
      },
      "source": [
        "Cheile de la nivelul unui dictionar pot fi definite insa doar prin intermediul tipurilor de date de tip imutabil (valori numerice,sirurile de caractere, tupluri)."
      ]
    },
    {
      "cell_type": "markdown",
      "metadata": {
        "id": "uPsi5e1AjKMF"
      },
      "source": [
        "**Accesarea valorii corespunzatoare unei chei dintr-un dictionar**"
      ]
    },
    {
      "cell_type": "code",
      "execution_count": null,
      "metadata": {
        "colab": {
          "base_uri": "https://localhost:8080/",
          "height": 35
        },
        "id": "tD-4FJDxjSRZ",
        "outputId": "83562098-f9d9-4b37-8cae-ff227f5185d9"
      },
      "outputs": [
        {
          "data": {
            "application/vnd.google.colaboratory.intrinsic+json": {
              "type": "string"
            },
            "text/plain": [
              "'Atena'"
            ]
          },
          "execution_count": 3,
          "metadata": {},
          "output_type": "execute_result"
        }
      ],
      "source": [
        "dictionar[\"Grecia\"]"
      ]
    },
    {
      "cell_type": "code",
      "execution_count": null,
      "metadata": {
        "colab": {
          "base_uri": "https://localhost:8080/",
          "height": 35
        },
        "id": "hI39lowyjUcb",
        "outputId": "13035351-3014-47fb-f600-6131f402b724"
      },
      "outputs": [
        {
          "data": {
            "application/vnd.google.colaboratory.intrinsic+json": {
              "type": "string"
            },
            "text/plain": [
              "'Atena'"
            ]
          },
          "execution_count": 4,
          "metadata": {},
          "output_type": "execute_result"
        }
      ],
      "source": [
        "# get(): returneaza valoarea corespunzatoare cheii precizate ca si argument\n",
        "dictionar.get(\"Grecia\")"
      ]
    },
    {
      "cell_type": "markdown",
      "metadata": {
        "id": "Nei-0huXk8ZQ"
      },
      "source": [
        "**Numarul de elemente de la nivelul dictionarului**"
      ]
    },
    {
      "cell_type": "code",
      "execution_count": null,
      "metadata": {
        "colab": {
          "base_uri": "https://localhost:8080/"
        },
        "id": "OgTWItFSjlV-",
        "outputId": "48c4f7d1-744b-4957-f0ab-f52a24c88a24"
      },
      "outputs": [
        {
          "name": "stdout",
          "output_type": "stream",
          "text": [
            "{'Romania': [1, 2, 3], 'UK': [], 'Grecia': [3], 'Franta': [1, 2, 3, 4, 5, 6]}\n"
          ]
        }
      ],
      "source": [
        "dictionar = {\"Romania\": [1, 2, 3], \"UK\": [], \"Grecia\": [3], \"Franta\":[1,2,3,4,5,6]}\n",
        "print(dictionar)"
      ]
    },
    {
      "cell_type": "code",
      "execution_count": null,
      "metadata": {
        "colab": {
          "base_uri": "https://localhost:8080/"
        },
        "id": "SB1z5Vl7jmpS",
        "outputId": "19116548-4869-4f77-fc9c-e0f61d70374d"
      },
      "outputs": [
        {
          "data": {
            "text/plain": [
              "4"
            ]
          },
          "execution_count": 6,
          "metadata": {},
          "output_type": "execute_result"
        }
      ],
      "source": [
        "len(dictionar)"
      ]
    },
    {
      "cell_type": "markdown",
      "metadata": {
        "id": "15NX4WZ3lHbg"
      },
      "source": [
        "**Adaugarea si actualizarea elementelor unui dictionar**"
      ]
    },
    {
      "cell_type": "code",
      "execution_count": null,
      "metadata": {
        "colab": {
          "base_uri": "https://localhost:8080/"
        },
        "id": "6q59fOUXlTCJ",
        "outputId": "936ca534-d5ef-4a8a-9786-180da1520704"
      },
      "outputs": [
        {
          "name": "stdout",
          "output_type": "stream",
          "text": [
            "{'Romania': [1, 2, 3], 'UK': [], 'Grecia': [3], 'Franta': [1, 2, 3, 4, 5, 6]}\n"
          ]
        }
      ],
      "source": [
        "print(dictionar)"
      ]
    },
    {
      "cell_type": "code",
      "execution_count": null,
      "metadata": {
        "id": "H7gm1_qClOvq"
      },
      "outputs": [],
      "source": [
        "#nume_dictionar[nume_cheie] = valoare\n",
        "dictionar['Spania'] = [10, 11, 12] # adaugare"
      ]
    },
    {
      "cell_type": "code",
      "execution_count": null,
      "metadata": {
        "colab": {
          "base_uri": "https://localhost:8080/"
        },
        "id": "FkK47m9dlbOF",
        "outputId": "7d4c1bff-ed19-493f-9d9a-1b9defd5f7e2"
      },
      "outputs": [
        {
          "name": "stdout",
          "output_type": "stream",
          "text": [
            "{'Romania': [1, 2, 3], 'UK': [], 'Grecia': [3], 'Franta': [1, 2, 3, 4, 5, 6], 'Spania': [10, 11, 12]}\n"
          ]
        }
      ],
      "source": [
        "print(dictionar)"
      ]
    },
    {
      "cell_type": "code",
      "execution_count": null,
      "metadata": {
        "id": "F5vNCkCIlczA"
      },
      "outputs": [],
      "source": [
        "dictionar['Romania'] = [6] # actualizare"
      ]
    },
    {
      "cell_type": "code",
      "execution_count": null,
      "metadata": {
        "colab": {
          "base_uri": "https://localhost:8080/"
        },
        "id": "8NUDURVdlmEz",
        "outputId": "b8eacc27-49f9-44c0-e239-796c08013e2b"
      },
      "outputs": [
        {
          "name": "stdout",
          "output_type": "stream",
          "text": [
            "{'Romania': [6], 'UK': [], 'Grecia': [3], 'Franta': [1, 2, 3, 4, 5, 6], 'Spania': [10, 11, 12]}\n"
          ]
        }
      ],
      "source": [
        "print(dictionar)"
      ]
    },
    {
      "cell_type": "code",
      "execution_count": null,
      "metadata": {
        "colab": {
          "base_uri": "https://localhost:8080/"
        },
        "id": "vEj35H5eoPI-",
        "outputId": "566cf6f0-2742-4d61-fc51-d6c85d78794e"
      },
      "outputs": [
        {
          "name": "stdout",
          "output_type": "stream",
          "text": [
            "{'Romania': [1, 2, 3], 'UK': [], 'Grecia': [3], 'Franta': [1, 2, 3, 4, 5, 6]}\n",
            "{'Romania': [], 'UK': [], 'Grecia': [3], 'Franta': [1, 2, 3, 4, 5, 6], 'Bulgaria': [2, 4, 6], 'Elvetia': [4]}\n"
          ]
        }
      ],
      "source": [
        "# update(): actualizeaza un dictionar cu elementele unui alt dictionar primit\n",
        "#           ca si argument. Daca sunt prezente chei duplicat la nivelul celor\n",
        "#           doua dictionare, se face actualizarea valorilor elementelor dictionarului\n",
        "#           care refera metoda.\n",
        "\n",
        "dictionar = {\"Romania\": [1, 2, 3], \"UK\": [], \"Grecia\": [3], \"Franta\":[1,2,3,4,5,6]}\n",
        "print(dictionar)\n",
        "dictionar.update({\"Romania\":[], \"Bulgaria\":[2,4,6], \"Elvetia\": [4]})\n",
        "print(dictionar)"
      ]
    },
    {
      "cell_type": "markdown",
      "metadata": {
        "id": "TlsKv3qulxio"
      },
      "source": [
        "**Stergerea unei perechi cheie-valoare**"
      ]
    },
    {
      "cell_type": "code",
      "execution_count": 3,
      "metadata": {
        "colab": {
          "base_uri": "https://localhost:8080/"
        },
        "id": "nOUkKtrml0rZ",
        "outputId": "d915dd81-2798-446b-dcb9-e3163053d4c2"
      },
      "outputs": [
        {
          "name": "stdout",
          "output_type": "stream",
          "text": [
            "{'Romania': [], 'UK': [], 'Franta': [1, 2, 3, 4, 5, 6], 'Bulgaria': [2, 4, 6], 'Elvetia': [4]}\n",
            "[3]\n"
          ]
        }
      ],
      "source": [
        "# pop(): sterge elementul pe baza cheii specificate si il returneaza\n",
        "dictionar = {'Romania': [], 'UK': [], 'Grecia': [3], 'Franta': [1, 2, 3, 4, 5, 6], 'Bulgaria': [2, 4, 6], 'Elvetia': [4]}\n",
        "element = dictionar.pop(\"Grecia\")\n",
        "print(dictionar)\n",
        "print(element)"
      ]
    },
    {
      "cell_type": "code",
      "execution_count": null,
      "metadata": {
        "colab": {
          "base_uri": "https://localhost:8080/"
        },
        "id": "W2hYIhSnl8g1",
        "outputId": "4957cbbc-d635-47f8-cc53-421cf8c4ad2a"
      },
      "outputs": [
        {
          "name": "stdout",
          "output_type": "stream",
          "text": [
            "{}\n"
          ]
        }
      ],
      "source": [
        "# clear(): sterge toate perechile cheie-valoare din dictionar\n",
        "dictionar.clear()\n",
        "print(dictionar)"
      ]
    },
    {
      "cell_type": "markdown",
      "metadata": {
        "id": "vQ4xzrJzmU1n"
      },
      "source": [
        "**Verificarea faptului ca o cheie se gaseste intr-un dictionar**"
      ]
    },
    {
      "cell_type": "code",
      "execution_count": null,
      "metadata": {
        "colab": {
          "base_uri": "https://localhost:8080/"
        },
        "id": "3sE3noAmmUKS",
        "outputId": "4f27e63b-4404-4f9c-f2d5-a1fbb54e65bc"
      },
      "outputs": [
        {
          "name": "stdout",
          "output_type": "stream",
          "text": [
            "{'Romania': [1, 2, 3], 'UK': [], 'Grecia': [3], 'Franta': [1, 2, 3, 4, 5, 6]}\n"
          ]
        }
      ],
      "source": [
        "dictionar = {\"Romania\": [1, 2, 3], \"UK\": [], \"Grecia\": [3], \"Franta\":[1,2,3,4,5,6]}\n",
        "print(dictionar)"
      ]
    },
    {
      "cell_type": "code",
      "execution_count": null,
      "metadata": {
        "id": "2gevl0gcmdG2"
      },
      "outputs": [],
      "source": [
        "def verificare(dictionar, cheie):\n",
        "  if cheie in dictionar:\n",
        "    print(f\"Cheia {cheie} se gaseste in dictionar\")\n",
        "  else:\n",
        "    print(f\"Cheia {cheie} nu se gaseste in dictionar\")"
      ]
    },
    {
      "cell_type": "code",
      "execution_count": null,
      "metadata": {
        "colab": {
          "base_uri": "https://localhost:8080/"
        },
        "id": "JT7Ifl3Pmq8a",
        "outputId": "38785313-492e-46a1-fd17-a2a70e3caebf"
      },
      "outputs": [
        {
          "name": "stdout",
          "output_type": "stream",
          "text": [
            "Cheia Romania se gaseste in dictionar\n"
          ]
        }
      ],
      "source": [
        "verificare(dictionar, 'Romania')"
      ]
    },
    {
      "cell_type": "code",
      "execution_count": null,
      "metadata": {
        "colab": {
          "base_uri": "https://localhost:8080/"
        },
        "id": "74QRhXARmvGL",
        "outputId": "f911d1e3-6efa-40c4-80de-7856c6e98153"
      },
      "outputs": [
        {
          "name": "stdout",
          "output_type": "stream",
          "text": [
            "Cheia 3 nu se gaseste in dictionar\n"
          ]
        }
      ],
      "source": [
        "verificare(dictionar, 3)"
      ]
    },
    {
      "cell_type": "markdown",
      "metadata": {
        "id": "okAF5kYXm48s"
      },
      "source": [
        "**Alte metode predefinite pentru dictionare**"
      ]
    },
    {
      "cell_type": "code",
      "execution_count": null,
      "metadata": {
        "colab": {
          "base_uri": "https://localhost:8080/"
        },
        "id": "ymZYyk5ynD2Y",
        "outputId": "1142dda3-d030-4090-bd11-2aeece016280"
      },
      "outputs": [
        {
          "name": "stdout",
          "output_type": "stream",
          "text": [
            "['Romania', 'UK', 'Grecia', 'Franta']\n"
          ]
        }
      ],
      "source": [
        "# keys() : returneaza o lista care cuprinde cheile de la nivelul dictionarului\n",
        "print(list(dictionar.keys()))"
      ]
    },
    {
      "cell_type": "code",
      "execution_count": null,
      "metadata": {
        "colab": {
          "base_uri": "https://localhost:8080/"
        },
        "id": "XhFn5MzlnVle",
        "outputId": "45e1bcf3-229a-419d-8a82-1e6bb83f03bc"
      },
      "outputs": [
        {
          "name": "stdout",
          "output_type": "stream",
          "text": [
            "[[1, 2, 3], [], [3], [1, 2, 3, 4, 5, 6]]\n"
          ]
        }
      ],
      "source": [
        "# values() : returneaza o lista care cuprinde valorile de la nivelul dictionarului\n",
        "print(list(dictionar.values()))"
      ]
    },
    {
      "cell_type": "code",
      "execution_count": null,
      "metadata": {
        "colab": {
          "base_uri": "https://localhost:8080/"
        },
        "id": "8FVallaKnclX",
        "outputId": "8fbe40a1-beb8-4c64-bf14-a45c5e515020"
      },
      "outputs": [
        {
          "name": "stdout",
          "output_type": "stream",
          "text": [
            "[('Romania', [1, 2, 3]), ('UK', []), ('Grecia', [3]), ('Franta', [1, 2, 3, 4, 5, 6])]\n"
          ]
        }
      ],
      "source": [
        "# items() : returneaza o lista de tupluri care contine perechile cheie-valoare\n",
        "print(list(dictionar.items()))"
      ]
    },
    {
      "cell_type": "markdown",
      "metadata": {
        "id": "85anufogo4Ey"
      },
      "source": [
        "**Parcurgerea dictionarelor**"
      ]
    },
    {
      "cell_type": "code",
      "execution_count": null,
      "metadata": {
        "colab": {
          "base_uri": "https://localhost:8080/"
        },
        "id": "08quZyFZnoeQ",
        "outputId": "24761a3d-afde-4e54-a0d6-04c9fc589045"
      },
      "outputs": [
        {
          "name": "stdout",
          "output_type": "stream",
          "text": [
            "Cheie Romania\n",
            "Valoare []\n",
            "Cheie UK\n",
            "Valoare []\n",
            "Cheie Grecia\n",
            "Valoare [3]\n",
            "Cheie Franta\n",
            "Valoare [1, 2, 3, 4, 5, 6]\n",
            "Cheie Bulgaria\n",
            "Valoare [2, 4, 6]\n",
            "Cheie Elvetia\n",
            "Valoare [4]\n"
          ]
        }
      ],
      "source": [
        "for cheie in dictionar:\n",
        "  print(f\"Cheie {cheie}\")\n",
        "  print(f\"Valoare {dictionar[cheie]}\")"
      ]
    },
    {
      "cell_type": "code",
      "execution_count": null,
      "metadata": {
        "colab": {
          "base_uri": "https://localhost:8080/"
        },
        "id": "_Y8tECEHpLBf",
        "outputId": "d8f471a5-95eb-4347-d8d5-6acc39dec87c"
      },
      "outputs": [
        {
          "name": "stdout",
          "output_type": "stream",
          "text": [
            "Cheie Romania\n",
            "Valoare []\n",
            "Cheie UK\n",
            "Valoare []\n",
            "Cheie Grecia\n",
            "Valoare [3]\n",
            "Cheie Franta\n",
            "Valoare [1, 2, 3, 4, 5, 6]\n",
            "Cheie Bulgaria\n",
            "Valoare [2, 4, 6]\n",
            "Cheie Elvetia\n",
            "Valoare [4]\n"
          ]
        }
      ],
      "source": [
        "for cheie, valoare in dictionar.items():\n",
        "  print(f\"Cheie {cheie}\")\n",
        "  print(f\"Valoare {valoare}\")"
      ]
    },
    {
      "cell_type": "code",
      "execution_count": null,
      "metadata": {
        "colab": {
          "base_uri": "https://localhost:8080/"
        },
        "id": "UK6SkynepVrS",
        "outputId": "eb006e79-39ac-4e66-f5e1-3d62038efcff"
      },
      "outputs": [
        {
          "name": "stdout",
          "output_type": "stream",
          "text": [
            "Cheie Romania - Valoare[]\n",
            "Cheie UK - Valoare[]\n",
            "Cheie Grecia - Valoare[3]\n",
            "Cheie Franta - Valoare[1, 2, 3, 4, 5, 6]\n",
            "Cheie Bulgaria - Valoare[2, 4, 6]\n",
            "Cheie Elvetia - Valoare[4]\n"
          ]
        }
      ],
      "source": [
        "from functools import reduce\n",
        "\n",
        "reduce(lambda acc, el: print(f\"Cheie {el} - Valoare{dictionar[el]}\"),dictionar, None)"
      ]
    },
    {
      "cell_type": "code",
      "execution_count": null,
      "metadata": {
        "colab": {
          "base_uri": "https://localhost:8080/"
        },
        "id": "sGByfi4ypyn1",
        "outputId": "1382dd83-96fe-4269-80f0-49d8787c02bc"
      },
      "outputs": [
        {
          "name": "stdout",
          "output_type": "stream",
          "text": [
            "{'a': 6, 'b': 10, 'c': 16}\n"
          ]
        }
      ],
      "source": [
        "# Exemplu 1: Dublarea valorilor unui dictionar\n",
        "dictionar = {'a': 3, 'b': 5, 'c': 8}\n",
        "valori_dublate = map(lambda x: x * 2, dictionar.values())\n",
        "# zip(): combina elemente din două sau mai multe iterabile (liste, tupluri, etc.) în perechi.\n",
        "dictionar = dict(zip(dictionar.keys(), valori_dublate))\n",
        "print(dictionar)"
      ]
    },
    {
      "cell_type": "code",
      "execution_count": null,
      "metadata": {
        "colab": {
          "base_uri": "https://localhost:8080/"
        },
        "id": "hdjnFXeNqfwi",
        "outputId": "d157e971-e575-42ef-f565-6a38369877f8"
      },
      "outputs": [
        {
          "name": "stdout",
          "output_type": "stream",
          "text": [
            "7.333333333333333\n"
          ]
        }
      ],
      "source": [
        "# Exemplu 2: Calcularea mediei notelor de la un test\n",
        "note = {\"Student_1\": 10, \"Student_2\": 7, \"Student_3\": 5}\n",
        "\n",
        "#Varianta 1: Iterabil note (dictionarul)\n",
        "def calculeaza_medie_1(note):\n",
        "  return reduce(lambda acc, el: acc + note[el], note, 0)/len(dictionar)\n",
        "\n",
        "#Varianta 2: Iterabil note.values()\n",
        "def calculeaza_medie_2(note):\n",
        "  return reduce(lambda acc, el: acc + el, note.values(), 0)/len(dictionar)\n",
        "\n",
        "#Varianta 3: Iterabil note.items()\n",
        "def calculeaza_medie(note):\n",
        "  return reduce(lambda acc, el: acc + el[1], note.items(), 0)/len(dictionar)\n",
        "\n",
        "print(calculeaza_medie(note))"
      ]
    },
    {
      "cell_type": "code",
      "execution_count": null,
      "metadata": {
        "colab": {
          "base_uri": "https://localhost:8080/"
        },
        "id": "L8OLoQAMq-2h",
        "outputId": "90579101-b79c-4793-8d65-3e9caf3d3665"
      },
      "outputs": [
        {
          "name": "stdout",
          "output_type": "stream",
          "text": [
            "{'Ana': 16, 'Alin': 3}\n"
          ]
        }
      ],
      "source": [
        "#Exemplu 3: Scrieți o funcție care ia o listă de asociere cu perechi de tip (șir, întreg) și creează un dicționar în care fiecare șir e asociat cu suma tuturor\n",
        " #valorilor cu care e asociat în listă.\n",
        "\n",
        "#Exemplu: Input: [(\"Ana\",7), (\"Alin\",3), (\"Ana\",9)].  Output: {'Ana': 16, 'Alin': 3}\n",
        "\n",
        "#Varianta RECURSIVA\n",
        "\n",
        "def dictionar_din_lista_de_asociere(lista_tupluri, dictionar = None):\n",
        "  if(dictionar == None):\n",
        "    dictionar = {}\n",
        "  if lista_tupluri == []:\n",
        "    return dictionar\n",
        "  cap = lista_tupluri[0]\n",
        "  if cap[0] in dictionar:\n",
        "    dictionar[cap[0]] = dictionar[cap[0]] + cap[1]  #adaugam la valoarea existenta  valoarea noua\n",
        "  else:\n",
        "    dictionar[cap[0]] = cap[1]\n",
        "  return dictionar_din_lista_de_asociere(lista_tupluri[1:], dictionar)\n",
        "\n",
        "print(dictionar_din_lista_de_asociere([(\"Ana\",7), (\"Alin\",3), (\"Ana\",9)]))"
      ]
    },
    {
      "cell_type": "code",
      "execution_count": 6,
      "metadata": {
        "colab": {
          "base_uri": "https://localhost:8080/"
        },
        "id": "3K8tiLrmrVCX",
        "outputId": "b65c8284-f037-47a5-e0ca-8878c367d604"
      },
      "outputs": [
        {
          "name": "stdout",
          "output_type": "stream",
          "text": [
            "{'Ana': 16, 'Alin': 3}\n"
          ]
        }
      ],
      "source": [
        "# Varianta cu reduce\n",
        "from functools import reduce\n",
        "def adauga_element(acc,el):\n",
        "  if el[0] in acc:\n",
        "    acc[el[0]] += el[1]\n",
        "  else:\n",
        "    acc[el[0]] = el[1]\n",
        "  return acc\n",
        "\n",
        "def dictionar_din_lista_de_asociere(lista_tupluri):\n",
        "  return reduce(lambda acc, el: adauga_element(acc,el) , lista_tupluri, {})\n",
        "\n",
        "print(dictionar_din_lista_de_asociere([(\"Ana\",7), (\"Alin\",3), (\"Ana\",9)]))"
      ]
    },
    {
      "cell_type": "code",
      "execution_count": 1,
      "metadata": {
        "colab": {
          "base_uri": "https://localhost:8080/"
        },
        "id": "BkK6kV1jrkFf",
        "outputId": "c363d35a-f86f-4a5c-c939-10b9efa046d4"
      },
      "outputs": [
        {
          "name": "stdout",
          "output_type": "stream",
          "text": [
            "{'a': 5, 'b': 7}\n"
          ]
        }
      ],
      "source": [
        "# Exemplu 4: Implementați cu ajutorul lui reduce funcția filter care creează un nou\n",
        "#            dicționar doar cu perechile din dicționarul dat care satisfac o funcție dată.\n",
        "#\n",
        "# Input: dict: {'a': 5, 'b': 7, 'c': 1}; conditie: valoare >= 5; Output: {'a': 5, 'b': 7}\n",
        "\n",
        "from functools import reduce\n",
        "def adaugare(acc,el,cond):\n",
        "  if(cond(el[1])):\n",
        "    acc[el[0]]=el[1]  # acc[el[0]] = valoarea asociata cheii el[0]\n",
        "  return acc\n",
        "\n",
        "def my_filter(dictionar,conditia):\n",
        "  return reduce(lambda acc,el: adaugare(acc,el,conditia),dictionar.items(),{}) # dictionar.items() returneaza o lista de tupluri\n",
        "\n",
        "print (my_filter({'a':5, 'b':7, 'c':1},lambda x: x>=5))"
      ]
    },
    {
      "cell_type": "code",
      "execution_count": 2,
      "metadata": {
        "colab": {
          "base_uri": "https://localhost:8080/"
        },
        "id": "zgdA3sRdr6oB",
        "outputId": "36e7a6d7-260c-4c6f-cdd4-d03be2f148fb"
      },
      "outputs": [
        {
          "name": "stdout",
          "output_type": "stream",
          "text": [
            "False\n"
          ]
        }
      ],
      "source": [
        "# Exemplu 5: Pentru tipurile colecție (liste, mulțimi, dicționare) e util să avem funcții\n",
        "#            care ne spun dacă există un element care satisface o anume condiție,\n",
        "#            respectiv dacă toate elementele satisfac condiția. Implementați funcțiile\n",
        "#            exists și for_all pentru dicționare, folosind reduce. Ele iau ca parametru o\n",
        "#            funcție booleană de cheie și valoare (care exprimă condiția) și dicționarul\n",
        "#            în care se face căutarea.\n",
        "\n",
        "# Input: dict: {'a': 5, 'b': 7, 'c': 1}; conditie: valoare >= 5;\n",
        "# Output: exists: True, for_all: False\n",
        "\n",
        "def exists(dictionar, conditie):\n",
        "  return reduce(lambda acc,el: acc or conditie(dictionar[el]),dictionar,False)\n",
        "\n",
        "print(exists({'a': 0, 'b': 1, 'c': 1}, lambda x: x>=5))"
      ]
    },
    {
      "cell_type": "code",
      "execution_count": null,
      "metadata": {
        "colab": {
          "base_uri": "https://localhost:8080/"
        },
        "id": "JvfA5zNYsJ7x",
        "outputId": "e3d25907-4057-46f0-c3f2-60a0dc6aae5c"
      },
      "outputs": [
        {
          "name": "stdout",
          "output_type": "stream",
          "text": [
            "True\n"
          ]
        }
      ],
      "source": [
        "def for_all(dictionar, conditie):\n",
        "  return reduce(lambda acc,el: acc and conditie(dictionar[el]),dictionar,True)\n",
        "\n",
        "print(for_all({'a': 5, 'b': 7, 'c': 10}, lambda x: x>=5))"
      ]
    },
    {
      "cell_type": "code",
      "execution_count": null,
      "metadata": {
        "colab": {
          "base_uri": "https://localhost:8080/"
        },
        "id": "5rkf7Mazsc2-",
        "outputId": "a40316c5-f5fe-43ea-80a5-d7e85724b0aa"
      },
      "outputs": [
        {
          "name": "stdout",
          "output_type": "stream",
          "text": [
            "{'a': 9, 'b': 5, 'c': 1}\n"
          ]
        }
      ],
      "source": [
        "# Exemplu 6: Scrieți o funcție care ia o listă de șiruri de caractere și creează un\n",
        "#            dicționar în care fiecare șir e asociat cu numărul aparițiilor din listă.\n",
        "#\n",
        "# Input: [\"aaa\", \"bbb\", \"aabbb\"]; Output: {'a': 5, 'b': 6}\n",
        "\n",
        "from functools import reduce\n",
        "\n",
        "def adaugare(acc,el):\n",
        "  if len(el)==0:\n",
        "    return acc\n",
        "  if el[0] in acc: # daca caracterul exista in dictiona, incrementez valoare\n",
        "    acc[el[0]]= acc[el[0]]+1\n",
        "  else:\n",
        "    acc[el[0]]= 1 # daca caracterul nu exista inainte, valoarea va fi 1\n",
        "  return(adaugare(acc,el[1:]))\n",
        "\n",
        "def creeaza_dictionar_numar_aparitii(lista):\n",
        "  return reduce(lambda acc,el: adaugare(acc,el),lista,{})\n",
        "\n",
        "lista=[\"aaa\",\"aabbb\",\"b\", \"caaaba\"]\n",
        "print(creeaza_dictionar_numar_aparitii(lista))"
      ]
    },
    {
      "cell_type": "markdown",
      "metadata": {},
      "source": [
        "CURS"
      ]
    },
    {
      "cell_type": "code",
      "execution_count": 3,
      "metadata": {},
      "outputs": [
        {
          "name": "stdout",
          "output_type": "stream",
          "text": [
            "{'Ana': 16, 'Alin': 3}\n"
          ]
        }
      ],
      "source": [
        "def transform(lista, dictionar = {}):\n",
        "    if lista == []:\n",
        "        return dictionar\n",
        "    if lista[0][0] in dictionar:\n",
        "        dictionar[lista[0][0]] = lista[0][1] + dictionar[lista[0][0]]\n",
        "    else:\n",
        "        dictionar[lista[0][0]] = lista[0][1]\n",
        "    return transform(lista[1:],dictionar)\n",
        "\n",
        "l = [(\"Ana\",7), (\"Alin\",3), (\"Ana\",9)]\n",
        "print(transform(l))"
      ]
    },
    {
      "cell_type": "markdown",
      "metadata": {},
      "source": [
        "LABORATOR"
      ]
    },
    {
      "cell_type": "markdown",
      "metadata": {},
      "source": [
        "1. Scrieți o funcție care ia o listă de asociere cu perechi de tip (șir, întreg) și creează un dicționar în care fiecare șir e asociat cu suma tuturor valorilor cu care e asociat în listă.\n",
        "\n",
        "Input: [('a', 7), ('b', 5), ('c', 2), ('a', 3), ('b', 3)]; Output: {'a': 10, 'b': 8, 'c': 2}"
      ]
    },
    {
      "cell_type": "code",
      "execution_count": 4,
      "metadata": {},
      "outputs": [
        {
          "data": {
            "text/plain": [
              "{'a': 10, 'b': 8, 'c': 2}"
            ]
          },
          "execution_count": 4,
          "metadata": {},
          "output_type": "execute_result"
        }
      ],
      "source": [
        "def creeaza_dictionar(lista, dictionar = None):\n",
        "    if dictionar == None:\n",
        "        dictionar = {}\n",
        "    \n",
        "    if lista == []:\n",
        "        return dictionar\n",
        "    if lista[0][0] in dictionar:\n",
        "        dictionar[lista[0][0]] = dictionar[lista[0][0]] + lista[0][1]\n",
        "    else:\n",
        "        dictionar[lista[0][0]] = lista[0][1]\n",
        "\n",
        "    return creeaza_dictionar(lista[1:], dictionar)\n",
        "\n",
        "creeaza_dictionar([('a', 7), ('b', 5), ('c', 2), ('a', 3), ('b', 3)])\n"
      ]
    },
    {
      "cell_type": "code",
      "execution_count": 5,
      "metadata": {},
      "outputs": [
        {
          "data": {
            "text/plain": [
              "{'a': 10, 'b': 8, 'c': 2}"
            ]
          },
          "execution_count": 5,
          "metadata": {},
          "output_type": "execute_result"
        }
      ],
      "source": [
        "from functools import reduce\n",
        "\n",
        "def adauga(acc, el):\n",
        "    if el[0] in acc:\n",
        "        acc[el[0]] += el[1]\n",
        "    else:\n",
        "        acc[el[0]] = el[1]\n",
        "    return acc\n",
        "\n",
        "def creeaza_dictionar(lista):\n",
        "    return reduce(lambda acc, el: adauga(acc, el), lista, {})\n",
        "\n",
        "creeaza_dictionar([('a', 7), ('b', 5), ('c', 2), ('a', 3), ('b', 3)])"
      ]
    },
    {
      "cell_type": "markdown",
      "metadata": {},
      "source": [
        "2. Scrieți o funcție care ia o listă de șiruri de caractere și creează un dicționar în care fiecare șir e asociat cu numărul aparițiilor din listă.\n",
        "\n",
        "Input: [\"aaa\", \"bbb\", \"aabbb\"]; Output: {'a': 5, 'b': 6}"
      ]
    },
    {
      "cell_type": "code",
      "execution_count": 3,
      "metadata": {},
      "outputs": [
        {
          "name": "stdout",
          "output_type": "stream",
          "text": [
            "{'a': 5, 'b': 6}\n"
          ]
        }
      ],
      "source": [
        "from functools import reduce    \n",
        "def adaugare(acc,el):\n",
        "  if len(el)==0:\n",
        "    return acc\n",
        "  if el[0] in acc:              # daca caracterul exista in dictiona, incrementez valoare\n",
        "    acc[el[0]]= acc[el[0]]+1\n",
        "  else:\n",
        "    acc[el[0]]= 1 # daca caracterul nu exista inainte, valoarea va fi 1\n",
        "  return(adaugare(acc,el[1:]))\n",
        "\n",
        "def creeaza_dictionar_numar_aparitii(lista):\n",
        "  return reduce(lambda acc,el: adaugare(acc,el),lista,{})\n",
        "\n",
        "lista = [\"aaa\", \"bbb\", \"aabbb\"]\n",
        "print(creeaza_dictionar_numar_aparitii(lista))"
      ]
    },
    {
      "cell_type": "markdown",
      "metadata": {},
      "source": [
        "3. Implementați cu ajutorul lui reduce funcția filter care creează un nou dicționar doar cu perechile din dicționarul dat care satisfac o funcție dată.\n",
        "\n",
        "Input: dict: {'a': 5, 'b': 7, 'c': 1}; conditie: valoare >= 5; Output: {'a': 5, 'b': 7}"
      ]
    },
    {
      "cell_type": "code",
      "execution_count": 7,
      "metadata": {},
      "outputs": [
        {
          "name": "stdout",
          "output_type": "stream",
          "text": [
            "{'a': 5, 'b': 7}\n"
          ]
        }
      ],
      "source": [
        "def adauga(acc, el, conditie):\n",
        "    if(conditie(el[1])):\n",
        "        acc[el[0]] = el[1]\n",
        "    return acc\n",
        "\n",
        "def my_filter(dictionar, conditie):\n",
        "    return reduce(lambda acc, el: adauga(acc, el, conditie), dictionar.items(), {})\n",
        "\n",
        "print(my_filter({'a': 5, 'b': 7, 'c': 1}, lambda x: x>=5))"
      ]
    },
    {
      "cell_type": "markdown",
      "metadata": {},
      "source": [
        "4. Pentru tipurile colecție (liste, mulțimi, dicționare) e util să avem funcții care ne spun dacă există un element care satisface o anume condiție, respectiv dacă toate elementele satisfac condiția.\n",
        "Implementați funcțiile exists și for_all pentru dicționare, folosind reduce. Ele iau ca parametru o funcție booleană de cheie și valoare (care exprimă condiția) și dicționarul în care se face căutarea. \n",
        "\n",
        "Input: dict: {'a': 5, 'b': 7, 'c': 1}; conditie: valoare >= 5; Output: exists: True, for_all: False"
      ]
    },
    {
      "cell_type": "code",
      "execution_count": 9,
      "metadata": {},
      "outputs": [
        {
          "name": "stdout",
          "output_type": "stream",
          "text": [
            "True\n",
            "False\n"
          ]
        }
      ],
      "source": [
        "def exist(dictionar, conditie):\n",
        "    return reduce(lambda acc, el: acc or conditie(dictionar[el]), dictionar, False)\n",
        "\n",
        "print(exist({'a': 5, 'b': 7, 'c': 1}, lambda x: x >= 5))\n",
        "\n",
        "\n",
        "def for_all(dictionar, conditie):\n",
        "    return reduce(lambda acc, el: acc and conditie(dictionar[el]), dictionar, True)\n",
        "\n",
        "print(for_all({'a': 5, 'b': 7, 'c': 1}, lambda x: x >= 5))"
      ]
    },
    {
      "cell_type": "markdown",
      "metadata": {},
      "source": [
        "5. Implementați cu ajutorul lui reduce funcția map care construiește un dicționar în care toate valorile au fost transformate folosind o funcție dată ca parametru.\n",
        "\n",
        "Input: {'a': 5, 'b': 7, 'c': 6}, lambda x: x + 1; Output: {'a': 6, 'b': 8, 'c': 7}"
      ]
    },
    {
      "cell_type": "code",
      "execution_count": 14,
      "metadata": {},
      "outputs": [
        {
          "name": "stdout",
          "output_type": "stream",
          "text": [
            "{'c': 7, 'b': 8, 'a': 6}\n",
            "{'a': 6}\n",
            "{'a': 6, 'b': 8, 'c': 7}\n"
          ]
        }
      ],
      "source": [
        "import functools\n",
        "def my_map(my_dict, f):\n",
        "    return functools.reduce(lambda acc, item: {item[0]: f(item[1])} | acc, my_dict.items(), {})\n",
        "\n",
        "print(my_map({'a': 5, 'b': 7, 'c': 6}, lambda x: x + 1))\n",
        "\n",
        "def add_to_dict(new_dict, pair, f):\n",
        "    key, value = pair            # key = pair[0], value = pair[1]\n",
        "    \n",
        "    if key in new_dict.keys():\n",
        "        new_dict[key] += f(value)     # new_dict[key] = new_dict[key] + f(value)\n",
        "    else:\n",
        "        new_dict[key] = f(value)\n",
        "        \n",
        "    return new_dict\n",
        "\n",
        "print(add_to_dict({}, ('a', 5), lambda x: x + 1))\n",
        "\n",
        "def adauga(acc, el, functie):\n",
        "    acc[el[0]] = functie(el[1])\n",
        "    return acc\n",
        "\n",
        "def mapare(dictionar, functie):\n",
        "    return reduce(lambda acc, el: adauga(acc, el, functie), dictionar.items(), {})\n",
        "\n",
        "print(mapare({'a': 5, 'b': 7, 'c': 6}, lambda x: x + 1))"
      ]
    },
    {
      "cell_type": "markdown",
      "metadata": {},
      "source": [
        "6. Scrieți o funcție care primește un dicționar de la șiruri la întregi și o listă de șiruri și returnează mulțimea tuturor valorilor din dicționar care corespund șirurilor din listă.\n",
        "\n",
        "Input: {'aa': 5, 'bb': 7, 'ca': 6}, ['aa', 'bb', 'c']; Output: {5, 7}"
      ]
    },
    {
      "cell_type": "code",
      "execution_count": 6,
      "metadata": {},
      "outputs": [
        {
          "name": "stdout",
          "output_type": "stream",
          "text": [
            "{5, 7}\n",
            "{5, 7}\n"
          ]
        }
      ],
      "source": [
        "from functools import reduce\n",
        "def values(dictionar, lista):\n",
        "    return reduce(lambda acc, el: acc | {el[1]} if el[0] in lista else acc, dictionar.items(), set())\n",
        "\n",
        "print(values( {'aa': 5, 'bb': 7, 'ca': 6}, ['aa', 'bb', 'c']))\n",
        "\n",
        "def check_value(example_dict, example_list):\n",
        "    result = set()\n",
        "    if not example_list:\n",
        "        return result\n",
        "    key = example_list[0]\n",
        "    if key in example_dict:\n",
        "        result.add(example_dict[key])\n",
        "    remaining_set = check_value(example_dict, example_list[1:])\n",
        "    result.update(remaining_set)\n",
        "    return result\n",
        "\n",
        "example_dict = {'aa': 5, 'bb': 7, 'ca': 6}\n",
        "example_list = ['aa', 'bb', 'c']\n",
        "print(check_value(example_dict, example_list))\n",
        "\n"
      ]
    },
    {
      "cell_type": "markdown",
      "metadata": {},
      "source": [
        "7. Scrieți o funcție care primește o funcție și un dicționar și returnează maximul valorilor funcției pentru toate intrările dicționarului.\n",
        "Funcția-parametru are ca argumente cheia și valoarea unei intrări, și poate returna valori arbitrare. Folosiți reduce pentru parcurgere, și max (definită implicit pentru orice tip) pentru a compara valorile returnate de funcția parametru."
      ]
    },
    {
      "cell_type": "code",
      "execution_count": 15,
      "metadata": {},
      "outputs": [
        {
          "name": "stdout",
          "output_type": "stream",
          "text": [
            "8\n"
          ]
        }
      ],
      "source": [
        "from functools import reduce\n",
        "\n",
        "def maximul_valorilor(dictionar, functie):\n",
        "    return reduce(lambda acc, el: max(acc, functie(el[1])), dictionar.items(), 0)\n",
        "\n",
        "print(maximul_valorilor({'a': 5, 'b': 7, 'c': 6}, lambda x: x + 1))"
      ]
    },
    {
      "cell_type": "markdown",
      "metadata": {},
      "source": [
        "3. Scrieți o funcție care ia un dicționar și returnează o listă de perechi (șir, întreg) ordonată descrescător după valoare."
      ]
    },
    {
      "cell_type": "code",
      "execution_count": 18,
      "metadata": {},
      "outputs": [
        {
          "name": "stdout",
          "output_type": "stream",
          "text": [
            "[('b', 7), ('c', 6), ('a', 5)]\n",
            "[('b', 7), ('c', 6), ('a', 5)]\n"
          ]
        }
      ],
      "source": [
        "def sortare(dicitionar):\n",
        "    return sorted(dicitionar.items(), key=lambda x: x[1], reverse=True)\n",
        "\n",
        "print(sortare({'a': 5, 'b': 7, 'c': 6}))\n",
        "\n",
        "#alta metoda, cu reduce\n",
        "\n",
        "def sortare(dictionar):\n",
        "    return reduce(lambda acc, el: acc + [el], sorted(dictionar.items(), key=lambda x: x[1], reverse=True), [])\n",
        "\n",
        "print(sortare({'a': 5, 'b': 7, 'c': 6}))\n",
        "\n"
      ]
    },
    {
      "cell_type": "markdown",
      "metadata": {},
      "source": [
        "Scrieți o funcție care ia o listă de dicționare și returnează un dicționar care are ca chei\n",
        "      toate cheile din dicționarele din listă, iar ca valori listele valorilor asociate fiecărei chei în parte."
      ]
    },
    {
      "cell_type": "code",
      "execution_count": 22,
      "metadata": {},
      "outputs": [
        {
          "name": "stdout",
          "output_type": "stream",
          "text": [
            "{'a': [1, 3, 5], 'b': [2, 4], 'c': [6]}\n"
          ]
        }
      ],
      "source": [
        "# cu reduce\n",
        "from functools import reduce    \n",
        "def adauga(acc, el):\n",
        "      for key in el:\n",
        "            if key in acc:\n",
        "                  acc[key].append(el[key])\n",
        "            else:\n",
        "                  acc[key] = [el[key]]\n",
        "      return acc\n",
        "\n",
        "def lista_valori2(lista):\n",
        "        return reduce(lambda acc, el: adauga(acc, el), lista, {})\n",
        "print(lista_valori2([{'a': 5, 'b': 7, 'c': 6}, {'a': 3, 'b': 2, 'c': 1}]))"
      ]
    }
  ],
  "metadata": {
    "colab": {
      "provenance": []
    },
    "kernelspec": {
      "display_name": "Python 3",
      "name": "python3"
    },
    "language_info": {
      "codemirror_mode": {
        "name": "ipython",
        "version": 3
      },
      "file_extension": ".py",
      "mimetype": "text/x-python",
      "name": "python",
      "nbconvert_exporter": "python",
      "pygments_lexer": "ipython3",
      "version": "3.12.0"
    }
  },
  "nbformat": 4,
  "nbformat_minor": 0
}
