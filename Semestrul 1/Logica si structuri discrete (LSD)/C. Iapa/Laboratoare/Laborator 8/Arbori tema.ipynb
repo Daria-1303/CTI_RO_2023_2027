{
 "cells": [
  {
   "cell_type": "code",
   "execution_count": 43,
   "metadata": {},
   "outputs": [
    {
     "name": "stdout",
     "output_type": "stream",
     "text": [
      "[4, 2, 1, 3, 7]\n",
      "[1, 2, 3, 4, 7]\n",
      "[1, 3, 2, 7, 4]\n"
     ]
    }
   ],
   "source": [
    "arbore_binar_cautare = { \"value\" : 4, \"left\":\n",
    "                             {\"value\": 2, \"left\": {\"value\": 1, \"left\": None, \"right\": None}, \"right\": {\"value\": 3, \"left\": None, \"right\": None},\n",
    "                             }, \"right\":\n",
    "                             {\"value\": 7, \"left\": None, \"right\": None}\n",
    "                          }\n",
    "arbore_binar = { \"value\" : 2, \"left\":\n",
    "                     {\n",
    "                        \"value\": 7, \"left\": None, \"right\":\n",
    "                             {\n",
    "                                  \"value\": 6, \"left\":\n",
    "                                      {\n",
    "                                         \"value\": 5, \"left\": None, \"right\": None\n",
    "                                      }, \"right\":\n",
    "                                      {\n",
    "                                          \"value\":11, \"left\": None, \"right\": None\n",
    "                              },\n",
    "                      },\n",
    "                      }, \"right\":\n",
    "                      {\n",
    "                           \"value\": 4, \"left\": None, \"right\": None\n",
    "                       }\n",
    "        }\n",
    "\n",
    "#preordine\n",
    "def rsd(tree):\n",
    "    if (tree != None):\n",
    "        return [tree[\"value\"]] + rsd(tree[\"left\"]) + rsd(tree[\"right\"])\n",
    "    else:\n",
    "        return []\n",
    "    \n",
    "#inordine\n",
    "def srd(tree):\n",
    "    if (tree != None):\n",
    "        return srd(tree[\"left\"]) + [tree[\"value\"]] + srd(tree[\"right\"])\n",
    "    else:\n",
    "        return []\n",
    "    \n",
    "#postordine\n",
    "def sdr(tree):\n",
    "    if (tree != None):\n",
    "        return sdr(tree[\"left\"]) + sdr(tree[\"right\"]) + [tree[\"value\"]]\n",
    "    else:\n",
    "        return []\n",
    "    \n",
    "print(rsd(arbore_binar_cautare))\n",
    "print(srd(arbore_binar_cautare))\n",
    "print(sdr(arbore_binar_cautare))"
   ]
  },
  {
   "cell_type": "code",
   "execution_count": 44,
   "metadata": {},
   "outputs": [
    {
     "name": "stdout",
     "output_type": "stream",
     "text": [
      "[5, 11, 4]\n"
     ]
    }
   ],
   "source": [
    "'''1.a) Scrieti o functie care primeste ca parametru un arbore binar si returneaza lista frunzelor'''\n",
    "def frunze(arbore, lista = []):\n",
    "    if arbore == None:\n",
    "        return []\n",
    "    if arbore[\"left\"] == None and arbore[\"right\"] == None:\n",
    "        lista = lista + [arbore[\"value\"]]\n",
    "    else:\n",
    "        if arbore[\"left\"] is not None:\n",
    "            lista = lista + frunze(arbore[\"left\"])\n",
    "        if arbore[\"right\"] is not None: \n",
    "            lista = lista + frunze(arbore[\"right\"])\n",
    "    return lista\n",
    "\n",
    "print(frunze(arbore_binar))"
   ]
  },
  {
   "cell_type": "code",
   "execution_count": 45,
   "metadata": {},
   "outputs": [
    {
     "name": "stdout",
     "output_type": "stream",
     "text": [
      "[4, 2, 1, 3, 7]\n",
      "[1, 2, 3, 4, 7]\n",
      "[1, 3, 2, 7, 4]\n"
     ]
    }
   ],
   "source": [
    "'''Scrieti o functie care returneaza lista nodurilor unui arbore binar parcurs in:\n",
    "a) preordine (radacina, subarbore stang, subarbore drept)\n",
    "b) inordine (subarbore stang, radacina, subarbore drept)\n",
    "c) postordine (subarbore stang, subarbore drept, radacina)'''\n",
    "print(rsd(arbore_binar_cautare))\n",
    "print(srd(arbore_binar_cautare))\n",
    "print(sdr(arbore_binar_cautare))\n"
   ]
  },
  {
   "cell_type": "code",
   "execution_count": 46,
   "metadata": {},
   "outputs": [
    {
     "name": "stdout",
     "output_type": "stream",
     "text": [
      "[4, 8, 2, 4, 1, 2, 3, 6, 7, 14]\n",
      "[1, 2, 2, 4, 3, 6, 4, 8, 7, 14]\n",
      "[1, 2, 3, 6, 2, 4, 7, 14, 4, 8]\n"
     ]
    }
   ],
   "source": [
    "'''Scrieti o functie care ia ca parametru o alta functie (care primeste ca parametru un intreg, si returneaza un intreg, de exemplu lambda x: 2*x) si \n",
    "un arbore binar si aplica functia primita ca parametru pentru fiecare nod al arborelui, parcurgand arborele:\n",
    "a) in preordine (radacina, subarbore stang, subarbore drept)\n",
    "b) in inordine (subarbore stang, radacina, subarbore drept)\n",
    "c) in postordine (subarbore stang, subarbore drept, radacina)\n",
    "Tipariti in momentul aplicarii valoarea initiala a nodului si valoarea rezultata pentru a verifica faptul ca parcurgerea arborelui este corecta'''\n",
    "\n",
    "def functie(f, arbore):\n",
    "    if arbore is None:\n",
    "        return []\n",
    "    else:\n",
    "        x = arbore[\"value\"]\n",
    "        return [arbore[\"value\"]] + [f(x)] + functie(f, arbore[\"left\"])+ functie(f, arbore[\"right\"])\n",
    "\n",
    "def functieb(f, arbore):\n",
    "    if arbore is None:\n",
    "        return []\n",
    "    else:\n",
    "        x = arbore[\"value\"]\n",
    "        return  functieb(f, arbore[\"left\"])+ [arbore[\"value\"]] + [f(x)] + functieb(f, arbore[\"right\"])\n",
    "    \n",
    "def functiec(f, arbore):\n",
    "    if arbore is None:\n",
    "        return []\n",
    "    else:\n",
    "        x = arbore[\"value\"]\n",
    "        return  functiec(f, arbore[\"left\"]) + functiec(f, arbore[\"right\"]) + [arbore[\"value\"]] + [f(x)]\n",
    "print(functie(lambda x: 2*x, arbore_binar_cautare))\n",
    "print(functieb(lambda x: 2*x, arbore_binar_cautare))\n",
    "print(functiec(lambda x: 2*x, arbore_binar_cautare))"
   ]
  },
  {
   "cell_type": "code",
   "execution_count": 47,
   "metadata": {},
   "outputs": [
    {
     "name": "stdout",
     "output_type": "stream",
     "text": [
      "{'value': 4, 'left': {'value': 7, 'left': None, 'right': None}, 'right': {'value': 2, 'left': {'value': 3, 'left': None, 'right': None}, 'right': {'value': 1, 'left': None, 'right': None}}}\n"
     ]
    }
   ],
   "source": [
    "'''4. Scrieti o functie care interschimba recursiv subarborele stang cu subarborele drept intr-un arbore binar. '''\n",
    "def interschimbare(arbore):\n",
    "    if arbore is None:\n",
    "        return []\n",
    "    else:\n",
    "        arbore[\"left\"], arbore[\"right\"] = arbore[\"right\"], arbore[\"left\"] #interschimbare\n",
    "        interschimbare(arbore[\"left\"]) #arbore[\"left\"] = arbore[\"right\"]\n",
    "        interschimbare(arbore[\"right\"]) #arbore[\"right\"] = arbore[\"left\"]\n",
    "        return arbore\n",
    "print(interschimbare(arbore_binar_cautare))"
   ]
  },
  {
   "cell_type": "code",
   "execution_count": 48,
   "metadata": {},
   "outputs": [
    {
     "name": "stdout",
     "output_type": "stream",
     "text": [
      "True\n",
      "False\n"
     ]
    }
   ],
   "source": [
    "'''5. Implementati in Python o functie recursiva care ia 2 parametri: un arbore binar cu informatia din noduri numere intregi,\n",
    " si o functie booleana (ex: lambda a: a%2==0), si returneaza True daca exista cel putin o valoare in nodurile arborelui \n",
    " care indeplineste conditia cond, False altfel.'''\n",
    "\n",
    "arbore_binar = { \"value\" : 2, \"left\":\n",
    "                     {\n",
    "                        \"value\": 7, \"left\": None, \"right\":\n",
    "                             {\n",
    "                                  \"value\": 6, \"left\":\n",
    "                                      {\n",
    "                                         \"value\": 5, \"left\": None, \"right\": None\n",
    "                                      }, \"right\":\n",
    "                                      {\n",
    "                                          \"value\":11, \"left\": None, \"right\": None\n",
    "                              },\n",
    "                      },\n",
    "                      }, \"right\":\n",
    "                      {\n",
    "                           \"value\": 4, \"left\": None, \"right\": None\n",
    "                       }\n",
    "        }\n",
    "import functools as f\n",
    "def cond(x):\n",
    "    cheie, valoare = x # cheie = \"value\", valoare = 2\n",
    "    if valoare % 2 == 0:\n",
    "        return True\n",
    "    else:\n",
    "        return False\n",
    "    \n",
    "def fun(arbore, cond):\n",
    "    return f.reduce(lambda acc, elem: acc or cond(elem), arbore.items(), False) #acc = False, elem = (\"value\", 2)\n",
    "\n",
    "print(fun(arbore_binar, cond))\n",
    "\n",
    "def exists(arbore_binar, conditie):\n",
    "    if arbore_binar[\"left\"] == None and arbore_binar[\"right\"] == None:\n",
    "        return conditie(arbore_binar[\"value\"])\n",
    "    if arbore_binar[\"left\"] != None and arbore_binar[\"right\"] == None:\n",
    "        return exists(arbore_binar[\"left\"], conditie)\n",
    "    if arbore_binar[\"left\"] == None and arbore_binar[\"right\"] != None:\n",
    "        return exists(arbore_binar[\"right\"], conditie)\n",
    "    if arbore_binar[\"right\"] != None and arbore_binar[\"left\"]!=None:\n",
    "        return exists(arbore_binar[\"left\"], conditie) or exists(arbore_binar[\"right\"], conditie)\n",
    "print(exists(arbore_binar,lambda x: x > 12))\n",
    "    \n"
   ]
  },
  {
   "cell_type": "code",
   "execution_count": 49,
   "metadata": {},
   "outputs": [
    {
     "name": "stdout",
     "output_type": "stream",
     "text": [
      "False\n"
     ]
    }
   ],
   "source": [
    "'''6. Implementati in Python o functie recursiva care ia 2 parametri: un arbore binar cu informatia din noduri numere intregi, \n",
    "si o functie booleana (ex: lambda a: a%2==0), si returneaza True daca toate valorile din nodurile arborelui indeplinesc conditia cond, False altfel.'''\n",
    "\n",
    "def toate(arbore, f):\n",
    "    if arbore == None:\n",
    "        return True\n",
    "    if not f(arbore[\"value\"]): #daca nu indeplineste conditia\n",
    "        return False\n",
    "    return toate(arbore[\"left\"], f) and toate(arbore[\"right\"], f)\n",
    "\n",
    "print(toate(arbore_binar, lambda x: x % 2 == 0))\n"
   ]
  },
  {
   "cell_type": "code",
   "execution_count": 50,
   "metadata": {},
   "outputs": [
    {
     "name": "stdout",
     "output_type": "stream",
     "text": [
      "3\n",
      "4\n"
     ]
    }
   ],
   "source": [
    "'''7. Implementati o functie care calculeaza gradul unui arbore oarecare. \n",
    "Obs: Consideram ca gradul unui arbore este maximul dintre gradele tuturor nodurilor sale.'''\n",
    "\n",
    "def grad(arbore):\n",
    "    if arbore == None:\n",
    "        return 0\n",
    "    else:\n",
    "        return max(grad(arbore[\"left\"]), grad(arbore[\"right\"])) + 1 #+1 pentru ca incepe de la 0\n",
    "print(grad(arbore_binar_cautare))\n",
    "print(grad(arbore_binar))"
   ]
  },
  {
   "cell_type": "code",
   "execution_count": 51,
   "metadata": {},
   "outputs": [
    {
     "name": "stdout",
     "output_type": "stream",
     "text": [
      "3\n",
      "4\n",
      "3\n"
     ]
    }
   ],
   "source": [
    "'''8. Implementati o functie care calculeaza inaltimea unui arbore binar.\n",
    "Obs: Definim inaltimea unui arbore ca fiind cel mai lung drum de la radacina la un nod frunza. Pentru exemplul din laborator arborele binar are inaltimea 3).'''\n",
    "\n",
    "def inaltime(arbore):\n",
    "    if arbore == None:\n",
    "        return -1\n",
    "    return 1 + max(inaltime(arbore[\"left\"]), inaltime(arbore[\"right\"]))\n",
    "\n",
    "print(inaltime(arbore_binar))\n",
    "\n",
    "def inaltime(arbore_binar):\n",
    "    if arbore_binar[\"left\"] == None and arbore_binar[\"right\"] == None:\n",
    "        return 1\n",
    "    if arbore_binar[\"left\"] != None and arbore_binar[\"right\"] == None:\n",
    "        return 1 + inaltime(arbore_binar[\"left\"])\n",
    "    if arbore_binar[\"left\"] == None and arbore_binar[\"right\"] != None:\n",
    "        return 1 + inaltime(arbore_binar[\"right\"])\n",
    "    if arbore_binar[\"right\"] != None and arbore_binar[\"left\"]!=None:\n",
    "        return 1 +  max(inaltime(arbore_binar[\"left\"]), inaltime(arbore_binar[\"right\"]))\n",
    "\n",
    "print(inaltime(arbore_binar))\n",
    "print(inaltime(arbore_binar_cautare))\n"
   ]
  },
  {
   "cell_type": "code",
   "execution_count": 52,
   "metadata": {},
   "outputs": [
    {
     "name": "stdout",
     "output_type": "stream",
     "text": [
      "[7, 4, 3, 2, 1]\n",
      "False\n"
     ]
    }
   ],
   "source": [
    "'''9. Scrieti o functie care verifica daca un arbore binar este arbore binar de cautare.'''\n",
    "def cautare(lista):\n",
    "    if len(lista) <= 1:\n",
    "        return True\n",
    "    else:\n",
    "        if lista[0] > lista[1]:\n",
    "            return False\n",
    "        else:\n",
    "            return cautare(lista[1:])\n",
    "\n",
    "# Verificăm dacă lista sortată a valorilor arborelui este în ordine crescătoare\n",
    "rezultat = cautare(srd(arbore_binar_cautare))\n",
    "print(srd(arbore_binar_cautare))\n",
    "print(rezultat)\n",
    "\n",
    "    "
   ]
  },
  {
   "cell_type": "code",
   "execution_count": 53,
   "metadata": {},
   "outputs": [
    {
     "name": "stdout",
     "output_type": "stream",
     "text": [
      "True\n"
     ]
    }
   ],
   "source": [
    "class Nod:\n",
    "    def __init__(self, valoare):\n",
    "        self.valoare = valoare\n",
    "        self.stanga = None\n",
    "        self.dreapta = None\n",
    "\n",
    "NEGATIVE_INFINITY = float('-inf')\n",
    "POSITIVE_INFINITY = float('inf')\n",
    "\n",
    "def este_arbore_binar_de_cautare(nod, minim=NEGATIVE_INFINITY, maxim=POSITIVE_INFINITY):\n",
    "    if nod is None:\n",
    "        return True\n",
    "    \n",
    "    if not minim <= nod.valoare <= maxim:\n",
    "        return False\n",
    "    \n",
    "    return (este_arbore_binar_de_cautare(nod.stanga, minim, nod.valoare - 1) and\n",
    "            este_arbore_binar_de_cautare(nod.dreapta, nod.valoare + 1, maxim))\n",
    "\n",
    "# Exemplu de utilizare:\n",
    "arbore_binar_cautare = Nod(5)\n",
    "arbore_binar_cautare.stanga = Nod(3)\n",
    "arbore_binar_cautare.dreapta = Nod(7)\n",
    "\n",
    "rezultat = este_arbore_binar_de_cautare(arbore_binar_cautare)\n",
    "print(rezultat)\n"
   ]
  },
  {
   "cell_type": "code",
   "execution_count": 54,
   "metadata": {},
   "outputs": [
    {
     "name": "stdout",
     "output_type": "stream",
     "text": [
      "False\n",
      "True\n"
     ]
    }
   ],
   "source": [
    "'''10. Scrieti o functie care primeste ca parametru un arbore binar de cautare si un numar x si returneaza True\n",
    " daca gaseste numarul in arborele binar de cautare, altfel returneaza False.'''\n",
    "\n",
    "arbore_binar_cautare = { \"value\" : 4, \"left\":\n",
    "                             {\"value\": 2, \"left\": {\"value\": 1, \"left\": None, \"right\": None}, \"right\": {\"value\": 3, \"left\": None, \"right\": None},\n",
    "                             }, \"right\":\n",
    "                             {\"value\": 7, \"left\": None, \"right\": None}\n",
    "                          }\n",
    "\n",
    "def cauta_numar(binar_c, numar):\n",
    "    if numar == binar_c[\"value\"]:\n",
    "        return True\n",
    "    elif numar < binar_c[\"value\"]:\n",
    "        if binar_c[\"left\"]:\n",
    "            return cauta_numar(binar_c[\"left\"], numar)\n",
    "        return False\n",
    "    else:\n",
    "        if binar_c[\"right\"]:\n",
    "            return cauta_numar(binar_c[\"right\"], numar)\n",
    "        return False\n",
    "\n",
    "print(cauta_numar(arbore_binar_cautare, 23))\n",
    "print(cauta_numar(arbore_binar_cautare, 2))"
   ]
  },
  {
   "cell_type": "code",
   "execution_count": 55,
   "metadata": {},
   "outputs": [
    {
     "name": "stdout",
     "output_type": "stream",
     "text": [
      "{'value': 4, 'left': {'value': 2, 'left': {'value': 1, 'left': None, 'right': None}, 'right': {'value': 3, 'left': None, 'right': None}}, 'right': {'value': 7, 'left': None, 'right': {'value': 8, 'left': None, 'right': None}}}\n"
     ]
    }
   ],
   "source": [
    "'''11.  Scrieti o functie care primeste ca parametru un arbore binar de cautare si un numar x si adauga numarul\n",
    " in arborele binar de cautare in cazul in care acesta nu exista.'''\n",
    "\n",
    "def adauga(arbore, x):\n",
    "    if arbore is None:\n",
    "        return {\"value\": x, \"left\": None, \"right\": None} #daca arborele este gol, il creez\n",
    "    else:\n",
    "        if arbore[\"value\"] == x: #daca valoarea exista deja, nu mai adaug nimic\n",
    "            return arbore #returnez arborele\n",
    "        else:\n",
    "            if x < arbore[\"value\"]: #daca valoarea este mai mica decat valoarea din nodul curent, o adaug in stanga\n",
    "                return {\"value\": arbore[\"value\"], \"left\": adauga(arbore[\"left\"], x), \"right\": arbore[\"right\"]} #adaug valoarea in stanga\n",
    "            else:\n",
    "                return {\"value\": arbore[\"value\"], \"left\": arbore[\"left\"], \"right\": adauga(arbore[\"right\"], x)} #adaug valoarea in dreapta\n",
    "print(adauga(arbore_binar_cautare, 8))"
   ]
  },
  {
   "cell_type": "code",
   "execution_count": 56,
   "metadata": {},
   "outputs": [
    {
     "name": "stdout",
     "output_type": "stream",
     "text": [
      "[1, 2, 3, 4, 7]\n",
      "3\n"
     ]
    }
   ],
   "source": [
    "'''12. Scrieti o functie care primeste ca parametru un arbore binar si \n",
    "numar n si returneaza al n-lea numar la parcurgerea in inordine.'''\n",
    "def srd(tree):\n",
    "    if (tree != None):\n",
    "        return  srd(tree[\"left\"]) + [tree[\"value\"]] + srd(tree[\"right\"])\n",
    "    else:\n",
    "        return []\n",
    "def n(arbore, n):\n",
    "    if arbore is None:\n",
    "        return []\n",
    "    else:\n",
    "        return srd(arbore)[n-1] #n-1 pentru ca incepe de la 0\n",
    "\n",
    "print(srd(arbore_binar_cautare))\n",
    "print(n(arbore_binar_cautare, 3))"
   ]
  },
  {
   "cell_type": "code",
   "execution_count": 57,
   "metadata": {},
   "outputs": [
    {
     "name": "stdout",
     "output_type": "stream",
     "text": [
      "[]\n",
      "[7]\n"
     ]
    }
   ],
   "source": [
    "''' Scrieți o funcție care ia un arbore binar și returnează lista nodurilor care au un singur fiu. \n",
    "Ordinea nodurilor în listă va fi cea din traversarea în inordine.\n",
    "'''\n",
    "def un_fiu(arbore):\n",
    "    if arbore is None:\n",
    "        return []\n",
    "    if (arbore[\"left\"] is None and arbore[\"right\"] is not None) or (arbore[\"left\"] is not None and arbore[\"right\"] is None):\n",
    "        return un_fiu(arbore[\"left\"]) + [arbore[\"value\"]] + un_fiu(arbore[\"right\"])\n",
    "    else:\n",
    "        return un_fiu(arbore[\"left\"]) + un_fiu(arbore[\"right\"])\n",
    "    \n",
    "print(un_fiu(arbore_binar_cautare))\n",
    "print(un_fiu(arbore_binar))"
   ]
  },
  {
   "cell_type": "code",
   "execution_count": 58,
   "metadata": {},
   "outputs": [
    {
     "name": "stdout",
     "output_type": "stream",
     "text": [
      "[2, 4]\n",
      "[6, 2]\n"
     ]
    }
   ],
   "source": [
    "'''noduri cu 2 copii'''\n",
    "def doi_fiu(arbore):\n",
    "    if arbore is None:\n",
    "        return []\n",
    "    else:\n",
    "        if arbore[\"left\"] is not None and arbore[\"right\"] is not None:\n",
    "            return doi_fiu(arbore[\"left\"]) + [arbore[\"value\"]] + doi_fiu(arbore[\"right\"])\n",
    "        else:\n",
    "            return doi_fiu(arbore[\"left\"]) + doi_fiu(arbore[\"right\"])\n",
    "\n",
    "print(doi_fiu(arbore_binar_cautare))\n",
    "print(doi_fiu(arbore_binar))"
   ]
  },
  {
   "cell_type": "code",
   "execution_count": 59,
   "metadata": {},
   "outputs": [
    {
     "name": "stdout",
     "output_type": "stream",
     "text": [
      "5\n",
      "6\n"
     ]
    }
   ],
   "source": [
    "'''2. Scrieți o funcție careia un arbore binar și returnează numărul total de noduri din arbore.'''\n",
    "def nr_noduri(arbore):\n",
    "    if arbore is None:\n",
    "        return 0\n",
    "    else:\n",
    "        return 1 + nr_noduri(arbore[\"left\"]) + nr_noduri(arbore[\"right\"])\n",
    "    \n",
    "print(nr_noduri(arbore_binar_cautare))\n",
    "print(nr_noduri(arbore_binar))"
   ]
  },
  {
   "cell_type": "code",
   "execution_count": 60,
   "metadata": {},
   "outputs": [
    {
     "name": "stdout",
     "output_type": "stream",
     "text": [
      "4\n",
      "  2\n",
      "    1\n",
      "    3\n",
      "  7\n",
      "2\n",
      "  7\n",
      "    6\n",
      "      5\n",
      "      11\n",
      "  4\n"
     ]
    }
   ],
   "source": [
    "'''4. Tipărire indentată Scrieți o funcție care afișează un arbore binar de întregi în preordine, câte un nod pe linie, \n",
    "precedând valoarea din nod cu un număr de spații egal cu dublul adâncimii la care se află (câte două spații pentru fiecare nivel).'''\n",
    "\n",
    "def tiparire_indentata(arbore, nivel = 0):\n",
    "    if arbore is None:\n",
    "        return []\n",
    "    else:\n",
    "        print(\" \" * nivel * 2 + str(arbore[\"value\"]))\n",
    "        tiparire_indentata(arbore[\"left\"], nivel + 1)\n",
    "        tiparire_indentata(arbore[\"right\"], nivel + 1)\n",
    "\n",
    "tiparire_indentata(arbore_binar_cautare)\n",
    "tiparire_indentata(arbore_binar)\n",
    "\n"
   ]
  },
  {
   "cell_type": "code",
   "execution_count": 61,
   "metadata": {},
   "outputs": [
    {
     "name": "stdout",
     "output_type": "stream",
     "text": [
      "[1, 2, 3, 4, 7]\n"
     ]
    }
   ],
   "source": [
    "'''5. Scrieți o funcție care primește ca parametru un arbore binar și returnează o listă cu valorile din noduri în ordine crescătoare.'''\n",
    "arbore_binar_cautare = { \"value\" : 4, \"left\":\n",
    "                             {\"value\": 2, \"left\": {\"value\": 1, \"left\": None, \"right\": None}, \"right\": {\"value\": 3, \"left\": None, \"right\": None},\n",
    "                             }, \"right\":\n",
    "                             {\"value\": 7, \"left\": None, \"right\": None}\n",
    "                          }\n",
    "\n",
    "def srd(tree): #inordine\n",
    "    if (tree != None):\n",
    "        return  srd(tree[\"left\"]) + [tree[\"value\"]] + srd(tree[\"right\"])\n",
    "    else:\n",
    "        return []\n",
    "print(srd(arbore_binar_cautare))"
   ]
  },
  {
   "cell_type": "code",
   "execution_count": 62,
   "metadata": {},
   "outputs": [
    {
     "name": "stdout",
     "output_type": "stream",
     "text": [
      "[7, 2, 1, 3]\n",
      "[7, 3, 1]\n"
     ]
    }
   ],
   "source": [
    "'''6. Eliminarea unui nod Scrieți o funcție care ia ca parametru o valoare și un arbore binar de căutare și returnează arborele din care valoarea a fost eliminată (dacă exista).'''\n",
    "def cautare(arbore, x):\n",
    "    if arbore is None:\n",
    "        return False\n",
    "    else:\n",
    "        if arbore[\"value\"] == x:\n",
    "            return True\n",
    "        else:\n",
    "            return cautare(arbore[\"left\"], x) or cautare(arbore[\"right\"], x)\n",
    "\n",
    "def sterge(arbore, x):\n",
    "    if arbore is None:\n",
    "        return None\n",
    "    else:\n",
    "        if arbore[\"value\"] == x:\n",
    "            if arbore[\"left\"] is None and arbore[\"right\"] is None:\n",
    "                return None\n",
    "            elif arbore[\"left\"] is None:\n",
    "                return arbore[\"right\"]\n",
    "            elif arbore[\"right\"] is None:\n",
    "                return arbore[\"left\"]\n",
    "            else:\n",
    "                # Găsim valoarea minimă în subarborele drept\n",
    "                minim_subarbore_drept = gaseste_minim(arbore[\"right\"])\n",
    "                arbore[\"value\"] = minim_subarbore_drept[\"value\"]\n",
    "                # Eliminăm valoarea minimă din subarborele drept\n",
    "                arbore[\"right\"] = sterge(arbore[\"right\"], minim_subarbore_drept[\"value\"])\n",
    "        else:\n",
    "            if x < arbore[\"value\"]:\n",
    "                arbore[\"left\"] = sterge(arbore[\"left\"], x)\n",
    "            else:\n",
    "                arbore[\"right\"] = sterge(arbore[\"right\"], x)\n",
    "        return arbore\n",
    "\n",
    "def gaseste_minim(nod):\n",
    "    while nod[\"left\"] is not None: #cat timp exista noduri in stanga\n",
    "        nod = nod[\"left\"] #nodul curent devine nodul din stanga\n",
    "    return nod #returnez nodul curent\n",
    "\n",
    "#minim fara while\n",
    "def gaseste_minim(nod):\n",
    "    if nod[\"left\"] is None:\n",
    "        return nod\n",
    "    else:\n",
    "        return gaseste_minim(nod[\"left\"])\n",
    "\n",
    "# Exemplu de utilizare:\n",
    "# Presupunând că arbore_binar_cautare este un arbore binar de căutare valid\n",
    "# arbore_binar_cautare = ...\n",
    "\n",
    "# Eliminăm nodul cu valoarea 4\n",
    "arbore_modificat = sterge(arbore_binar_cautare, 4)\n",
    "\n",
    "\n",
    "# Afișăm rezultatul parcurgerii în ordine a noului arbore\n",
    "print(rsd(arbore_modificat))\n",
    "\n",
    "arbore_modificat = sterge(arbore_binar_cautare, 2)\n",
    "print(rsd(arbore_modificat))\n"
   ]
  }
 ],
 "metadata": {
  "kernelspec": {
   "display_name": "Python 3",
   "language": "python",
   "name": "python3"
  },
  "language_info": {
   "codemirror_mode": {
    "name": "ipython",
    "version": 3
   },
   "file_extension": ".py",
   "mimetype": "text/x-python",
   "name": "python",
   "nbconvert_exporter": "python",
   "pygments_lexer": "ipython3",
   "version": "3.12.0"
  }
 },
 "nbformat": 4,
 "nbformat_minor": 2
}
