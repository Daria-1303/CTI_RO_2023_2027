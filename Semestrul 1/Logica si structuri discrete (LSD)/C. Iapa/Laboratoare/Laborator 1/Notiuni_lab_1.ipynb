{
  "cells": [
    {
      "cell_type": "markdown",
      "metadata": {
        "id": "KZFM7yodxTEW"
      },
      "source": [
        "# **LABORATOR 1 - Introducere în Python. Functii**"
      ]
    },
    {
      "cell_type": "markdown",
      "metadata": {
        "id": "8UxbVcYEywlK"
      },
      "source": [
        "## 1.1 Despre Python"
      ]
    },
    {
      "cell_type": "markdown",
      "metadata": {
        "id": "V5dFeikNxNEp"
      },
      "source": [
        "Python este un limbaj de programare interpretat, dinamic și de nivel înalt. Acesta suportă paradigme multiple de programare cum ar fi:\n",
        "\n",
        "* programarea procedurală;\n",
        "* programarea orientată pe obiecte;\n",
        "* programarea funcțională.\n",
        "\n",
        "Un interpretor poate rula (evalua) fragmente de program (expresii sau instrucțiuni) pe măsură ce ele sunt introduse.\n",
        "\n",
        "Un compilator transformă programul sursă într-un fișier executabil care poate fi apoi executat de sine stătător."
      ]
    },
    {
      "cell_type": "markdown",
      "metadata": {
        "id": "PmfFV6Erzgu9"
      },
      "source": [
        "## 1.2 Tipuri de date"
      ]
    },
    {
      "cell_type": "markdown",
      "metadata": {
        "id": "sHQ1oTugzWTh"
      },
      "source": [
        "Python pune la dispozitie 4 tipuri de date primitive:\n",
        "* int (numere întregi);\n",
        "* float (numere reale);\n",
        "* str (șiruri de caractere);\n",
        "* bool (valori de adevăr)."
      ]
    },
    {
      "cell_type": "code",
      "execution_count": null,
      "metadata": {
        "colab": {
          "base_uri": "https://localhost:8080/"
        },
        "id": "77Qh4hfxzVPf",
        "outputId": "90ec0cb6-0962-45e9-b407-8017b196f153"
      },
      "outputs": [
        {
          "name": "stdout",
          "output_type": "stream",
          "text": [
            "<class 'int'>\n"
          ]
        }
      ],
      "source": [
        "print(type(2779))"
      ]
    },
    {
      "cell_type": "code",
      "execution_count": null,
      "metadata": {
        "colab": {
          "base_uri": "https://localhost:8080/"
        },
        "id": "n4DEE5lVzox4",
        "outputId": "c9c7b7b7-179b-46c2-f74e-007f3053548c"
      },
      "outputs": [
        {
          "name": "stdout",
          "output_type": "stream",
          "text": [
            "<class 'float'>\n"
          ]
        }
      ],
      "source": [
        "print(type(2.0))"
      ]
    },
    {
      "cell_type": "code",
      "execution_count": null,
      "metadata": {
        "colab": {
          "base_uri": "https://localhost:8080/"
        },
        "id": "tnOl3fvIzrX4",
        "outputId": "b4387fca-c727-45bc-a425-301b6a5c03db"
      },
      "outputs": [
        {
          "name": "stdout",
          "output_type": "stream",
          "text": [
            "<class 'str'>\n"
          ]
        }
      ],
      "source": [
        "print(type(\"2\"))"
      ]
    },
    {
      "cell_type": "code",
      "execution_count": null,
      "metadata": {
        "colab": {
          "base_uri": "https://localhost:8080/"
        },
        "id": "Hx4Nj3VUzt9w",
        "outputId": "847e70fd-5814-4126-c2db-36196d2a88ef"
      },
      "outputs": [
        {
          "name": "stdout",
          "output_type": "stream",
          "text": [
            "<class 'bool'>\n"
          ]
        }
      ],
      "source": [
        "print(type(True))"
      ]
    },
    {
      "cell_type": "markdown",
      "metadata": {
        "id": "SlVTIiIOzx_9"
      },
      "source": [
        "În Python, variabilele sunt create atunci când sunt atribuite pentru prima dată.\n",
        "În Python, nu este necesar să declarați o variabilă înainte de a o utiliza sau să specificați tipul de date al variabilei.\n",
        "Tipul de date al variabilei este determinat la momentul atribuirii.\n"
      ]
    },
    {
      "cell_type": "code",
      "execution_count": null,
      "metadata": {
        "colab": {
          "base_uri": "https://localhost:8080/"
        },
        "id": "o2bkZlJNCbqh",
        "outputId": "1b1f009c-99ff-477c-cbab-872a2def0d38"
      },
      "outputs": [
        {
          "name": "stdout",
          "output_type": "stream",
          "text": [
            "200\n",
            "4\n",
            "Un sir de caractere\n",
            "True\n"
          ]
        }
      ],
      "source": [
        "x = 200\n",
        "print(x)\n",
        "x = 4\n",
        "print(x)\n",
        "x = \"Un sir de caractere\"\n",
        "print(x)\n",
        "x = True\n",
        "print(x)"
      ]
    },
    {
      "cell_type": "markdown",
      "metadata": {
        "id": "B9-hcrI1ClIb"
      },
      "source": [
        "Tipurile de date primitive sunt imutabile, adică, odată ce acestea au fost create ele nu se mai pot modifica.\n",
        "Dacă o variabilă x = 3 își modifică valoarea în 4, de fapt un nou întreg este creat și atribuit variabilei x."
      ]
    },
    {
      "cell_type": "code",
      "execution_count": null,
      "metadata": {
        "colab": {
          "base_uri": "https://localhost:8080/"
        },
        "id": "RO2WLmzSCl0y",
        "outputId": "53766c33-40df-4dda-d3a4-d29d3ea52e22"
      },
      "outputs": [
        {
          "name": "stdout",
          "output_type": "stream",
          "text": [
            "139355447886128\n",
            "139355447886160\n",
            "False\n"
          ]
        }
      ],
      "source": [
        "y = 3\n",
        "id_before = id(y) # id() returnează identificatorul obiectului (adresa de memorie)\n",
        "print(id_before)\n",
        "\n",
        "y = 4\n",
        "id_after = id(y)\n",
        "print(id_after)\n",
        "\n",
        "print(id_before == id_after)"
      ]
    },
    {
      "cell_type": "markdown",
      "metadata": {
        "id": "PbDJfxnpCuIl"
      },
      "source": [
        "!!! Atentie: Daca doriti sa comparati doua numere, trebuie sa folositi operatorul ==, nu operatorul =."
      ]
    },
    {
      "cell_type": "markdown",
      "metadata": {
        "id": "cHQJJQKkz8g0"
      },
      "source": [
        "## 1.3 Variabile"
      ]
    },
    {
      "cell_type": "markdown",
      "metadata": {
        "id": "0KVrPp1u0AVI"
      },
      "source": [
        "În Python, nu este necesar să declarați o variabilă înainte de a o utiliza sau să specificați tipul de date al variabilei. Tipul de date al variabilei este determinat la momentul atribuirii."
      ]
    },
    {
      "cell_type": "code",
      "execution_count": null,
      "metadata": {
        "colab": {
          "base_uri": "https://localhost:8080/"
        },
        "id": "NWfa3zBM0Ei8",
        "outputId": "ce872573-1e8d-4c40-ce7d-35e2f6ca9fd6"
      },
      "outputs": [
        {
          "name": "stdout",
          "output_type": "stream",
          "text": [
            "3\n"
          ]
        }
      ],
      "source": [
        "x = 3\n",
        "print(x)"
      ]
    },
    {
      "cell_type": "code",
      "execution_count": null,
      "metadata": {
        "colab": {
          "base_uri": "https://localhost:8080/"
        },
        "id": "SH8D1VWo0H3q",
        "outputId": "6ec3943b-b3ed-4961-c370-e10e4aaa5862"
      },
      "outputs": [
        {
          "name": "stdout",
          "output_type": "stream",
          "text": [
            "4\n"
          ]
        }
      ],
      "source": [
        "x = 4\n",
        "print(x)"
      ]
    },
    {
      "cell_type": "code",
      "execution_count": null,
      "metadata": {
        "colab": {
          "base_uri": "https://localhost:8080/"
        },
        "id": "itHL50860KIb",
        "outputId": "6ab537cc-c154-47e9-97d2-2c06a9a1a0f4"
      },
      "outputs": [
        {
          "name": "stdout",
          "output_type": "stream",
          "text": [
            "Un sir de caractere\n"
          ]
        }
      ],
      "source": [
        "x = \"Un sir de caractere\"\n",
        "print(x)"
      ]
    },
    {
      "cell_type": "code",
      "execution_count": null,
      "metadata": {
        "colab": {
          "base_uri": "https://localhost:8080/"
        },
        "id": "SgPOzKkT0MVr",
        "outputId": "f17e3459-9d8f-4ed7-9bb9-df7e8188e8f1"
      },
      "outputs": [
        {
          "name": "stdout",
          "output_type": "stream",
          "text": [
            "True\n"
          ]
        }
      ],
      "source": [
        "x = True\n",
        "print(x)"
      ]
    },
    {
      "cell_type": "markdown",
      "metadata": {
        "id": "bimM2KdU0S4n"
      },
      "source": [
        "Tipurile de date primitive sunt imutabile, adică, odată ce acestea au fost create ele nu se mai pot modifica.\n",
        "Dacă o variabilă x = 3 își modifică valoarea în 4, de fapt un nou întreg este creat și atribuit variabilei x."
      ]
    },
    {
      "cell_type": "code",
      "execution_count": null,
      "metadata": {
        "colab": {
          "base_uri": "https://localhost:8080/"
        },
        "id": "nAtcVQL60TxM",
        "outputId": "680f5bc8-40d9-4321-bbf2-441bddc254cc"
      },
      "outputs": [
        {
          "name": "stdout",
          "output_type": "stream",
          "text": [
            "139355447886128\n",
            "139355447886160\n",
            "False\n"
          ]
        }
      ],
      "source": [
        "y = 3\n",
        "id_before = id(y)  # id() returnează identificatorul obiectului (adresa de memorie)\n",
        "print(id_before)\n",
        "\n",
        "y = 4\n",
        "id_after = id(y)\n",
        "print(id_after)\n",
        "\n",
        "print(id_before == id_after)"
      ]
    },
    {
      "cell_type": "markdown",
      "metadata": {
        "id": "PjtlXsxn0ZIa"
      },
      "source": [
        "**!!! Atentie:** Daca doriti sa comparati doua numere, trebuie sa folositi operatorul ==, nu operatorul =."
      ]
    },
    {
      "cell_type": "markdown",
      "metadata": {
        "id": "YQlWCIsA0oh6"
      },
      "source": [
        "## 1.4 Tipul de date int"
      ]
    },
    {
      "cell_type": "markdown",
      "metadata": {
        "id": "9P8kDUQc0tuT"
      },
      "source": [
        "Tipul de date int este folosit pentru a reprezenta numere întregi cu sau fără semn, fără zecimale și de lungime nelimitată (numere întregi cu valori cuprinse între -∞ și ∞)."
      ]
    },
    {
      "cell_type": "code",
      "execution_count": null,
      "metadata": {
        "id": "WywWd6RI072n"
      },
      "outputs": [],
      "source": [
        "a = 10\n",
        "b = 2"
      ]
    },
    {
      "cell_type": "code",
      "execution_count": null,
      "metadata": {
        "colab": {
          "base_uri": "https://localhost:8080/"
        },
        "id": "Ee5zOG_W09V6",
        "outputId": "67912705-56e8-4128-eb28-5b439b812f45"
      },
      "outputs": [
        {
          "name": "stdout",
          "output_type": "stream",
          "text": [
            "12\n"
          ]
        }
      ],
      "source": [
        "adunare = a + b\n",
        "print(adunare)"
      ]
    },
    {
      "cell_type": "code",
      "execution_count": null,
      "metadata": {
        "colab": {
          "base_uri": "https://localhost:8080/"
        },
        "id": "st4yklZY0-5i",
        "outputId": "6ef153bf-8486-4d91-f34e-d1769c007474"
      },
      "outputs": [
        {
          "name": "stdout",
          "output_type": "stream",
          "text": [
            "8\n"
          ]
        }
      ],
      "source": [
        "scadere = a - b\n",
        "print(scadere)"
      ]
    },
    {
      "cell_type": "code",
      "execution_count": null,
      "metadata": {
        "colab": {
          "base_uri": "https://localhost:8080/"
        },
        "id": "l-yotq0A1AiE",
        "outputId": "4c5765d9-a986-4cdb-cae7-527791c87057"
      },
      "outputs": [
        {
          "name": "stdout",
          "output_type": "stream",
          "text": [
            "20\n"
          ]
        }
      ],
      "source": [
        "inmultire = a * b\n",
        "print(inmultire)"
      ]
    },
    {
      "cell_type": "code",
      "execution_count": null,
      "metadata": {
        "colab": {
          "base_uri": "https://localhost:8080/"
        },
        "id": "LqKKY1CQ1COq",
        "outputId": "6d3a53ea-7b9e-4fc5-b631-ad7fe3149c1b"
      },
      "outputs": [
        {
          "name": "stdout",
          "output_type": "stream",
          "text": [
            "5.0\n"
          ]
        }
      ],
      "source": [
        "impartire = a / b\n",
        "print(impartire)"
      ]
    },
    {
      "cell_type": "code",
      "execution_count": null,
      "metadata": {
        "colab": {
          "base_uri": "https://localhost:8080/"
        },
        "id": "fxS17RuQ1EJu",
        "outputId": "9141cfb5-a3a5-4641-a3d6-7e98ca85a5ee"
      },
      "outputs": [
        {
          "name": "stdout",
          "output_type": "stream",
          "text": [
            "5\n"
          ]
        }
      ],
      "source": [
        "impartire_intreaga = a // b\n",
        "print(impartire_intreaga)"
      ]
    },
    {
      "cell_type": "code",
      "execution_count": null,
      "metadata": {
        "colab": {
          "base_uri": "https://localhost:8080/"
        },
        "id": "K5Rxj0uC1FuU",
        "outputId": "e59c72b4-d7e7-40fe-9db3-4eb72bda3021"
      },
      "outputs": [
        {
          "name": "stdout",
          "output_type": "stream",
          "text": [
            "0\n"
          ]
        }
      ],
      "source": [
        "rest = a % b\n",
        "print(rest)"
      ]
    },
    {
      "cell_type": "code",
      "execution_count": null,
      "metadata": {
        "colab": {
          "base_uri": "https://localhost:8080/"
        },
        "id": "GxefbHCJ1HUS",
        "outputId": "036440be-5a41-4e66-d825-1cd0b6b6e1ad"
      },
      "outputs": [
        {
          "name": "stdout",
          "output_type": "stream",
          "text": [
            "100\n"
          ]
        }
      ],
      "source": [
        "ridicare_la_putere = a ** b\n",
        "print(ridicare_la_putere)"
      ]
    },
    {
      "cell_type": "code",
      "execution_count": null,
      "metadata": {
        "colab": {
          "base_uri": "https://localhost:8080/"
        },
        "id": "UdQJMNG-1JB9",
        "outputId": "42dcb164-d564-42bd-95bc-9a9b5c268074"
      },
      "outputs": [
        {
          "name": "stdout",
          "output_type": "stream",
          "text": [
            "False\n"
          ]
        }
      ],
      "source": [
        "este_egal = a == b\n",
        "print(este_egal)"
      ]
    },
    {
      "cell_type": "code",
      "execution_count": null,
      "metadata": {
        "colab": {
          "base_uri": "https://localhost:8080/"
        },
        "id": "JcpsQPg_1Kn5",
        "outputId": "47311097-6352-4830-dbc1-90bab22d00ae"
      },
      "outputs": [
        {
          "name": "stdout",
          "output_type": "stream",
          "text": [
            "True\n"
          ]
        }
      ],
      "source": [
        "este_diferit = a != b\n",
        "print(este_diferit)"
      ]
    },
    {
      "cell_type": "code",
      "execution_count": null,
      "metadata": {
        "colab": {
          "base_uri": "https://localhost:8080/"
        },
        "id": "zeIZfl9q1MWJ",
        "outputId": "3175aebd-5d41-4bc8-eb09-0381e8d83027"
      },
      "outputs": [
        {
          "name": "stdout",
          "output_type": "stream",
          "text": [
            "False\n"
          ]
        }
      ],
      "source": [
        "este_mai_mic = a < b\n",
        "print(este_mai_mic)"
      ]
    },
    {
      "cell_type": "code",
      "execution_count": null,
      "metadata": {
        "colab": {
          "base_uri": "https://localhost:8080/"
        },
        "id": "AOe7ET-m1OHb",
        "outputId": "552770c4-e1be-48d5-9d6a-41139a0342d4"
      },
      "outputs": [
        {
          "name": "stdout",
          "output_type": "stream",
          "text": [
            "True\n"
          ]
        }
      ],
      "source": [
        "este_mai_mare = a > b\n",
        "print(este_mai_mare)"
      ]
    },
    {
      "cell_type": "code",
      "execution_count": null,
      "metadata": {
        "colab": {
          "base_uri": "https://localhost:8080/"
        },
        "id": "zIuZHndR1P_2",
        "outputId": "796ee5cd-5aec-46d9-bbec-83fe0928c377"
      },
      "outputs": [
        {
          "name": "stdout",
          "output_type": "stream",
          "text": [
            "False\n"
          ]
        }
      ],
      "source": [
        "este_mai_mic_sau_egal = a <= b\n",
        "print(este_mai_mic_sau_egal)"
      ]
    },
    {
      "cell_type": "code",
      "execution_count": null,
      "metadata": {
        "colab": {
          "base_uri": "https://localhost:8080/"
        },
        "id": "Uztfj0Wa1Rlr",
        "outputId": "5a9547bf-9015-468e-c0e1-c3825dfed919"
      },
      "outputs": [
        {
          "name": "stdout",
          "output_type": "stream",
          "text": [
            "True\n"
          ]
        }
      ],
      "source": [
        "este_mai_mare_sau_egal = a >= b\n",
        "print(este_mai_mare_sau_egal)"
      ]
    },
    {
      "cell_type": "code",
      "execution_count": null,
      "metadata": {
        "colab": {
          "base_uri": "https://localhost:8080/"
        },
        "id": "PwKftHEL1TSt",
        "outputId": "bd750c54-ec61-4473-e1d4-337ccf9c51e9"
      },
      "outputs": [
        {
          "name": "stdout",
          "output_type": "stream",
          "text": [
            "True\n"
          ]
        }
      ],
      "source": [
        "este_par = a % 2 == 0\n",
        "print(este_par)"
      ]
    },
    {
      "cell_type": "code",
      "execution_count": null,
      "metadata": {
        "colab": {
          "base_uri": "https://localhost:8080/"
        },
        "id": "9OX3whXO1U9B",
        "outputId": "a6f8783b-3758-4582-aa22-c90e62c3f563"
      },
      "outputs": [
        {
          "name": "stdout",
          "output_type": "stream",
          "text": [
            "False\n"
          ]
        }
      ],
      "source": [
        "este_impar = a % 2 != 0\n",
        "print(este_impar)"
      ]
    },
    {
      "cell_type": "code",
      "execution_count": null,
      "metadata": {
        "colab": {
          "base_uri": "https://localhost:8080/"
        },
        "id": "huQ6z-gb1Ybw",
        "outputId": "4fb48715-2d04-483f-bc49-86fb61c3b5c6"
      },
      "outputs": [
        {
          "name": "stdout",
          "output_type": "stream",
          "text": [
            "18\n"
          ]
        }
      ],
      "source": [
        "c = -18\n",
        "valoarea_absoluta = abs(c)\n",
        "print(valoarea_absoluta)"
      ]
    },
    {
      "cell_type": "code",
      "execution_count": 5,
      "metadata": {
        "id": "ASsOHOW_1ahx"
      },
      "outputs": [
        {
          "name": "stdout",
          "output_type": "stream",
          "text": [
            "3\n",
            "4\n",
            "4\n",
            "4.0\n",
            "2\n",
            "0\n",
            "0\n",
            "0\n"
          ]
        }
      ],
      "source": [
        "a = 1\n",
        "b = 2\n",
        "c = a + b\n",
        "print(c)\n",
        "c += a  \n",
        "print(c)\n",
        "c *= a\n",
        "print(c)\n",
        "c /= a\n",
        "print(c)\n",
        "c = 2\n",
        "print(c)\n",
        "c %= a\n",
        "print(c)\n",
        "c **= a\n",
        "print(c)\n",
        "c //= a\n",
        "print(c)"
      ]
    },
    {
      "cell_type": "code",
      "execution_count": null,
      "metadata": {
        "id": "1Td8kwC01dLC"
      },
      "outputs": [],
      "source": [
        "# Interschimbarea variabilelor\n",
        "a = 10\n",
        "b = 2\n",
        "c = -8\n",
        "a, b, c = c, b, a"
      ]
    },
    {
      "cell_type": "code",
      "execution_count": null,
      "metadata": {
        "colab": {
          "base_uri": "https://localhost:8080/"
        },
        "id": "XrWdnhbc1uCP",
        "outputId": "aea0f1a6-778c-44b0-8fd5-6a0e77fb565f"
      },
      "outputs": [
        {
          "name": "stdout",
          "output_type": "stream",
          "text": [
            "-8\n"
          ]
        }
      ],
      "source": [
        "print(a)"
      ]
    },
    {
      "cell_type": "code",
      "execution_count": null,
      "metadata": {
        "colab": {
          "base_uri": "https://localhost:8080/"
        },
        "id": "Dw8TPShP1wRq",
        "outputId": "bc667941-0024-4c36-b0a4-00ed246c6ad6"
      },
      "outputs": [
        {
          "name": "stdout",
          "output_type": "stream",
          "text": [
            "2\n"
          ]
        }
      ],
      "source": [
        "print(b)"
      ]
    },
    {
      "cell_type": "code",
      "execution_count": null,
      "metadata": {
        "colab": {
          "base_uri": "https://localhost:8080/"
        },
        "id": "WcSSotbY1xzp",
        "outputId": "e5dbb9d9-c8d3-4cb7-a02f-abfe58ed13d7"
      },
      "outputs": [
        {
          "name": "stdout",
          "output_type": "stream",
          "text": [
            "10\n"
          ]
        }
      ],
      "source": [
        "print(c)"
      ]
    },
    {
      "cell_type": "markdown",
      "metadata": {
        "id": "pnOxHvuP15gC"
      },
      "source": [
        "## 1.5 Tipul de date float"
      ]
    },
    {
      "cell_type": "markdown",
      "metadata": {
        "id": "j5GLBGhd2Ddz"
      },
      "source": [
        "Tipul de date float este folosit pentru reprezentarea numerelor în virgulă flotantă, cu sau fără semn."
      ]
    },
    {
      "cell_type": "code",
      "execution_count": null,
      "metadata": {
        "colab": {
          "base_uri": "https://localhost:8080/"
        },
        "id": "iw8YGQg519S-",
        "outputId": "d06bd9d8-dacd-403a-a7b9-14a10410f6e7"
      },
      "outputs": [
        {
          "name": "stdout",
          "output_type": "stream",
          "text": [
            "12.0\n",
            "8.0\n",
            "20.0\n"
          ]
        }
      ],
      "source": [
        "a = 10.0\n",
        "b = 2.0\n",
        "\n",
        "adunare = a + b\n",
        "print(adunare)\n",
        "\n",
        "scadere = a - b\n",
        "print(scadere)\n",
        "\n",
        "inmultire = a * b\n",
        "print(inmultire)"
      ]
    },
    {
      "cell_type": "code",
      "execution_count": null,
      "metadata": {
        "colab": {
          "base_uri": "https://localhost:8080/"
        },
        "id": "dD-b68qO2LCn",
        "outputId": "e2063ec9-5953-4807-a8da-17236ea978c8"
      },
      "outputs": [
        {
          "name": "stdout",
          "output_type": "stream",
          "text": [
            "0.123\n"
          ]
        }
      ],
      "source": [
        "import math\n",
        "\n",
        "# Rotunjirea unui numar real\n",
        "a = 0.123456789\n",
        "rotunjire = round(a, 3)\n",
        "print(rotunjire)"
      ]
    },
    {
      "cell_type": "code",
      "execution_count": null,
      "metadata": {
        "colab": {
          "base_uri": "https://localhost:8080/"
        },
        "id": "1oHs1IMN2Rso",
        "outputId": "5b982e2c-f61e-4b44-86ba-583730960a49"
      },
      "outputs": [
        {
          "name": "stdout",
          "output_type": "stream",
          "text": [
            "1\n"
          ]
        }
      ],
      "source": [
        "rotunjire_in_sus = math.ceil(a)\n",
        "print(rotunjire_in_sus)"
      ]
    },
    {
      "cell_type": "code",
      "execution_count": null,
      "metadata": {
        "colab": {
          "base_uri": "https://localhost:8080/"
        },
        "id": "R6JK4peW2baW",
        "outputId": "33aebd87-e355-4eb3-fdd6-b7af9acbd061"
      },
      "outputs": [
        {
          "name": "stdout",
          "output_type": "stream",
          "text": [
            "0\n"
          ]
        }
      ],
      "source": [
        "rotunjire_in_jos = math.floor(a)\n",
        "print(rotunjire_in_jos)"
      ]
    },
    {
      "cell_type": "code",
      "execution_count": null,
      "metadata": {
        "colab": {
          "base_uri": "https://localhost:8080/"
        },
        "id": "fz1mfzMo2pR4",
        "outputId": "520f519c-37c8-4b57-9c0c-7e272d6a711c"
      },
      "outputs": [
        {
          "name": "stdout",
          "output_type": "stream",
          "text": [
            "<class 'int'>\n",
            "0\n"
          ]
        }
      ],
      "source": [
        "conversie_int = int(a)\n",
        "print(type(conversie_int))\n",
        "print(conversie_int)"
      ]
    },
    {
      "cell_type": "code",
      "execution_count": null,
      "metadata": {
        "colab": {
          "base_uri": "https://localhost:8080/"
        },
        "id": "TARqovdo2wcM",
        "outputId": "58a0fdcb-f26b-4cbc-e3dd-a9381aa76f32"
      },
      "outputs": [
        {
          "name": "stdout",
          "output_type": "stream",
          "text": [
            "<class 'float'>\n",
            "3.0\n"
          ]
        }
      ],
      "source": [
        "b = 3\n",
        "conversie_float = float(b)\n",
        "print(type(conversie_float))\n",
        "print(conversie_float)"
      ]
    },
    {
      "cell_type": "markdown",
      "metadata": {
        "id": "oU0hGDHn3XBs"
      },
      "source": [
        "**!!! Atenție**\n",
        "\n",
        "2 e o valoare întreagă. Pentru o valoare reală (float) trebuie să scriem 2.0 (sau prescurtat 2.).\n",
        "În Python conversia de tip de la int la float se face automat. Astfel, rezultatul operațiilor ce conțin atât numere întregi\n",
        "cât și numere reale va fi un număr real (de exemplu 5 + 2.0 va da 7.0)."
      ]
    },
    {
      "cell_type": "markdown",
      "metadata": {
        "id": "jOKrrc_53eqz"
      },
      "source": [
        "## 1.6 Tipul de date str"
      ]
    },
    {
      "cell_type": "markdown",
      "metadata": {
        "id": "5gxVMQfP3hqn"
      },
      "source": [
        "Tipul de date str este folosit pentru a reprezenta șiruri de caractere."
      ]
    },
    {
      "cell_type": "code",
      "execution_count": null,
      "metadata": {
        "colab": {
          "base_uri": "https://localhost:8080/"
        },
        "id": "XuS2j8203lyu",
        "outputId": "34eec856-9d62-4297-fa48-5d943a82d081"
      },
      "outputs": [
        {
          "name": "stdout",
          "output_type": "stream",
          "text": [
            "Hello World!\n"
          ]
        }
      ],
      "source": [
        "a = \"Hello\"\n",
        "b = \"World!\"\n",
        "\n",
        "concatenare = a + \" \" + b\n",
        "print(concatenare)"
      ]
    },
    {
      "cell_type": "code",
      "execution_count": null,
      "metadata": {
        "colab": {
          "base_uri": "https://localhost:8080/"
        },
        "id": "cZrnOfww3ov9",
        "outputId": "a0331b61-1d79-4e1a-9431-d605cb245d30"
      },
      "outputs": [
        {
          "name": "stdout",
          "output_type": "stream",
          "text": [
            "12\n"
          ]
        }
      ],
      "source": [
        "lungimea_sirului = len(concatenare)\n",
        "print(lungimea_sirului)"
      ]
    },
    {
      "cell_type": "markdown",
      "metadata": {
        "id": "dx0J5Mtc32RR"
      },
      "source": [
        "![index.png](data:image/png;base64,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)"
      ]
    },
    {
      "cell_type": "code",
      "execution_count": null,
      "metadata": {
        "colab": {
          "base_uri": "https://localhost:8080/"
        },
        "id": "DoYUBT0T3r1s",
        "outputId": "3f15de16-e309-49c0-c58b-be58fee6d9a7"
      },
      "outputs": [
        {
          "name": "stdout",
          "output_type": "stream",
          "text": [
            "H\n"
          ]
        }
      ],
      "source": [
        "# Accesarea unui caracter dintr-un sir de caractere\n",
        "primul_caracter = concatenare[0]\n",
        "print(primul_caracter)"
      ]
    },
    {
      "cell_type": "code",
      "execution_count": null,
      "metadata": {
        "colab": {
          "base_uri": "https://localhost:8080/"
        },
        "id": "wq_3M_lB4TUe",
        "outputId": "da0e33a4-f99b-4c84-f410-39e6a5036ab6"
      },
      "outputs": [
        {
          "name": "stdout",
          "output_type": "stream",
          "text": [
            "!\n"
          ]
        }
      ],
      "source": [
        "ultimul_caracter = concatenare[-1]\n",
        "print(ultimul_caracter)"
      ]
    },
    {
      "cell_type": "code",
      "execution_count": null,
      "metadata": {
        "colab": {
          "base_uri": "https://localhost:8080/"
        },
        "id": "3UwQ_7Un4Vdg",
        "outputId": "5c95ad80-9c00-4d39-ef3f-80543673935a"
      },
      "outputs": [
        {
          "name": "stdout",
          "output_type": "stream",
          "text": [
            "Hello\n"
          ]
        }
      ],
      "source": [
        "# Accesarea unui subsir dintr-un sir de caractere\n",
        "subsir = concatenare[0:5]\n",
        "print(subsir)"
      ]
    },
    {
      "cell_type": "code",
      "execution_count": null,
      "metadata": {
        "colab": {
          "base_uri": "https://localhost:8080/"
        },
        "id": "gVWhWsTU4YBd",
        "outputId": "0f592bf5-246f-4672-e3b9-843f41b5595f"
      },
      "outputs": [
        {
          "name": "stdout",
          "output_type": "stream",
          "text": [
            "Hlo\n"
          ]
        }
      ],
      "source": [
        "subsir = concatenare[0:5:2] # 2 reprezinta pasul\n",
        "print(subsir)"
      ]
    },
    {
      "cell_type": "code",
      "execution_count": null,
      "metadata": {
        "colab": {
          "base_uri": "https://localhost:8080/"
        },
        "id": "tdkkjMBR4fGc",
        "outputId": "f09ba29a-8aa2-48b3-8041-467efdb04393"
      },
      "outputs": [
        {
          "name": "stdout",
          "output_type": "stream",
          "text": [
            "HloWrd\n"
          ]
        }
      ],
      "source": [
        "subsir = concatenare[::2]\n",
        "print(subsir)"
      ]
    },
    {
      "cell_type": "code",
      "execution_count": null,
      "metadata": {
        "colab": {
          "base_uri": "https://localhost:8080/"
        },
        "id": "E_ICkD1p4rPO",
        "outputId": "20abfcab-2ed4-4842-924a-c0e4083f5858"
      },
      "outputs": [
        {
          "name": "stdout",
          "output_type": "stream",
          "text": [
            "!dlroW olleH\n"
          ]
        }
      ],
      "source": [
        "# Inversarea unui sir de caractere\n",
        "sir_inversat = concatenare[::-1]\n",
        "print(sir_inversat)"
      ]
    },
    {
      "cell_type": "code",
      "execution_count": null,
      "metadata": {
        "colab": {
          "base_uri": "https://localhost:8080/"
        },
        "id": "NZGIjHW54xLX",
        "outputId": "5c7e1590-ac18-4d96-ac42-dd21150c5b95"
      },
      "outputs": [
        {
          "name": "stdout",
          "output_type": "stream",
          "text": [
            "HELLO WORLD!\n"
          ]
        }
      ],
      "source": [
        "# Conversia unui sir de caractere la majuscule\n",
        "sir_majuscule = concatenare.upper()\n",
        "print(sir_majuscule)"
      ]
    },
    {
      "cell_type": "code",
      "execution_count": null,
      "metadata": {
        "colab": {
          "base_uri": "https://localhost:8080/"
        },
        "id": "06WprtdP40t1",
        "outputId": "38f41a70-129b-4213-856b-f105b844e3dc"
      },
      "outputs": [
        {
          "name": "stdout",
          "output_type": "stream",
          "text": [
            "hello world!\n"
          ]
        }
      ],
      "source": [
        "# Conversia unui sir de caractere la minuscule\n",
        "sir_minuscule = concatenare.lower()\n",
        "print(sir_minuscule)"
      ]
    },
    {
      "cell_type": "code",
      "execution_count": null,
      "metadata": {
        "colab": {
          "base_uri": "https://localhost:8080/"
        },
        "id": "PEtE11Q944Ix",
        "outputId": "7dd4c3f4-be6c-440b-a489-7eb99c67a216"
      },
      "outputs": [
        {
          "name": "stdout",
          "output_type": "stream",
          "text": [
            "Hello world!\n"
          ]
        }
      ],
      "source": [
        "# Conversia unui sir de caractere la titlu\n",
        "sir_capitalize = sir_minuscule.capitalize()\n",
        "print(sir_capitalize)"
      ]
    },
    {
      "cell_type": "code",
      "execution_count": null,
      "metadata": {
        "colab": {
          "base_uri": "https://localhost:8080/"
        },
        "id": "9VkByMRX5FLc",
        "outputId": "1ca3723f-9495-4f74-a545-664b80c5e1af"
      },
      "outputs": [
        {
          "name": "stdout",
          "output_type": "stream",
          "text": [
            "True\n"
          ]
        }
      ],
      "source": [
        "# Verificarea faptului ca un subsir se gaseste intr-un sir de caractere\n",
        "este_inclus = \"Hello\" in concatenare\n",
        "print(este_inclus)"
      ]
    },
    {
      "cell_type": "code",
      "execution_count": null,
      "metadata": {
        "colab": {
          "base_uri": "https://localhost:8080/"
        },
        "id": "jQxC35_V5Ik6",
        "outputId": "e7385418-e268-49a4-ebc2-bd25122c5585"
      },
      "outputs": [
        {
          "name": "stdout",
          "output_type": "stream",
          "text": [
            "False\n"
          ]
        }
      ],
      "source": [
        "# Verificarea faptului ca un subsir nu se gaseste intr-un sir de caractere\n",
        "nu_este_inclus = \"Hello\" not in concatenare\n",
        "print(nu_este_inclus)"
      ]
    },
    {
      "cell_type": "code",
      "execution_count": null,
      "metadata": {
        "colab": {
          "base_uri": "https://localhost:8080/"
        },
        "id": "c4udaqCy5NRA",
        "outputId": "d303bb8a-f759-4294-d92f-3cd9baa2d765"
      },
      "outputs": [
        {
          "name": "stdout",
          "output_type": "stream",
          "text": [
            "Hi World!\n"
          ]
        }
      ],
      "source": [
        "# Inlocuirea unui subsir dintr-un sir de caractere\n",
        "sir_inlocuit = concatenare.replace(\"Hello\", \"Hi\")\n",
        "print(sir_inlocuit)"
      ]
    },
    {
      "cell_type": "code",
      "execution_count": null,
      "metadata": {
        "colab": {
          "base_uri": "https://localhost:8080/"
        },
        "id": "4NCD_e6f5QOS",
        "outputId": "49f5c6d8-70d8-4f89-afb0-fcd51171df27"
      },
      "outputs": [
        {
          "name": "stdout",
          "output_type": "stream",
          "text": [
            "Hello World\n"
          ]
        }
      ],
      "source": [
        "# Eliminarea spatiilor de la inceputul si sfarsitul unui sir de caractere\n",
        "sir = \"   Hello World   \"\n",
        "sir_fara_spatii = sir.strip()\n",
        "print(sir_fara_spatii)"
      ]
    },
    {
      "cell_type": "markdown",
      "metadata": {
        "id": "GZrgjMPD5UOr"
      },
      "source": [
        "**! Atenție:** Deoarece Python este un limbaj de programare strongly typed, în cazul în care doriți să realizați\n",
        "operații matematice cu șirurile de caractere ce conțin valori numerice conversia nu se va face automat,\n",
        "ci va trebui să o faceți folosind una din funcțiile int() sau float()."
      ]
    },
    {
      "cell_type": "code",
      "execution_count": null,
      "metadata": {
        "colab": {
          "base_uri": "https://localhost:8080/",
          "height": 180
        },
        "id": "qxV_Cg8I5amx",
        "outputId": "90d0087c-1c51-46fe-cde7-753744f3b71a"
      },
      "outputs": [
        {
          "ename": "TypeError",
          "evalue": "ignored",
          "output_type": "error",
          "traceback": [
            "\u001b[0;31m---------------------------------------------------------------------------\u001b[0m",
            "\u001b[0;31mTypeError\u001b[0m                                 Traceback (most recent call last)",
            "\u001b[0;32m<ipython-input-172-63957562007d>\u001b[0m in \u001b[0;36m<cell line: 1>\u001b[0;34m()\u001b[0m\n\u001b[0;32m----> 1\u001b[0;31m \u001b[0;36m5\u001b[0m \u001b[0;34m+\u001b[0m \u001b[0;34m'2'\u001b[0m\u001b[0;34m\u001b[0m\u001b[0;34m\u001b[0m\u001b[0m\n\u001b[0m",
            "\u001b[0;31mTypeError\u001b[0m: unsupported operand type(s) for +: 'int' and 'str'"
          ]
        }
      ],
      "source": [
        "5 + '2'"
      ]
    },
    {
      "cell_type": "code",
      "execution_count": null,
      "metadata": {
        "colab": {
          "base_uri": "https://localhost:8080/"
        },
        "id": "kkDIJd1m5UzO",
        "outputId": "b6e317b1-aac0-48c5-934e-473b134fc92a"
      },
      "outputs": [
        {
          "data": {
            "text/plain": [
              "7"
            ]
          },
          "execution_count": 173,
          "metadata": {},
          "output_type": "execute_result"
        }
      ],
      "source": [
        "5 + int('2')"
      ]
    },
    {
      "cell_type": "markdown",
      "metadata": {
        "id": "nnaVLVj45iJZ"
      },
      "source": [
        "## 1.7 Tipul de date bool"
      ]
    },
    {
      "cell_type": "markdown",
      "metadata": {
        "id": "fN-ViVHG5mXk"
      },
      "source": [
        "![boolean.png](data:image/png;base64,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)"
      ]
    },
    {
      "cell_type": "code",
      "execution_count": null,
      "metadata": {
        "id": "b_gNKNti6DVI"
      },
      "outputs": [],
      "source": [
        "a = True\n",
        "b = False"
      ]
    },
    {
      "cell_type": "code",
      "execution_count": null,
      "metadata": {
        "colab": {
          "base_uri": "https://localhost:8080/"
        },
        "id": "EOuHZNih6FlJ",
        "outputId": "06de43c7-3243-4964-820c-c3d2b9131b16"
      },
      "outputs": [
        {
          "name": "stdout",
          "output_type": "stream",
          "text": [
            "False\n"
          ]
        }
      ],
      "source": [
        "print(not a)"
      ]
    },
    {
      "cell_type": "code",
      "execution_count": null,
      "metadata": {
        "colab": {
          "base_uri": "https://localhost:8080/"
        },
        "id": "3_QMedof6F9q",
        "outputId": "0e30dca6-8b9b-4d7a-b3d6-ea23ea28d7fa"
      },
      "outputs": [
        {
          "name": "stdout",
          "output_type": "stream",
          "text": [
            "False\n"
          ]
        }
      ],
      "source": [
        "print(a and b)"
      ]
    },
    {
      "cell_type": "code",
      "execution_count": null,
      "metadata": {
        "colab": {
          "base_uri": "https://localhost:8080/"
        },
        "id": "VQt4GV7G6HXj",
        "outputId": "fd047d0d-0a1d-4ae4-8900-197eac57d89c"
      },
      "outputs": [
        {
          "name": "stdout",
          "output_type": "stream",
          "text": [
            "True\n"
          ]
        }
      ],
      "source": [
        "print(a or b)"
      ]
    },
    {
      "cell_type": "code",
      "execution_count": null,
      "metadata": {
        "id": "bcaMzq3N6LCs"
      },
      "outputs": [],
      "source": [
        "c = 10 == 3\n",
        "d = len(\"Hello\") == 9"
      ]
    },
    {
      "cell_type": "code",
      "execution_count": null,
      "metadata": {
        "colab": {
          "base_uri": "https://localhost:8080/"
        },
        "id": "ovmRv9ty6Mcz",
        "outputId": "99e69df2-77de-421e-b7c8-963db76a0d12"
      },
      "outputs": [
        {
          "name": "stdout",
          "output_type": "stream",
          "text": [
            "False\n"
          ]
        }
      ],
      "source": [
        "print(c)"
      ]
    },
    {
      "cell_type": "code",
      "execution_count": null,
      "metadata": {
        "colab": {
          "base_uri": "https://localhost:8080/"
        },
        "id": "32_-t2NG6OQT",
        "outputId": "1bb4387f-cd7e-49f1-ffd1-0f6af5f7ec44"
      },
      "outputs": [
        {
          "name": "stdout",
          "output_type": "stream",
          "text": [
            "False\n"
          ]
        }
      ],
      "source": [
        "print(d)"
      ]
    },
    {
      "cell_type": "code",
      "execution_count": null,
      "metadata": {
        "colab": {
          "base_uri": "https://localhost:8080/"
        },
        "id": "aBT8Pico6P5n",
        "outputId": "1e7edb99-4ca2-4edf-ef82-a126aced550a"
      },
      "outputs": [
        {
          "name": "stdout",
          "output_type": "stream",
          "text": [
            "False\n"
          ]
        }
      ],
      "source": [
        "print(c and d)"
      ]
    },
    {
      "cell_type": "code",
      "execution_count": null,
      "metadata": {
        "colab": {
          "base_uri": "https://localhost:8080/"
        },
        "id": "j-NwMzRa6RiC",
        "outputId": "4f7f2c42-f171-431d-e1ea-edaa6a648f98"
      },
      "outputs": [
        {
          "name": "stdout",
          "output_type": "stream",
          "text": [
            "False\n"
          ]
        }
      ],
      "source": [
        "print(c or d)"
      ]
    },
    {
      "cell_type": "markdown",
      "metadata": {
        "id": "xw55n-JI699n"
      },
      "source": [
        "## 1.8 Colectii de date"
      ]
    },
    {
      "cell_type": "markdown",
      "metadata": {
        "id": "60FgPoZq7FoP"
      },
      "source": [
        "Colectiile de date sunt folosite pentru a stoca mai multe valori intr-o singura variabila.\n",
        "In Python exista urmatoarele tipuri de colectii de date:\n",
        "* Lista\n",
        "* Tuplu\n",
        "* Set (Multimea)\n",
        "* Dictionar\n",
        "\n",
        "În continuare prezentăm doar modul de definire al tipurilor de date listă și tuplu în Python (mai multe detalii despre aceste tipuri,\n",
        "dar și despre celelalte două, vor fi prezentate în cadrul laboratoarelor viitoare).\n",
        "\n",
        "Astfel dacă dorim să definim o listă vom enumera\n",
        "între paranteze pătrate elementele acesteia, elementele fiind despărțite între ele prin virgulă:"
      ]
    },
    {
      "cell_type": "code",
      "execution_count": null,
      "metadata": {
        "colab": {
          "base_uri": "https://localhost:8080/"
        },
        "id": "akdE-d8r7EOI",
        "outputId": "db7ba279-8ace-453e-ae95-e23157cc8138"
      },
      "outputs": [
        {
          "name": "stdout",
          "output_type": "stream",
          "text": [
            "['a', 'b', 'c', 'd', 'e']\n"
          ]
        }
      ],
      "source": [
        "# Definirea unei liste\n",
        "lista = [\"a\", \"b\", \"c\", \"d\", \"e\"]\n",
        "print(lista)"
      ]
    },
    {
      "cell_type": "code",
      "execution_count": null,
      "metadata": {
        "colab": {
          "base_uri": "https://localhost:8080/"
        },
        "id": "Hy3Z6uuL7QrP",
        "outputId": "5cae68ed-2700-45d9-cb9c-4e9abd8ef6b5"
      },
      "outputs": [
        {
          "name": "stdout",
          "output_type": "stream",
          "text": [
            "a\n"
          ]
        }
      ],
      "source": [
        "# Accesarea unui element din lista\n",
        "primul_element = lista[0]\n",
        "print(primul_element)"
      ]
    },
    {
      "cell_type": "code",
      "execution_count": null,
      "metadata": {
        "colab": {
          "base_uri": "https://localhost:8080/"
        },
        "id": "KRfftdFa7SyL",
        "outputId": "66557aa8-79ea-411c-b3b4-1075267cf7ab"
      },
      "outputs": [
        {
          "name": "stdout",
          "output_type": "stream",
          "text": [
            "e\n"
          ]
        }
      ],
      "source": [
        "ultimul_element = lista[-1]\n",
        "print(ultimul_element)"
      ]
    },
    {
      "cell_type": "code",
      "execution_count": null,
      "metadata": {
        "colab": {
          "base_uri": "https://localhost:8080/"
        },
        "id": "MtHmE6G67XEJ",
        "outputId": "f820635a-766e-4a21-e842-11f622f2c674"
      },
      "outputs": [
        {
          "name": "stdout",
          "output_type": "stream",
          "text": [
            "5\n"
          ]
        }
      ],
      "source": [
        "lista_cifre_pare = [0, 2, 4, 6, 8]\n",
        "# Lungimea unei liste\n",
        "lungime = len(lista_cifre_pare)\n",
        "print(lungime)"
      ]
    },
    {
      "cell_type": "code",
      "execution_count": null,
      "metadata": {
        "colab": {
          "base_uri": "https://localhost:8080/"
        },
        "id": "btb1B844_Z4I",
        "outputId": "351c7469-1a77-499b-f0e4-8ddba2057879"
      },
      "outputs": [
        {
          "name": "stdout",
          "output_type": "stream",
          "text": [
            "15\n",
            "5\n",
            "5\n",
            "1\n"
          ]
        }
      ],
      "source": [
        "numere = [1, 2, 3, 4, 5]\n",
        "suma = sum(numere)\n",
        "print(suma)\n",
        "lungime = len(numere)\n",
        "print(lungime)\n",
        "valoare_maxima = max(numere)\n",
        "print(valoare_maxima)\n",
        "valoare_minima = min(numere)\n",
        "print(valoare_minima)"
      ]
    },
    {
      "cell_type": "code",
      "execution_count": null,
      "metadata": {
        "colab": {
          "base_uri": "https://localhost:8080/"
        },
        "id": "JeJbfkrl7ZqA",
        "outputId": "1a46fc2b-9ace-4bd6-f77f-6c91540186c0"
      },
      "outputs": [
        {
          "name": "stdout",
          "output_type": "stream",
          "text": [
            "('a', 'b', 'c', 'd', 'e')\n"
          ]
        }
      ],
      "source": [
        "# Definirea unui tuplu\n",
        "tuplu = (\"a\", \"b\", \"c\", \"d\", \"e\")\n",
        "print(tuplu)"
      ]
    },
    {
      "cell_type": "code",
      "execution_count": null,
      "metadata": {
        "colab": {
          "base_uri": "https://localhost:8080/"
        },
        "id": "jq5YtrbV7cR6",
        "outputId": "db91231b-bea3-4041-b370-eff67ef8a519"
      },
      "outputs": [
        {
          "name": "stdout",
          "output_type": "stream",
          "text": [
            "a\n"
          ]
        }
      ],
      "source": [
        "# Accesarea unui element din tuplu\n",
        "primul_element = tuplu[0]\n",
        "print(primul_element)"
      ]
    },
    {
      "cell_type": "code",
      "execution_count": null,
      "metadata": {
        "colab": {
          "base_uri": "https://localhost:8080/"
        },
        "id": "7QBRY3G_7eW2",
        "outputId": "1aeb1fdc-a411-43ff-a04d-6aeec7f996cc"
      },
      "outputs": [
        {
          "name": "stdout",
          "output_type": "stream",
          "text": [
            "e\n"
          ]
        }
      ],
      "source": [
        "ultimul_element = tuplu[-1]\n",
        "print(ultimul_element)"
      ]
    },
    {
      "cell_type": "code",
      "execution_count": null,
      "metadata": {
        "colab": {
          "base_uri": "https://localhost:8080/"
        },
        "id": "VU1qiqDJ7jjk",
        "outputId": "7a6bc59a-b870-44fc-bcdf-4cad82e2fc6d"
      },
      "outputs": [
        {
          "name": "stdout",
          "output_type": "stream",
          "text": [
            "5\n"
          ]
        }
      ],
      "source": [
        "# Lungimea unui tuplu\n",
        "lungime = len(tuplu)\n",
        "print(lungime)"
      ]
    },
    {
      "cell_type": "markdown",
      "metadata": {
        "id": "Scygq7oA7uWw"
      },
      "source": [
        "## 1.9 Tiparirea"
      ]
    },
    {
      "cell_type": "code",
      "execution_count": null,
      "metadata": {
        "id": "rsGFjkZX7weR"
      },
      "outputs": [],
      "source": [
        "zi = \"Joi\""
      ]
    },
    {
      "cell_type": "code",
      "execution_count": null,
      "metadata": {
        "colab": {
          "base_uri": "https://localhost:8080/"
        },
        "id": "wqFR8iQG70Ep",
        "outputId": "e43ca823-abf4-455a-8721-afae29512a6f"
      },
      "outputs": [
        {
          "name": "stdout",
          "output_type": "stream",
          "text": [
            "Joi\n"
          ]
        }
      ],
      "source": [
        "print(zi)"
      ]
    },
    {
      "cell_type": "code",
      "execution_count": null,
      "metadata": {
        "colab": {
          "base_uri": "https://localhost:8080/"
        },
        "id": "74fxhfXo71qm",
        "outputId": "7574eab3-c9ef-4e33-b52a-1d4ba0563b1c"
      },
      "outputs": [
        {
          "name": "stdout",
          "output_type": "stream",
          "text": [
            "Astazi este Joi\n"
          ]
        }
      ],
      "source": [
        "print(\"Astazi este \" + zi)"
      ]
    },
    {
      "cell_type": "code",
      "execution_count": null,
      "metadata": {
        "colab": {
          "base_uri": "https://localhost:8080/"
        },
        "id": "AuIiWrhO73Jj",
        "outputId": "67485750-411f-487a-fd74-e6907a5fe394"
      },
      "outputs": [
        {
          "name": "stdout",
          "output_type": "stream",
          "text": [
            "Astazi este Joi\n"
          ]
        }
      ],
      "source": [
        "print(\"Astazi este\", zi)"
      ]
    },
    {
      "cell_type": "code",
      "execution_count": null,
      "metadata": {
        "colab": {
          "base_uri": "https://localhost:8080/"
        },
        "id": "Cgx33-pO748D",
        "outputId": "4caa6c12-7052-4cc9-b63e-33bd89d52f54"
      },
      "outputs": [
        {
          "name": "stdout",
          "output_type": "stream",
          "text": [
            "Astazi este Joi\n"
          ]
        }
      ],
      "source": [
        "print(f\"Astazi este {zi}\")"
      ]
    },
    {
      "cell_type": "code",
      "execution_count": null,
      "metadata": {
        "colab": {
          "base_uri": "https://localhost:8080/"
        },
        "id": "OmWogBGC76V-",
        "outputId": "8a8c085a-e203-4979-de48-1fa91dababe4"
      },
      "outputs": [
        {
          "name": "stdout",
          "output_type": "stream",
          "text": [
            "10 + 2 = 12\n",
            "10 - 2 = 8\n"
          ]
        }
      ],
      "source": [
        "a = 10\n",
        "b = 2\n",
        "\n",
        "print(f\"{a} + {b} = {a + b}\")\n",
        "print(f\"{a} - {b} = {a - b}\")"
      ]
    },
    {
      "cell_type": "markdown",
      "metadata": {
        "id": "TKhltHzP8Bqp"
      },
      "source": [
        "## 1.10 Structura conditionala"
      ]
    },
    {
      "cell_type": "markdown",
      "metadata": {
        "id": "7AtluK218I2n"
      },
      "source": [
        "Structura conditionala este folosita pentru a executa o anumita bucata de cod doar daca o conditie este indeplinita.\n",
        "În mod implicit, codul din Python se execută secvențial, linie cu linie, însă pot exista situații în care o instrucțiune\n",
        "să fie executată doar dacă o anumită condiție este îndeplinită. Pentru a realiza acest lucru putem utiliza următoarea structură:\n",
        "\n",
        "\n",
        "```\n",
        "if condition_1:\n",
        "   instruction_block_1\n",
        "elif condition_2:\n",
        "   instruction_block_2\n",
        "else:\n",
        "   instruction_block_3\n",
        "```\n",
        "\n",
        "\n",
        "\n",
        "Observații\n",
        "* pot exista oricât de multe ramuri elif;\n",
        "* ramură elif poate lipsi complet din cadrul structurii;\n",
        "* ramura de else este opțională (poate apărea o dată sau deloc)."
      ]
    },
    {
      "cell_type": "code",
      "execution_count": null,
      "metadata": {
        "colab": {
          "base_uri": "https://localhost:8080/"
        },
        "id": "Hd5qpa4z8UkU",
        "outputId": "f03985eb-8165-4eb4-d21c-ff9ad91984bc"
      },
      "outputs": [
        {
          "name": "stdout",
          "output_type": "stream",
          "text": [
            "Joi\n"
          ]
        }
      ],
      "source": [
        "zi = \"Joi\"\n",
        "print(zi)"
      ]
    },
    {
      "cell_type": "code",
      "execution_count": null,
      "metadata": {
        "colab": {
          "base_uri": "https://localhost:8080/"
        },
        "id": "9fcdD1E98Yqn",
        "outputId": "eae122f5-b569-4c84-d405-5ad7edd2f070"
      },
      "outputs": [
        {
          "name": "stdout",
          "output_type": "stream",
          "text": [
            "Joi\n"
          ]
        }
      ],
      "source": [
        "if zi == \"Luni\":\n",
        "    print(\"Luni\")\n",
        "elif zi == \"Marti\":\n",
        "    print(\"Marti\")\n",
        "elif zi == \"Miercuri\":\n",
        "    print(\"Miercuri\")\n",
        "elif zi == \"Joi\":\n",
        "    print(\"Joi\")\n",
        "elif zi == \"Vineri\":\n",
        "    print(\"Vineri\")\n",
        "elif zi == \"Sambata\":\n",
        "    print(\"Sambata\")\n",
        "elif zi == \"Duminica\":\n",
        "    print(\"Duminica\")\n",
        "else:\n",
        "    print(\"Nu exista ziua asta\")"
      ]
    },
    {
      "cell_type": "code",
      "execution_count": null,
      "metadata": {
        "id": "ewkQmtrX8elq"
      },
      "outputs": [],
      "source": [
        "x = -2"
      ]
    },
    {
      "cell_type": "code",
      "execution_count": null,
      "metadata": {
        "colab": {
          "base_uri": "https://localhost:8080/"
        },
        "id": "Gg4kfClf8ffY",
        "outputId": "80e82de9-583b-493a-c796-263b9a7fc999"
      },
      "outputs": [
        {
          "name": "stdout",
          "output_type": "stream",
          "text": [
            "x < 0\n"
          ]
        }
      ],
      "source": [
        "if x < 0:\n",
        "    print(\"x < 0\")\n",
        "elif x <= 1:\n",
        "    print(\"0 <= x <= 1\")\n",
        "else:\n",
        "    print(\"x > 1\")"
      ]
    },
    {
      "cell_type": "markdown",
      "metadata": {
        "id": "-SY95hVf8lfq"
      },
      "source": [
        "## 1.11 Alte particularitati de sintaxa"
      ]
    },
    {
      "cell_type": "markdown",
      "metadata": {
        "id": "qJtbkFdW8sFU"
      },
      "source": [
        "**1. Indentarea**\n",
        "\n",
        "În Python, indentarea este foarte importantă în scrierea codului. Spre deosebire de alte limbaje de programare ce folosesc acolade { },\n",
        "în Python indentarea este folosită pentru blocurile de cod. Indentarea este întotdeauna precedată de semnul : (două puncte).\n"
      ]
    },
    {
      "cell_type": "code",
      "execution_count": null,
      "metadata": {
        "colab": {
          "base_uri": "https://localhost:8080/",
          "height": 144
        },
        "id": "E4aPk5I48wyg",
        "outputId": "8dea497e-48e8-40ee-acf7-e54e6bf04d52"
      },
      "outputs": [
        {
          "ename": "IndentationError",
          "evalue": "ignored",
          "output_type": "error",
          "traceback": [
            "\u001b[0;36m  File \u001b[0;32m\"<ipython-input-233-ffc9404ddb65>\"\u001b[0;36m, line \u001b[0;32m2\u001b[0m\n\u001b[0;31m    b = 3 # indentare gresita\u001b[0m\n\u001b[0m    ^\u001b[0m\n\u001b[0;31mIndentationError\u001b[0m\u001b[0;31m:\u001b[0m unexpected indent\n"
          ]
        }
      ],
      "source": [
        "a = 2\n",
        "   b = 3 # indentare gresita\n",
        "c = 4"
      ]
    },
    {
      "cell_type": "code",
      "execution_count": null,
      "metadata": {
        "colab": {
          "base_uri": "https://localhost:8080/",
          "height": 144
        },
        "id": "g5NFd2tV820e",
        "outputId": "17f4ba1a-d76c-48bb-9646-1e1913bb0ecb"
      },
      "outputs": [
        {
          "ename": "IndentationError",
          "evalue": "ignored",
          "output_type": "error",
          "traceback": [
            "\u001b[0;36m  File \u001b[0;32m\"<ipython-input-234-6148e468b177>\"\u001b[0;36m, line \u001b[0;32m3\u001b[0m\n\u001b[0;31m    print('Nu am indentat corect') # nu am indentat instructiunea din cadrul lui if\u001b[0m\n\u001b[0m    ^\u001b[0m\n\u001b[0;31mIndentationError\u001b[0m\u001b[0;31m:\u001b[0m expected an indented block after 'if' statement on line 2\n"
          ]
        }
      ],
      "source": [
        "a = 3\n",
        "if a == 3:\n",
        "print('Nu am indentat corect') # nu am indentat instructiunea din cadrul lui if"
      ]
    },
    {
      "cell_type": "markdown",
      "metadata": {
        "id": "g6esZgVL8w7a"
      },
      "source": [
        "**2. Comentarii**\n",
        "\n",
        "\n",
        "Comentariile sunt folosite pentru a explica porțiuni de cod. În Python comentariile încep cu simbolul #"
      ]
    },
    {
      "cell_type": "code",
      "execution_count": null,
      "metadata": {
        "id": "t9xDCsN19WVL"
      },
      "outputs": [],
      "source": [
        "# Acesta e un comentariu"
      ]
    },
    {
      "cell_type": "markdown",
      "metadata": {
        "id": "wsUqAXqI9aYw"
      },
      "source": [
        "De asemenea comentariile pot fi plasate și la finalul unei linii:"
      ]
    },
    {
      "cell_type": "code",
      "execution_count": null,
      "metadata": {
        "id": "csezcbOL9cwY"
      },
      "outputs": [],
      "source": [
        "a = 4 # Si acesta este un comentariu"
      ]
    },
    {
      "cell_type": "markdown",
      "metadata": {
        "id": "Zx6TqWrF9irG"
      },
      "source": [
        "In cazul în care comentariul se întinde pe mai multe rânduri, fiecare linie poate să înceapă cu # sau putem opta pentru utilizarea \"\"\""
      ]
    },
    {
      "cell_type": "code",
      "execution_count": null,
      "metadata": {
        "id": "JMSx49xs9iDE"
      },
      "outputs": [],
      "source": [
        "# Acesta\n",
        "# Este\n",
        "# Un comentariu\n",
        "# Mai Lung"
      ]
    },
    {
      "cell_type": "code",
      "execution_count": null,
      "metadata": {
        "colab": {
          "base_uri": "https://localhost:8080/",
          "height": 36
        },
        "id": "PmGUcuVZ9oaC",
        "outputId": "3e3c009b-9b7f-4644-a1da-6dd542ffa842"
      },
      "outputs": [
        {
          "data": {
            "application/vnd.google.colaboratory.intrinsic+json": {
              "type": "string"
            },
            "text/plain": [
              "'\\nAcesta\\nEste un comentariu\\nFoarte \\nLung\\n'"
            ]
          },
          "execution_count": 206,
          "metadata": {},
          "output_type": "execute_result"
        }
      ],
      "source": [
        "\"\"\"\n",
        "Acesta\n",
        "Este un comentariu\n",
        "Foarte\n",
        "Lung\n",
        "\"\"\""
      ]
    },
    {
      "cell_type": "markdown",
      "metadata": {
        "id": "7j9GFanU92fY"
      },
      "source": [
        "## 1.12 Module"
      ]
    },
    {
      "cell_type": "markdown",
      "metadata": {
        "id": "yDrk0fb997eO"
      },
      "source": [
        "La fel ca și in alte limbaje de programare și în Python se pot introduce funcții și constante din alte fișiere. Un exemplu util în acest sens este dat de includerea modulului math ([puteți consulta documentația oficială pentru mai multe informații despre constantele și funcțiile pe care le pune la dispoziție ](https://docs.python.org/3/library/math.html))."
      ]
    },
    {
      "cell_type": "code",
      "execution_count": null,
      "metadata": {
        "id": "xApN99PK-ga9"
      },
      "outputs": [],
      "source": [
        "import math"
      ]
    },
    {
      "cell_type": "code",
      "execution_count": null,
      "metadata": {
        "id": "G-aCDViT-l1E"
      },
      "outputs": [],
      "source": [
        "a = math.sqrt(5)"
      ]
    },
    {
      "cell_type": "code",
      "execution_count": null,
      "metadata": {
        "colab": {
          "base_uri": "https://localhost:8080/"
        },
        "id": "yJtk6Q76-p39",
        "outputId": "140b44ee-a8c2-4eb4-9337-353701212e5b"
      },
      "outputs": [
        {
          "name": "stdout",
          "output_type": "stream",
          "text": [
            "4.605170185988092\n",
            "2.0\n"
          ]
        }
      ],
      "source": [
        "x = 100\n",
        "logaritm_natural = math.log(x)\n",
        "print(logaritm_natural)\n",
        "logaritm_baza_10 = math.log10(x)\n",
        "print(logaritm_baza_10)"
      ]
    },
    {
      "cell_type": "code",
      "execution_count": null,
      "metadata": {
        "colab": {
          "base_uri": "https://localhost:8080/"
        },
        "id": "_GJX-JNo-rk6",
        "outputId": "441fbb88-32a4-4312-fd3f-0dd262580d2d"
      },
      "outputs": [
        {
          "name": "stdout",
          "output_type": "stream",
          "text": [
            "3.141592653589793\n"
          ]
        }
      ],
      "source": [
        "b = math.pi\n",
        "print(b)"
      ]
    },
    {
      "cell_type": "code",
      "execution_count": null,
      "metadata": {
        "colab": {
          "base_uri": "https://localhost:8080/"
        },
        "id": "hjKn4-aZ-svp",
        "outputId": "9cc0bd36-3632-4e78-9999-06f845ad35bf"
      },
      "outputs": [
        {
          "name": "stdout",
          "output_type": "stream",
          "text": [
            "2.718281828459045\n"
          ]
        }
      ],
      "source": [
        "c = math.e\n",
        "print(c)"
      ]
    },
    {
      "cell_type": "code",
      "execution_count": null,
      "metadata": {
        "colab": {
          "base_uri": "https://localhost:8080/"
        },
        "id": "OIRNjd6S-unk",
        "outputId": "f8f6ef1f-9037-49e3-f724-0f761906bb26"
      },
      "outputs": [
        {
          "name": "stdout",
          "output_type": "stream",
          "text": [
            "0.5235987755982988\n",
            "7.38905609893065\n",
            "0.49999999999999994\n",
            "0.8660254037844387\n",
            "0.5773502691896257\n"
          ]
        }
      ],
      "source": [
        "angle = math.radians(30)\n",
        "print(angle)\n",
        "exponential = math.exp(2)\n",
        "print(exponential)\n",
        "sin_valoare = math.sin(angle)\n",
        "print(sin_valoare)\n",
        "cos_valoare = math.cos(angle)\n",
        "print(cos_valoare)\n",
        "tangenta_valoare = math.tan(angle)\n",
        "print(tangenta_valoare)"
      ]
    },
    {
      "cell_type": "code",
      "execution_count": null,
      "metadata": {
        "colab": {
          "base_uri": "https://localhost:8080/"
        },
        "id": "6qM0QSCF_OhU",
        "outputId": "7bef9dee-b4a7-4f74-8df2-0b9f2f70ac98"
      },
      "outputs": [
        {
          "name": "stdout",
          "output_type": "stream",
          "text": [
            "1\n"
          ]
        }
      ],
      "source": [
        "from random import randint\n",
        "\n",
        "numar_random = randint(1, 10)\n",
        "print(numar_random)"
      ]
    },
    {
      "cell_type": "markdown",
      "metadata": {
        "id": "JCcZBSfJ_m3Y"
      },
      "source": [
        "## 1.13 Programare functionala"
      ]
    },
    {
      "cell_type": "markdown",
      "metadata": {
        "id": "M9VaeqFB_pcF"
      },
      "source": [
        "În programarea funcțională, programele sunt construite prin aplicarea și compunerea funcțiilor.\n",
        "Spre deosebire de programarea procedurală, unde se folosesc secvențe de instrucțiuni ce modifică starea programului,\n",
        "programarea funcțională se bazează pe evaluarea funcțiilor matematice, evitând astfel starea și datele mutabile.\n",
        "\n",
        "Deși Python ne permite lucrul direct cu date și modificarea lor, pentru a programa funcțional este foarte important\n",
        "să nu scriem funcții ce modifică starea globală a programului, în momentul apelării lor."
      ]
    },
    {
      "cell_type": "markdown",
      "metadata": {
        "id": "cjw9d51p_sDZ"
      },
      "source": [
        "## 1.14 Functii"
      ]
    },
    {
      "cell_type": "markdown",
      "metadata": {
        "id": "1dZzHDKS_uWu"
      },
      "source": [
        "În Python funcțiile se definesc cu ajutorul cuvântului cheie def. După cuvântul cheie, este trecut numele funcției,\n",
        "urmat de paranteze rotunde unde se pun parametri acesteia separați prin virgulă, iar la final este adăugat și simbolul :(două puncte).\n",
        "Daca funcția nu are niciun parametru, nu veți pune nimic între paranteze, însă prezența acestora este obligatorie.\n",
        "Observație! Nu uitați să indentați întreg corpul funcției!\n",
        "\n",
        "\n",
        "```\n",
        "def function_name(param_1, param_2, param_3, ..., param_n):\n",
        "    #some_instructions\n",
        "```\n",
        "\n",
        "\n",
        "\n",
        "Astfel, funcția f : ℤ → ℤ, f(x) = x + 3 se scrie în Python:\n"
      ]
    },
    {
      "cell_type": "code",
      "execution_count": null,
      "metadata": {
        "id": "HMk_mdWF_9Y1"
      },
      "outputs": [],
      "source": [
        "def f(x):\n",
        "    return x + 3"
      ]
    },
    {
      "cell_type": "markdown",
      "metadata": {
        "id": "doX5aKPN__qq"
      },
      "source": [
        "Odată definită funcția, aceasta se apelează în felul următor:"
      ]
    },
    {
      "cell_type": "code",
      "execution_count": null,
      "metadata": {
        "colab": {
          "base_uri": "https://localhost:8080/"
        },
        "id": "u4a5-3q0AB6S",
        "outputId": "4c6df95b-4502-4bba-8170-ef5162741a23"
      },
      "outputs": [
        {
          "name": "stdout",
          "output_type": "stream",
          "text": [
            "5\n"
          ]
        }
      ],
      "source": [
        "a = f(2)\n",
        "print(a)"
      ]
    },
    {
      "cell_type": "code",
      "execution_count": null,
      "metadata": {
        "colab": {
          "base_uri": "https://localhost:8080/"
        },
        "id": "EO0lBTTrAIO1",
        "outputId": "f08703d9-e8a8-40a8-d4fc-7ffaf0ee148a"
      },
      "outputs": [
        {
          "name": "stdout",
          "output_type": "stream",
          "text": [
            "6\n"
          ]
        }
      ],
      "source": [
        "b = f(x=3)\n",
        "print(b)"
      ]
    },
    {
      "cell_type": "code",
      "execution_count": null,
      "metadata": {
        "colab": {
          "base_uri": "https://localhost:8080/"
        },
        "id": "WPZ8ewefAKpz",
        "outputId": "37ed5e82-da02-471c-dde7-3cb8571e9d59"
      },
      "outputs": [
        {
          "name": "stdout",
          "output_type": "stream",
          "text": [
            "23\n"
          ]
        }
      ],
      "source": [
        "c = f(4*5)\n",
        "print(c)"
      ]
    },
    {
      "cell_type": "markdown",
      "metadata": {
        "id": "vMtXGFqqAQ2W"
      },
      "source": [
        "În Python putem implementa funcții care returnează mai multe valori cu ajutorul listelor.\n",
        "De exemplu, dacă dorim să implementăm funcția\n",
        "\n",
        "f: ℤ×ℤ → ℤ×ℤ, f(x, y) = [x + y, x - y] putem scrie astfel:"
      ]
    },
    {
      "cell_type": "code",
      "execution_count": 6,
      "metadata": {
        "id": "6Go5Uv4QAUIw"
      },
      "outputs": [],
      "source": [
        "def f(x, y):\n",
        "    return [x + y, x - y]"
      ]
    },
    {
      "cell_type": "markdown",
      "metadata": {
        "id": "NQfj4NBdAZr6"
      },
      "source": [
        "O altă modalitate prin care putem scrie astfel de funcții este prin folosirea tipului de date Tuplu:"
      ]
    },
    {
      "cell_type": "code",
      "execution_count": null,
      "metadata": {
        "id": "-ssqAdWjAW-e"
      },
      "outputs": [],
      "source": [
        "def f(x, y):\n",
        "    return x + y, x - y"
      ]
    },
    {
      "cell_type": "code",
      "execution_count": 7,
      "metadata": {
        "id": "3wqdVKNxAdJk"
      },
      "outputs": [],
      "source": [
        "rezultat_1, rezultat_2 = f(2, 1)"
      ]
    },
    {
      "cell_type": "code",
      "execution_count": null,
      "metadata": {
        "colab": {
          "base_uri": "https://localhost:8080/"
        },
        "id": "vLdqF72JAg2n",
        "outputId": "7b54743b-a4ad-4923-e786-37665874fc8f"
      },
      "outputs": [
        {
          "name": "stdout",
          "output_type": "stream",
          "text": [
            "3 1\n"
          ]
        }
      ],
      "source": [
        "print(f\"{rezultat_1} {rezultat_2}\")"
      ]
    },
    {
      "cell_type": "markdown",
      "metadata": {
        "id": "LQxqAwmbAqF3"
      },
      "source": [
        "Exemplu de functie care nu returneaza nimic:"
      ]
    },
    {
      "cell_type": "code",
      "execution_count": null,
      "metadata": {
        "colab": {
          "base_uri": "https://localhost:8080/"
        },
        "id": "eSa71XURAtRo",
        "outputId": "5fb73559-3e5f-4ac0-c1ae-fd21963c4e7b"
      },
      "outputs": [
        {
          "name": "stdout",
          "output_type": "stream",
          "text": [
            "Positive: 5\n"
          ]
        }
      ],
      "source": [
        "def print_abs(x):\n",
        "    if (x > 0):\n",
        "        print(\"Positive: \" + str(x))\n",
        "    else:\n",
        "        print(\"Negative: \" + str(x))\n",
        "\n",
        "x = print_abs(5)"
      ]
    },
    {
      "cell_type": "markdown",
      "metadata": {
        "id": "4DgS7flDAxvc"
      },
      "source": [
        "## Exercitii"
      ]
    },
    {
      "cell_type": "markdown",
      "metadata": {
        "id": "0PrP34Q8A3xf"
      },
      "source": [
        "\n",
        "EXERCITIUL 1: Ultima cifră\n",
        "\n",
        "Scrieți o funcție în Python care returnează ultima cifră a numărului primit ca parametru."
      ]
    },
    {
      "cell_type": "code",
      "execution_count": null,
      "metadata": {
        "id": "mA2QiUAxA0XM"
      },
      "outputs": [],
      "source": [
        "def ultima_cifra(numar):\n",
        "    return numar % 10\n",
        "\n",
        "print(ultima_cifra(123))"
      ]
    },
    {
      "cell_type": "markdown",
      "metadata": {
        "id": "8wFUiAdPA_Ii"
      },
      "source": [
        "EXERCITIUL 2: Compus chimic\n",
        "\n",
        "Scrieți o funcție în Python care primește ca parametri numărul de atomi de carbon, de hidrogen,\n",
        "respectiv de oxigen al unui compus chimic și returnează masa moleculară a substanței corespunzătoare,\n",
        "cunoscând faptul că oxigenul are masa atomică 16, hidrogenul 1, iar carbonul 12."
      ]
    },
    {
      "cell_type": "code",
      "execution_count": null,
      "metadata": {
        "id": "b6e1ngDrBEy6"
      },
      "outputs": [],
      "source": [
        "def masa_moleculara(nr_atomi_c, nr_atomi_h, nr_atomi_o):\n",
        "    return nr_atomi_c * 12 + nr_atomi_h + nr_atomi_o * 16\n",
        "\n",
        "print(masa_moleculara(1, 4, 2))"
      ]
    },
    {
      "cell_type": "markdown",
      "metadata": {
        "id": "SxbtA8IIBHnN"
      },
      "source": [
        "EXERCITIUL 3: Numar par\n",
        "\n",
        "Scrieți o funcție în Python care primește ca parametru un număr natural si returneaza True daca numarul este par,\n",
        "altfel returneaza False."
      ]
    },
    {
      "cell_type": "code",
      "execution_count": null,
      "metadata": {
        "id": "ktX4_RS-BNmV"
      },
      "outputs": [],
      "source": [
        "def numar_par(numar):\n",
        "    return numar % 2 == 0\n",
        "\n",
        "print(numar_par(2))\n",
        "print(numar_par(3))"
      ]
    },
    {
      "cell_type": "markdown",
      "metadata": {
        "id": "lD8Cm6JEBP5l"
      },
      "source": [
        "EXERCITIUL 4: Ecuația de gradul 2\n",
        "\n",
        "Scrieți o funcție în Python care primește ca parametri trei întregi a, b, respectiv c,\n",
        "și tipărește soluțiile ecuației de gradul doi ax2 + bx + c = 0, sau un mesaj daca nu există soluții reale."
      ]
    },
    {
      "cell_type": "code",
      "execution_count": null,
      "metadata": {
        "id": "kjSKPP9pBUx-"
      },
      "outputs": [],
      "source": [
        "import math \n",
        "def ec_gr2(a, b, c):\n",
        "    delta = b * b - (4 * a * c)\n",
        "    if delta < 0:\n",
        "        print(f\"Ecuatia {a}x^2 + {b}x + {c} = 0 nu are solutii reale.\")\n",
        "    elif delta == 0:\n",
        "        root = (-1 * b) / (2 * a)\n",
        "        print(f\"Ecuatia are ca radacina dubla pe {root}\")\n",
        "    else:\n",
        "        root1 = (-1 * b + math.sqrt(delta)) / (2 * a)\n",
        "        root2 = (-1 * b - math.sqrt(delta)) / (2 * a)\n",
        "        print(f\"Ecuatia are ca radacini pe {root1} si {root2}\")\n",
        "\n",
        "ec_gr2(1, 2, 1)\n",
        "ec_gr2(1, 2, 3)\n",
        "ec_gr2(1, 2, 0) "
      ]
    },
    {
      "cell_type": "markdown",
      "metadata": {
        "id": "N8VQ7W5HBWY4"
      },
      "source": [
        "EXERCITIUL 5: An bisect\n",
        "\n",
        "Scrieți o funcție în Python care determină dacă un an (întreg) dat ca parametru e bisect, returnând un boolean.\n",
        "Dacă un an e bisect sau nu, se poate determina după următoarele reguli (va trebui sa le reformulați sau reordonați pentru a scrie funcția):\n",
        "* un an divizibil la 4 e bisect, altfel nu\n",
        "* prin excepție de la i), anii divizibili cu 100 nu sunt bisecți\n",
        "* prin excepție de la ii), anii divizibili cu 400 sunt bisecți"
      ]
    },
    {
      "cell_type": "code",
      "execution_count": null,
      "metadata": {
        "id": "lUdB9CQUBfZb"
      },
      "outputs": [],
      "source": [
        "def an_bisect(an):\n",
        "    return an % 4 == 0 and an % 100 != 0 or an % 400 == 0\n",
        "\n",
        "print(an_bisect(2000))\n",
        "print(an_bisect(1900))"
      ]
    },
    {
      "cell_type": "markdown",
      "metadata": {
        "id": "YCM1W5kgBg8M"
      },
      "source": [
        "EXERCITIUL 6: Funcție pe ramuri\n",
        "\n",
        "Implementați în Python funcția matematică definită mai jos:\n",
        "![Screenshot 2023-09-28 at 02.44.59.png](data:image/png;base64,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)"
      ]
    },
    {
      "cell_type": "code",
      "execution_count": 9,
      "metadata": {
        "id": "3XOYRejxBkau"
      },
      "outputs": [
        {
          "name": "stdout",
          "output_type": "stream",
          "text": [
            "-7\n",
            "0\n",
            "-5\n"
          ]
        }
      ],
      "source": [
        "def f(x):\n",
        "    if x < -3:\n",
        "        return 2 * x + 1\n",
        "    elif x == -3:\n",
        "        return 0\n",
        "    else:\n",
        "        return 3 * (x ** 2) + 6 * x - 5\n",
        "    \n",
        "print(f(-4))\n",
        "print(f(-3))\n",
        "print(f(0))"
      ]
    },
    {
      "cell_type": "markdown",
      "metadata": {
        "id": "oG74vejJBmAV"
      },
      "source": [
        "EXERCITIUL 7: Interval\n",
        "\n",
        "Implementați o funcție în Python care primește ca parametri trei numere naturale a, b, respectiv c,\n",
        "și returnează True în cazul în care numarul c se află în interiorul intervalului  [a; b], altfel returnează False.\n",
        "Notă: În cadrul implementarii nu se vor utiliza structuri de tipul  if...elif...else."
      ]
    },
    {
      "cell_type": "code",
      "execution_count": 10,
      "metadata": {
        "id": "0WNZ_kZHBo7e"
      },
      "outputs": [
        {
          "name": "stdout",
          "output_type": "stream",
          "text": [
            "True\n"
          ]
        }
      ],
      "source": [
        "def interval(a, b, c):\n",
        "    return c >= a and c <= b\n",
        "\n",
        "print(interval(1, 3, 2))"
      ]
    },
    {
      "cell_type": "markdown",
      "metadata": {
        "id": "eo1s2xJ7BqZx"
      },
      "source": [
        "EXERCITIUL 8: Sort\n",
        "\n",
        "Implementați o funcție în Python care primește ca parametri trei numere, a, b, respectiv c, și returnează cele 3 numere în ordine descrescatoare.\n",
        "Notă: În cadrul implementarii nu se vor utiliza structuri de tipul  if...elif...else.\n",
        "Remarcă: Se recomandă utilizarea funcților predefinite min() și max().\n",
        "Ambele funcții pot lua un număr variabil de parametri șau o listă și returnează minimul/maximul."
      ]
    },
    {
      "cell_type": "code",
      "execution_count": 12,
      "metadata": {
        "id": "nz7yj8b6BtJZ"
      },
      "outputs": [
        {
          "name": "stdout",
          "output_type": "stream",
          "text": [
            "(3, 2, 1)\n"
          ]
        }
      ],
      "source": [
        "def sort(a,b,c):\n",
        "    return max(a,b,c), a + b + c - max(a,b,c) - min(a,b,c), min(a,b,c)\n",
        "\n",
        "print(sort(1, 2, 3))"
      ]
    },
    {
      "cell_type": "markdown",
      "metadata": {
        "id": "PB7jWv0PBu4g"
      },
      "source": [
        "EXERCITIUL 9: Oră plecare/sosire\n",
        "\n",
        "Implementați o funcție în Python care primește ca parametri doua șiruri de caractere ce simbolizeaza ora sosirii,\n",
        "respectiv ora plecarii pentru un avion, în formatul  ′HH : MM : SS′ și returnează diferența în secunde între cele doua.\n",
        "Notă: Puteți extrage părți dintr-un șir de caractere astfel: nume_sir_de_caractere[indice_start : indice_sfârșit].\n",
        "Practic în loc să extrageți un singur caracter precum în exemplul din laborator, puteți extrage un subșir."
      ]
    },
    {
      "cell_type": "code",
      "execution_count": 14,
      "metadata": {
        "id": "QTkZeqM5ByAg"
      },
      "outputs": [
        {
          "name": "stdout",
          "output_type": "stream",
          "text": [
            "3600\n",
            "3660\n",
            "3661\n"
          ]
        }
      ],
      "source": [
        "def dif_timp(plecare, sosire):\n",
        "    # HH:MM:SS\n",
        "    h_plecare = int(plecare[0:2])\n",
        "    m_plecare = int(plecare[3:5])\n",
        "    s_plecare = int(plecare[6:8])\n",
        "\n",
        "    h_sosire = int(sosire[0:2])\n",
        "    m_sosire = int(sosire[3:5])\n",
        "    s_sosire = int(sosire[6:8])\n",
        "\n",
        "    if s_sosire < s_plecare:\n",
        "        if m_sosire > 0:\n",
        "            m_sosire -= 1   \n",
        "            s_sosire += 60\n",
        "        else:\n",
        "            h_sosire -= 1\n",
        "            m_sosire += 59\n",
        "            s_sosire += 60\n",
        "\n",
        "    if m_sosire < m_plecare:\n",
        "        h_sosire -= 1\n",
        "        m_sosire += 60\n",
        "\n",
        "    h = h_sosire - h_plecare\n",
        "    m = m_sosire - m_plecare\n",
        "    s = s_sosire - s_plecare\n",
        "    return 3600 * h + 60 * m + s\n",
        "\n",
        "print(dif_timp(\"12:00:00\", \"13:00:00\"))\n",
        "print(dif_timp(\"12:00:00\", \"13:01:00\"))\n",
        "print(dif_timp(\"12:00:00\", \"13:01:01\"))"
      ]
    },
    {
      "cell_type": "markdown",
      "metadata": {
        "id": "K-U6mTLLBzco"
      },
      "source": [
        "EXERCITIUL 10: Cerc\n",
        "\n",
        "Implementați o funcție în Python care primește ca parametru raza unui cerc și returnează atât lungimea discului cât și aria acestuia."
      ]
    },
    {
      "cell_type": "code",
      "execution_count": null,
      "metadata": {
        "id": "kCr6FvTIB1Wk"
      },
      "outputs": [],
      "source": [
        "def lung_arie_cerc(radius):\n",
        "    L = 2 * math.pi * radius\n",
        "    A = math.pi * radius * radius\n",
        "    return L, A\n",
        "\n",
        "print(lung_arie_cerc(1))"
      ]
    },
    {
      "cell_type": "markdown",
      "metadata": {
        "id": "lrYA1eUrGSP1"
      },
      "source": [
        "Pentru mai multe exercitii (enunturile sunt in engleza) puteti sa va uitati [aici](https://www.uio.no/studier/emner/matnat/ifi/INF1100/h15/ressurser/INF1100_exercises_4th_ed.pdf), paginile 44-51"
      ]
    }
  ],
  "metadata": {
    "colab": {
      "provenance": []
    },
    "kernelspec": {
      "display_name": "Python 3",
      "name": "python3"
    },
    "language_info": {
      "codemirror_mode": {
        "name": "ipython",
        "version": 3
      },
      "file_extension": ".py",
      "mimetype": "text/x-python",
      "name": "python",
      "nbconvert_exporter": "python",
      "pygments_lexer": "ipython3",
      "version": "3.12.0"
    }
  },
  "nbformat": 4,
  "nbformat_minor": 0
}
